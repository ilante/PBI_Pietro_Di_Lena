{
 "cells": [
  {
   "cell_type": "markdown",
   "metadata": {},
   "source": [
    "# Shell scripting - 07/05/2020\n",
    "### Programming for Bioinformatics - Module 3 Laurea Magistrale in Bioinformatics A.Y. 2019-2020\n"
   ]
  },
  {
   "cell_type": "markdown",
   "metadata": {},
   "source": [
    "Consider the following data, saved into the space-separated file fastq.txt."
   ]
  },
  {
   "cell_type": "code",
   "execution_count": null,
   "metadata": {},
   "outputs": [],
   "source": [
    "@SRR5109807 .811 811/1 \n",
    "GGCCTTGGAGGATGCATGGTTCTGGCATCTGCTTCTGGTGAGAGCCTCAGGAAACATTTATTCA \n",
    "+ \n",
    "AAAA?C11BC?AB1B1B3F1BAG1EHH1AA13DADDDG1AGHHFHHGEBA0FA0FGHFGFGFGB \n",
    "@SRR5109807 .812 812/1 \n",
    "GGCCTTGTAGGATGCATGGTTCTGGCATCTGCTTCTGGTGAGAGCCTCAGGAAACATTTATTCA \n",
    "+ \n",
    "@BBABFFFFFFFGGFGGGGGGGGHHHHHHHHHHHHHHHHHHHHHHHHHGHHGGHHHHHHFGHHF \n",
    "@SRR5109807 .813 813/1 \n",
    "GGCCTTGTAGGATGCATGGTTCTGGCATCTGCTTCTGGTGAGAGCCTCAGGAAACATTTATTCA \n",
    "+ \n",
    "BB@?AF4FFFBBGGGGGDCGGGFGHBFEHFHHHHHCFHHCF25BGHGGEC3FHGHHHGHFFGEG \n",
    "@SRR5109807 .814 814/1 \n",
    "GGCCTTGTAGGATGCATGGTTCTGGCATCTGCTTCTGGTGAGAGCCTCAGGAAACATTTATTCA \n",
    "+ \n",
    "AAABBFFFFFFFGGGGGGGGGGHHHHHHHHHGHHHHHGBGHHGHHHHHHHHHHHHHHHHHGHHH \n",
    "@SRR5109807 .815 815/1 \n",
    "GGCCTTGTAGGATGCATGGTTCTGGCATCTGCTTCTGGTGAGAGCCTCAGGAAACATTTATTCA \n",
    "+\n",
    "ABBCCFFFFFFFGGGGGGGGGGHHHHHHHHHHHHHHHHGFHHHHHHHHHHHHHHHGHIHHHHHH"
   ]
  },
  {
   "cell_type": "markdown",
   "metadata": {},
   "source": [
    "1. (2 points) What is the output of the following two commands? \n",
    "\n",
    "# (a)"
   ]
  },
  {
   "cell_type": "code",
   "execution_count": 5,
   "metadata": {},
   "outputs": [
    {
     "name": "stdout",
     "output_type": "stream",
     "text": [
      "       5\n"
     ]
    }
   ],
   "source": [
    "cat fastq.txt | cut -c 1-3 |sort -u |tail -5 | wc -l"
   ]
  },
  {
   "cell_type": "markdown",
   "metadata": {},
   "source": [
    "**cat** ``` <file name> prints contents of <> to stdout```"
   ]
  },
  {
   "cell_type": "markdown",
   "metadata": {},
   "source": [
    "**cut** ```cuts selected portion of *each* line of a file```"
   ]
  },
  {
   "cell_type": "code",
   "execution_count": 53,
   "metadata": {},
   "outputs": [
    {
     "name": "stdout",
     "output_type": "stream",
     "text": [
      "@SR\n",
      "GGC\n",
      "+ \n",
      "AAA\n",
      "@SR\n",
      "GGC\n",
      "+ \n",
      "@BB\n",
      "@SR\n",
      "GGC\n",
      "+ \n",
      "BB@\n",
      "@SR\n",
      "GGC\n",
      "+ \n",
      "AAA\n",
      "@SR\n",
      "GGC\n",
      "+\n",
      "ABB\n"
     ]
    }
   ],
   "source": [
    "cat fastq.txt | cut -c 1-3"
   ]
  },
  {
   "cell_type": "markdown",
   "metadata": {},
   "source": [
    "**sort -u** sorts unique lines"
   ]
  },
  {
   "cell_type": "code",
   "execution_count": 58,
   "metadata": {},
   "outputs": [
    {
     "name": "stdout",
     "output_type": "stream",
     "text": [
      "+ \n",
      "@BB\n",
      "@SR\n",
      "AAA\n",
      "ABB\n",
      "BB@\n",
      "GGC\n"
     ]
    }
   ],
   "source": [
    "cat fastq.txt | cut -c 1-3 | sort -u # char 1-3 are printed only if unique"
   ]
  },
  {
   "cell_type": "markdown",
   "metadata": {},
   "source": [
    "**tail -5** prints the 'tail of the file' -> last 5 lines"
   ]
  },
  {
   "cell_type": "code",
   "execution_count": 59,
   "metadata": {},
   "outputs": [
    {
     "name": "stdout",
     "output_type": "stream",
     "text": [
      "@SR\n",
      "AAA\n",
      "ABB\n",
      "BB@\n",
      "GGC\n"
     ]
    }
   ],
   "source": [
    "# char 1-3 are printed only if unique and of that only the last 5\n",
    "cat fastq.txt | cut -c 1-3 | sort -u | tail -5 "
   ]
  },
  {
   "cell_type": "markdown",
   "metadata": {},
   "source": [
    "**wc -l** word count line."
   ]
  },
  {
   "cell_type": "code",
   "execution_count": 60,
   "metadata": {},
   "outputs": [
    {
     "name": "stdout",
     "output_type": "stream",
     "text": [
      "       5\n"
     ]
    }
   ],
   "source": [
    "cat fastq.txt | cut -c 1-3 | sort -u | tail -5 | wc -l # now count the lines"
   ]
  },
  {
   "cell_type": "markdown",
   "metadata": {},
   "source": [
    "# (b) \n",
    "What is the output of the following command? (2 points)\n",
    "\n",
    "``` cat fastq.txt | cut-c 1-3 | tail -5 | sort -u| wc -l```"
   ]
  },
  {
   "cell_type": "code",
   "execution_count": 77,
   "metadata": {},
   "outputs": [
    {
     "name": "stdout",
     "output_type": "stream",
     "text": [
      "       5\n"
     ]
    }
   ],
   "source": [
    "# cat reads files sequentially, writing them to the std. output.\n",
    "cat fastq.txt | cut -c 1-3 | tail -5 | sort -u| wc -l"
   ]
  },
  {
   "cell_type": "markdown",
   "metadata": {},
   "source": [
    "### 1-2 cat fastq.txt and cut out only character 1-3 of each line"
   ]
  },
  {
   "cell_type": "code",
   "execution_count": 78,
   "metadata": {},
   "outputs": [
    {
     "name": "stdout",
     "output_type": "stream",
     "text": [
      "@SR\n",
      "GGC\n",
      "+ \n",
      "AAA\n",
      "@SR\n",
      "GGC\n",
      "+ \n",
      "@BB\n",
      "@SR\n",
      "GGC\n",
      "+ \n",
      "BB@\n",
      "@SR\n",
      "GGC\n",
      "+ \n",
      "AAA\n",
      "@SR\n",
      "GGC\n",
      "+ \n",
      "ABB\n"
     ]
    }
   ],
   "source": [
    "cat fastq.txt | cut -c 1-3 "
   ]
  },
  {
   "cell_type": "markdown",
   "metadata": {},
   "source": [
    "### 1-3 \n",
    "* cat fastq.txt\n",
    "* cut out only selected range 1-3 of each line and \n",
    "* of what ever cut selected print the last 5 lines (tail)"
   ]
  },
  {
   "cell_type": "code",
   "execution_count": 80,
   "metadata": {},
   "outputs": [
    {
     "name": "stdout",
     "output_type": "stream",
     "text": [
      "AAA\n",
      "@SR\n",
      "GGC\n",
      "+ \n",
      "ABB\n"
     ]
    }
   ],
   "source": [
    "cat fastq.txt | cut -c 1-3 | tail -5"
   ]
  },
  {
   "cell_type": "markdown",
   "metadata": {},
   "source": [
    "### 1-4 \n",
    "* cat fastq.txt: reads files sequentially, writing them to standard output\n",
    "* cut cuts out selected portions of each line of a file -c 1-3 characters 1-3 (incl) of each line\n",
    "* print tail = last part of input to stdout -5 = last five lines\n",
    "* sort -u sort and include unique lines only\n",
    "\n",
    "```\n",
    "-u, --unique\n",
    "             Unique keys.  Suppress all lines that have a key that is equal to\n",
    "             an already processed one.  This option, similarly to -s, implies\n",
    "             a stable sort.  If used with -c or -C, sort also checks that\n",
    "             there are no lines with duplicate keys.```\n",
    "            "
   ]
  },
  {
   "cell_type": "code",
   "execution_count": 82,
   "metadata": {},
   "outputs": [
    {
     "name": "stdout",
     "output_type": "stream",
     "text": [
      "+ \n",
      "@SR\n",
      "AAA\n",
      "ABB\n",
      "GGC\n"
     ]
    }
   ],
   "source": [
    "cat fastq.txt | cut -c 1-3 | tail -5 | sort -u"
   ]
  },
  {
   "cell_type": "markdown",
   "metadata": {},
   "source": [
    "### 5\n",
    "* wc -l word count -l counts each line"
   ]
  },
  {
   "cell_type": "code",
   "execution_count": 84,
   "metadata": {},
   "outputs": [
    {
     "name": "stdout",
     "output_type": "stream",
     "text": [
      "       5\n"
     ]
    }
   ],
   "source": [
    "cat fastq.txt | cut -c 1-3 | tail -5 | sort -u| wc -l"
   ]
  },
  {
   "cell_type": "markdown",
   "metadata": {},
   "source": [
    "# 2. (2 points) What is the output of the following command?\n",
    "         cat fastq.txt  | grep \"^..B\"  | wc -l\n"
   ]
  },
  {
   "cell_type": "markdown",
   "metadata": {},
   "source": [
    "cat fastq.txt will print contents of the file to the sdt ouput\n",
    "- but in this case it is piped to grep.\n",
    "\n",
    "- grep takes as std input what ever is the output of the cat fastq.txt (because it is piped).\n",
    "    - global regular expression print of \n",
    "        - ^ beginning with \n",
    "        - .. matches any 2 characters \n",
    "        - matches B\n",
    "        \n",
    "        - what ever is the output is not printed to std out but used as input for the next cmd\n",
    "        \n",
    "- piped to: wc -l counts those lines "
   ]
  },
  {
   "cell_type": "code",
   "execution_count": 2,
   "metadata": {},
   "outputs": [
    {
     "name": "stdout",
     "output_type": "stream",
     "text": [
      "@BBABFFFFFFFGGFGGGGGGGGHHHHHHHHHHHHHHHHHHHHHHHHHGHHGGHHHHHHFGHHF \n",
      "ABBCCFFFFFFFGGGGGGGGGGHHHHHHHHHHHHHHHHGFHHHHHHHHHHHHHHHGHIHHHHHH\n"
     ]
    }
   ],
   "source": [
    "cat fastq.txt | grep \"^..B\" "
   ]
  },
  {
   "cell_type": "code",
   "execution_count": 4,
   "metadata": {},
   "outputs": [
    {
     "name": "stdout",
     "output_type": "stream",
     "text": [
      "       2\n"
     ]
    }
   ],
   "source": [
    "cat fastq.txt | grep \"^..B\" | wc -l"
   ]
  },
  {
   "cell_type": "markdown",
   "metadata": {},
   "source": [
    "So the output should be 2 lines"
   ]
  },
  {
   "cell_type": "markdown",
   "metadata": {},
   "source": [
    "## 3. (3 points) What is the output of the following command?\n",
    "cat fastq.txt | awk ’BEGIN{n=0} $1 ~ /^..B/ {if($1 ~ /@/) n++}END{print n}’"
   ]
  },
  {
   "cell_type": "code",
   "execution_count": 14,
   "metadata": {},
   "outputs": [
    {
     "name": "stdout",
     "output_type": "stream",
     "text": [
      "1\n"
     ]
    }
   ],
   "source": [
    "cat fastq.txt | awk 'BEGIN{n=0} $1 ~ /^..B/ {if($1 ~ /@/) n++}END{print n}'"
   ]
  },
  {
   "cell_type": "markdown",
   "metadata": {},
   "source": [
    "\n",
    "- BEGIN{n=0} defines counter starting at 0\n",
    "- Determine if a string in $1 matches regex  ~ /^..B/\n",
    "\n",
    "Breaking it down\n",
    "- $1  in field 1, match the regex ^ beginning with ANY 2 characters \n",
    "- third caracter of field 1 = capital B\n",
    "\n",
    "    - IF field 1 contains regex /@/:\n",
    "        - increase n by 1 (n++)\n",
    "        \n",
    "- in the end print n = number of matches\n",
    "\n",
    "\n"
   ]
  },
  {
   "cell_type": "code",
   "execution_count": 19,
   "metadata": {},
   "outputs": [
    {
     "name": "stdout",
     "output_type": "stream",
     "text": [
      "@BBABFFFFFFFGGFGGGGGGGGHHHHHHHHHHHHHHHHHHHHHHHHHGHHGGHHHHHHFGHHF \n"
     ]
    }
   ],
   "source": []
  },
  {
   "cell_type": "markdown",
   "metadata": {},
   "source": [
    "\n",
    "# 4. SED\n",
    " - <b>S</b>tream <b>ED</b>itor:\n",
    "    - utility for parsing and transfroming text used for:\n",
    "        - text **substitutions**\n",
    "        - text **deletions**\n",
    "        - **selective** printing of text\n",
    "    \n",
    "    - supports regex\n",
    "    - accepts input from files of standard input (you can pipe it)\n",
    "    \n",
    "    - skeleton\n",
    "        \n",
    "        sed [options] 'comands' [file]\n",
    "    \n",
    "* [file] can be omitted when input stream comes from the std input> piped\n",
    "    \n",
    "**(3 points) What is the output of the following command?**\n",
    "        \n",
    "        cat fastq.txt | sed -e ’/^..B/d’ | sed -e ’/@/d’ | wc -l\n",
    "    \n",
    "    \n",
    "- sed -e slides3.pdf page 37:\n",
    "    - specifying multiple commands in **sed**\n",
    "    - we can specify each command with the -e option"
   ]
  },
  {
   "cell_type": "markdown",
   "metadata": {},
   "source": [
    "- find any character pos 1 and 2 \n",
    "- capital B pos 3\n",
    "- *d* stands for delete\n",
    "\n",
    "- pipe it to \n",
    "- sed -e '/@/d' : find @ and delete\n",
    "\n",
    "summary;\n",
    "delete all lines that:\n",
    "- contain a B in the 3 position\n",
    "- an @ anywhere\n",
    "\n",
    "- count the rest of the lines"
   ]
  },
  {
   "cell_type": "code",
   "execution_count": 3,
   "metadata": {},
   "outputs": [],
   "source": [
    "# just making an other file so I can keep the original\n",
    "cp fastq.txt fastq"
   ]
  },
  {
   "cell_type": "code",
   "execution_count": 1,
   "metadata": {},
   "outputs": [
    {
     "name": "stdout",
     "output_type": "stream",
     "text": [
      "      12\n"
     ]
    }
   ],
   "source": [
    "cat fastq.txt | sed -e '/^..B/d' | sed -e '/@/d' | wc -l"
   ]
  },
  {
   "cell_type": "code",
   "execution_count": 3,
   "metadata": {},
   "outputs": [
    {
     "name": "stdout",
     "output_type": "stream",
     "text": [
      "GGCCTTGGAGGATGCATGGTTCTGGCATCTGCTTCTGGTGAGAGCCTCAGGAAACATTTATTCA \n",
      "+ \n",
      "AAAA?C11BC?AB1B1B3F1BAG1EHH1AA13DADDDG1AGHHFHHGEBA0FA0FGHFGFGFGB \n",
      "GGCCTTGTAGGATGCATGGTTCTGGCATCTGCTTCTGGTGAGAGCCTCAGGAAACATTTATTCA \n",
      "+ \n",
      "GGCCTTGTAGGATGCATGGTTCTGGCATCTGCTTCTGGTGAGAGCCTCAGGAAACATTTATTCA \n",
      "+ \n",
      "GGCCTTGTAGGATGCATGGTTCTGGCATCTGCTTCTGGTGAGAGCCTCAGGAAACATTTATTCA \n",
      "+ \n",
      "AAABBFFFFFFFGGGGGGGGGGHHHHHHHHHGHHHHHGBGHHGHHHHHHHHHHHHHHHHHGHHH \n",
      "GGCCTTGTAGGATGCATGGTTCTGGCATCTGCTTCTGGTGAGAGCCTCAGGAAACATTTATTCA \n",
      "+ \n"
     ]
    }
   ],
   "source": [
    "# just trying to print what ever I would count manually durning the exam \n",
    "# --- and remember whenever you don't use -n everything that is not \n",
    "# \"acted upon\" so not looked up with a pattern or so on will be printed ANYWAYS\n",
    "sed -e '/^..B/d' fastq.txt | sed -e '/@/d' | cat"
   ]
  },
  {
   "cell_type": "code",
   "execution_count": null,
   "metadata": {},
   "outputs": [],
   "source": []
  },
  {
   "cell_type": "code",
   "execution_count": null,
   "metadata": {},
   "outputs": [],
   "source": []
  }
 ],
 "metadata": {
  "kernelspec": {
   "display_name": "Bash",
   "language": "bash",
   "name": "bash"
  },
  "language_info": {
   "codemirror_mode": "shell",
   "file_extension": ".sh",
   "mimetype": "text/x-sh",
   "name": "bash"
  }
 },
 "nbformat": 4,
 "nbformat_minor": 2
}
