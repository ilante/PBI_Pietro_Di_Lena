{
 "cells": [
  {
   "cell_type": "markdown",
   "metadata": {},
   "source": [
    "# Shell scripting - 07/05/2020\n",
    "### Programming for Bioinformatics - Module 3 Laurea Magistrale in Bioinformatics A.Y. 2019-2020\n"
   ]
  },
  {
   "cell_type": "markdown",
   "metadata": {},
   "source": [
    "Consider the following data, saved into the space-separated file fastq.txt."
   ]
  },
  {
   "cell_type": "code",
   "execution_count": null,
   "metadata": {},
   "outputs": [],
   "source": [
    "@SRR5109807 .811 811/1 \n",
    "GGCCTTGGAGGATGCATGGTTCTGGCATCTGCTTCTGGTGAGAGCCTCAGGAAACATTTATTCA \n",
    "+ \n",
    "AAAA?C11BC?AB1B1B3F1BAG1EHH1AA13DADDDG1AGHHFHHGEBA0FA0FGHFGFGFGB \n",
    "@SRR5109807 .812 812/1 \n",
    "GGCCTTGTAGGATGCATGGTTCTGGCATCTGCTTCTGGTGAGAGCCTCAGGAAACATTTATTCA \n",
    "+ \n",
    "@BBABFFFFFFFGGFGGGGGGGGHHHHHHHHHHHHHHHHHHHHHHHHHGHHGGHHHHHHFGHHF \n",
    "@SRR5109807 .813 813/1 \n",
    "GGCCTTGTAGGATGCATGGTTCTGGCATCTGCTTCTGGTGAGAGCCTCAGGAAACATTTATTCA \n",
    "+ \n",
    "BB@?AF4FFFBBGGGGGDCGGGFGHBFEHFHHHHHCFHHCF25BGHGGEC3FHGHHHGHFFGEG \n",
    "@SRR5109807 .814 814/1 \n",
    "GGCCTTGTAGGATGCATGGTTCTGGCATCTGCTTCTGGTGAGAGCCTCAGGAAACATTTATTCA \n",
    "+ \n",
    "AAABBFFFFFFFGGGGGGGGGGHHHHHHHHHGHHHHHGBGHHGHHHHHHHHHHHHHHHHHGHHH \n",
    "@SRR5109807 .815 815/1 \n",
    "GGCCTTGTAGGATGCATGGTTCTGGCATCTGCTTCTGGTGAGAGCCTCAGGAAACATTTATTCA \n",
    "+\n",
    "ABBCCFFFFFFFGGGGGGGGGGHHHHHHHHHHHHHHHHGFHHHHHHHHHHHHHHHGHIHHHHHH"
   ]
  },
  {
   "cell_type": "markdown",
   "metadata": {},
   "source": [
    "1. (2 points) What is the output of the following two commands? \n",
    "\n",
    "# (a)"
   ]
  },
  {
   "cell_type": "code",
   "execution_count": 5,
   "metadata": {},
   "outputs": [
    {
     "name": "stdout",
     "output_type": "stream",
     "text": [
      "       5\n"
     ]
    }
   ],
   "source": [
    "cat fastq.txt | cut -c 1-3 |sort -u |tail -5 | wc -l"
   ]
  },
  {
   "cell_type": "markdown",
   "metadata": {},
   "source": [
    "**cat** ``` <file name> prints contents of <> to stdout```"
   ]
  },
  {
   "cell_type": "markdown",
   "metadata": {},
   "source": [
    "**cut** ```cuts selected portion of *each* line of a file```"
   ]
  },
  {
   "cell_type": "code",
   "execution_count": 53,
   "metadata": {},
   "outputs": [
    {
     "name": "stdout",
     "output_type": "stream",
     "text": [
      "@SR\n",
      "GGC\n",
      "+ \n",
      "AAA\n",
      "@SR\n",
      "GGC\n",
      "+ \n",
      "@BB\n",
      "@SR\n",
      "GGC\n",
      "+ \n",
      "BB@\n",
      "@SR\n",
      "GGC\n",
      "+ \n",
      "AAA\n",
      "@SR\n",
      "GGC\n",
      "+\n",
      "ABB\n"
     ]
    }
   ],
   "source": [
    "cat fastq.txt | cut -c 1-3"
   ]
  },
  {
   "cell_type": "markdown",
   "metadata": {},
   "source": [
    "**sort -u** sorts unique lines"
   ]
  },
  {
   "cell_type": "code",
   "execution_count": 58,
   "metadata": {},
   "outputs": [
    {
     "name": "stdout",
     "output_type": "stream",
     "text": [
      "+ \n",
      "@BB\n",
      "@SR\n",
      "AAA\n",
      "ABB\n",
      "BB@\n",
      "GGC\n"
     ]
    }
   ],
   "source": [
    "cat fastq.txt | cut -c 1-3 | sort -u # char 1-3 are printed only if unique"
   ]
  },
  {
   "cell_type": "markdown",
   "metadata": {},
   "source": [
    "**tail -5** prints the 'tail of the file' -> last 5 lines"
   ]
  },
  {
   "cell_type": "code",
   "execution_count": 59,
   "metadata": {},
   "outputs": [
    {
     "name": "stdout",
     "output_type": "stream",
     "text": [
      "@SR\n",
      "AAA\n",
      "ABB\n",
      "BB@\n",
      "GGC\n"
     ]
    }
   ],
   "source": [
    "# char 1-3 are printed only if unique and of that only the last 5\n",
    "cat fastq.txt | cut -c 1-3 | sort -u | tail -5 "
   ]
  },
  {
   "cell_type": "markdown",
   "metadata": {},
   "source": [
    "**wc -l** word count line."
   ]
  },
  {
   "cell_type": "code",
   "execution_count": 60,
   "metadata": {},
   "outputs": [
    {
     "name": "stdout",
     "output_type": "stream",
     "text": [
      "       5\n"
     ]
    }
   ],
   "source": [
    "cat fastq.txt | cut -c 1-3 | sort -u | tail -5 | wc -l # now count the lines"
   ]
  },
  {
   "cell_type": "markdown",
   "metadata": {},
   "source": [
    "# (b) \n",
    "What is the output of the following command? (2 points)\n",
    "\n",
    "``` cat fastq.txt | cut-c 1-3 | tail -5 | sort -u| wc -l```"
   ]
  },
  {
   "cell_type": "code",
   "execution_count": 77,
   "metadata": {},
   "outputs": [
    {
     "name": "stdout",
     "output_type": "stream",
     "text": [
      "       5\n"
     ]
    }
   ],
   "source": [
    "# cat reads files sequentially, writing them to the std. output.\n",
    "cat fastq.txt | cut -c 1-3 | tail -5 | sort -u| wc -l"
   ]
  },
  {
   "cell_type": "markdown",
   "metadata": {},
   "source": [
    "### 1-2 cat fastq.txt and cut out only character 1-3 of each line"
   ]
  },
  {
   "cell_type": "code",
   "execution_count": 78,
   "metadata": {},
   "outputs": [
    {
     "name": "stdout",
     "output_type": "stream",
     "text": [
      "@SR\n",
      "GGC\n",
      "+ \n",
      "AAA\n",
      "@SR\n",
      "GGC\n",
      "+ \n",
      "@BB\n",
      "@SR\n",
      "GGC\n",
      "+ \n",
      "BB@\n",
      "@SR\n",
      "GGC\n",
      "+ \n",
      "AAA\n",
      "@SR\n",
      "GGC\n",
      "+ \n",
      "ABB\n"
     ]
    }
   ],
   "source": [
    "cat fastq.txt | cut -c 1-3 "
   ]
  },
  {
   "cell_type": "markdown",
   "metadata": {},
   "source": [
    "### 1-3 \n",
    "* cat fastq.txt\n",
    "* cut out only selected range 1-3 of each line and \n",
    "* of what ever cut selected print the last 5 lines (tail)"
   ]
  },
  {
   "cell_type": "code",
   "execution_count": 80,
   "metadata": {},
   "outputs": [
    {
     "name": "stdout",
     "output_type": "stream",
     "text": [
      "AAA\n",
      "@SR\n",
      "GGC\n",
      "+ \n",
      "ABB\n"
     ]
    }
   ],
   "source": [
    "cat fastq.txt | cut -c 1-3 | tail -5"
   ]
  },
  {
   "cell_type": "markdown",
   "metadata": {},
   "source": [
    "### 1-4 \n",
    "* cat fastq.txt: reads files sequentially, writing them to standard output\n",
    "* cut cuts out selected portions of each line of a file -c 1-3 characters 1-3 (incl) of each line\n",
    "* print tail = last part of input to stdout -5 = last five lines\n",
    "* sort -u sort and include unique lines only\n",
    "\n",
    "```\n",
    "-u, --unique\n",
    "             Unique keys.  Suppress all lines that have a key that is equal to\n",
    "             an already processed one.  This option, similarly to -s, implies\n",
    "             a stable sort.  If used with -c or -C, sort also checks that\n",
    "             there are no lines with duplicate keys.```\n",
    "            "
   ]
  },
  {
   "cell_type": "code",
   "execution_count": 82,
   "metadata": {},
   "outputs": [
    {
     "name": "stdout",
     "output_type": "stream",
     "text": [
      "+ \n",
      "@SR\n",
      "AAA\n",
      "ABB\n",
      "GGC\n"
     ]
    }
   ],
   "source": [
    "cat fastq.txt | cut -c 1-3 | tail -5 | sort -u"
   ]
  },
  {
   "cell_type": "markdown",
   "metadata": {},
   "source": [
    "### 5\n",
    "* wc -l word count -l counts each line"
   ]
  },
  {
   "cell_type": "code",
   "execution_count": 84,
   "metadata": {},
   "outputs": [
    {
     "name": "stdout",
     "output_type": "stream",
     "text": [
      "       5\n"
     ]
    }
   ],
   "source": [
    "cat fastq.txt | cut -c 1-3 | tail -5 | sort -u| wc -l"
   ]
  },
  {
   "cell_type": "markdown",
   "metadata": {},
   "source": [
    "# 2. (2 points) What is the output of the following command?\n",
    "         cat fastq.txt  | grep \"^..B\"  | wc -l\n"
   ]
  },
  {
   "cell_type": "markdown",
   "metadata": {},
   "source": [
    "cat fastq.txt will print contents of the file to the sdt ouput\n",
    "- but in this case it is piped to grep.\n",
    "\n",
    "- grep takes as std input what ever is the output of the cat fastq.txt (because it is piped).\n",
    "    - global regular expression print of \n",
    "        - ^ beginning with \n",
    "        - .. matches any 2 characters \n",
    "        - matches B\n",
    "        \n",
    "        - what ever is the output is not printed to std out but used as input for the next cmd\n",
    "        \n",
    "- piped to: wc -l counts those lines "
   ]
  },
  {
   "cell_type": "code",
   "execution_count": 2,
   "metadata": {},
   "outputs": [
    {
     "name": "stdout",
     "output_type": "stream",
     "text": [
      "@BBABFFFFFFFGGFGGGGGGGGHHHHHHHHHHHHHHHHHHHHHHHHHGHHGGHHHHHHFGHHF \n",
      "ABBCCFFFFFFFGGGGGGGGGGHHHHHHHHHHHHHHHHGFHHHHHHHHHHHHHHHGHIHHHHHH\n"
     ]
    }
   ],
   "source": [
    "cat fastq.txt | grep \"^..B\" "
   ]
  },
  {
   "cell_type": "code",
   "execution_count": 4,
   "metadata": {},
   "outputs": [
    {
     "name": "stdout",
     "output_type": "stream",
     "text": [
      "       2\n"
     ]
    }
   ],
   "source": [
    "cat fastq.txt | grep \"^..B\" | wc -l"
   ]
  },
  {
   "cell_type": "markdown",
   "metadata": {},
   "source": [
    "So the output should be 2 lines"
   ]
  },
  {
   "cell_type": "markdown",
   "metadata": {},
   "source": [
    "## 3. (3 points) What is the output of the following command?\n",
    "cat fastq.txt | awk ’BEGIN{n=0} $1 ~ /^..B/ {if($1 ~ /@/) n++}END{print n}’"
   ]
  },
  {
   "cell_type": "code",
   "execution_count": 14,
   "metadata": {},
   "outputs": [
    {
     "name": "stdout",
     "output_type": "stream",
     "text": [
      "1\n"
     ]
    }
   ],
   "source": [
    "cat fastq.txt | awk 'BEGIN{n=0} $1 ~ /^..B/ {if($1 ~ /@/) n++}END{print n}'"
   ]
  },
  {
   "cell_type": "markdown",
   "metadata": {},
   "source": [
    "\n",
    "- BEGIN{n=0} defines counter starting at 0\n",
    "- Determine if a string in $1 matches regex  ~ /^..B/\n",
    "\n",
    "Breaking it down\n",
    "- $1  in field 1, match the regex ^ beginning with ANY 2 characters \n",
    "- third caracter of field 1 = capital B\n",
    "\n",
    "    - IF field 1 contains regex /@/:\n",
    "        - increase n by 1 (n++)\n",
    "        \n",
    "- in the end print n = number of matches\n",
    "\n",
    "\n"
   ]
  },
  {
   "cell_type": "code",
   "execution_count": 19,
   "metadata": {},
   "outputs": [
    {
     "name": "stdout",
     "output_type": "stream",
     "text": [
      "@BBABFFFFFFFGGFGGGGGGGGHHHHHHHHHHHHHHHHHHHHHHHHHGHHGGHHHHHHFGHHF \n"
     ]
    }
   ],
   "source": []
  },
  {
   "cell_type": "markdown",
   "metadata": {},
   "source": [
    "\n",
    "# 4. SED\n",
    " - <b>S</b>tream <b>ED<\\b>itor:\n",
    "    - utility for parsing and transfroming text used for:\n",
    "        - text **substitutions**\n",
    "        - text **deletions**\n",
    "        - **selective** printing of text\n",
    "    \n",
    "    - supports regex\n",
    "    - accepts input from files of standard input (you can pipe it)\n",
    "    \n",
    "    - skeleton\n",
    "        \n",
    "        sed [options] 'comands' [file]\n",
    "    \n",
    "* [file] can be omitted when input stream comes from the std input> piped\n",
    "    \n",
    "**(3 points) What is the output of the following command?**\n",
    "        \n",
    "        cat fastq.txt | sed -e ’/^..B/d’ | sed -e ’/@/d’ | wc -l\n",
    "    \n",
    "    \n",
    "- sed -e slides3.pdf page 37:\n",
    "    - specifying multiple commands in **sed**\n",
    "    - we can specify each command with the -e option"
   ]
  },
  {
   "cell_type": "markdown",
   "metadata": {},
   "source": [
    "- find any character pos 1 and 2 \n",
    "- capital B pos 3\n",
    "- *d* stands for delete\n",
    "\n",
    "- pipe it to \n",
    "- sed -e '/@/d' : find @ and delete\n",
    "\n",
    "summary;\n",
    "delete all lines that:\n",
    "- contain a B in the 3 position\n",
    "- an @ anywhere\n",
    "\n",
    "- count the rest of the lines"
   ]
  },
  {
   "cell_type": "code",
   "execution_count": 3,
   "metadata": {},
   "outputs": [],
   "source": [
    "cp fastq.txt fastq"
   ]
  },
  {
   "cell_type": "code",
   "execution_count": 13,
   "metadata": {},
   "outputs": [
    {
     "name": "stdout",
     "output_type": "stream",
     "text": [
      "      12\n"
     ]
    }
   ],
   "source": [
    "cat fastq.txt | sed -e '/^..B/d' | sed -e '/@/d' | wc -l"
   ]
  },
  {
   "cell_type": "code",
   "execution_count": null,
   "metadata": {},
   "outputs": [],
   "source": [
    "catfastq.txt |cut-c1-3|tail-5|sort-u|wc-l 2. "
   ]
  },
  {
   "cell_type": "markdown",
   "metadata": {},
   "source": [
    "\n",
    "         cat fastq.txt  | grep \"^..B\"  | wc -l\n",
    "3. (3 points) What is the output of the following command?\n",
    "  cat fastq.txt | awk ’BEGIN{n=0} $1 ~ /^..B/ {if($1 ~ /@/) n++}END{print n}’\n",
    "4. (3 points) What is the output of the following command?\n",
    "cat fastq.txt | sed -e ’/^..B/d’ | sed -e ’/@/d’ | wc -l"
   ]
  },
  {
   "cell_type": "code",
   "execution_count": 48,
   "metadata": {},
   "outputs": [
    {
     "name": "stdout",
     "output_type": "stream",
     "text": [
      "811 811/1 \n",
      "GGCCTTGGAGGATGCATGGTTCTGGCATCTGCTTCTGGTGAGAGCCTCAGGAAACATTTATTCA \n",
      "+ \n",
      "AAAA?C11BC?AB1B1B3F1BAG1EHH1AA13DADDDG1AGHHFHHGEBA0FA0FGHFGFGFGB \n",
      "812 812/1 \n",
      "GGCCTTGTAGGATGCATGGTTCTGGCATCTGCTTCTGGTGAGAGCCTCAGGAAACATTTATTCA \n",
      "+ \n",
      "@BBABFFFFFFFGGFGGGGGGGGHHHHHHHHHHHHHHHHHHHHHHHHHGHHGGHHHHHHFGHHF \n",
      "813 813/1 \n",
      "GGCCTTGTAGGATGCATGGTTCTGGCATCTGCTTCTGGTGAGAGCCTCAGGAAACATTTATTCA \n",
      "+ \n",
      "BB@?AF4FFFBBGGGGGDCGGGFGHBFEHFHHHHHCFHHCF25BGHGGEC3FHGHHHGHFFGEG \n",
      "814 814/1 \n",
      "GGCCTTGTAGGATGCATGGTTCTGGCATCTGCTTCTGGTGAGAGCCTCAGGAAACATTTATTCA \n",
      "+ \n",
      "AAABBFFFFFFFGGGGGGGGGGHHHHHHHHHGHHHHHGBGHHGHHHHHHHHHHHHHHHHHGHHH \n",
      "815 815/1 \n",
      "GGCCTTGTAGGATGCATGGTTCTGGCATCTGCTTCTGGTGAGAGCCTCAGGAAACATTTATTCA \n",
      "+\n",
      "ABBCCFFFFFFFGGGGGGGGGGHHHHHHHHHHHHHHHHGFHHHHHHHHHHHHHHHGHIHHHHHH"
     ]
    }
   ],
   "source": []
  },
  {
   "cell_type": "code",
   "execution_count": 50,
   "metadata": {},
   "outputs": [
    {
     "name": "stdout",
     "output_type": "stream",
     "text": [
      "##\n",
      "# User Database\n",
      "# \n",
      "# Note that this file is consulted directly only when the system is running\n",
      "# in single-user mode.  At other times this information is provided by\n",
      "# Open Directory.\n",
      "#\n",
      "# See the opendirectoryd(8) man page for additional information about\n",
      "# Open Directory.\n",
      "##\n",
      "nobody:*:-2:-2:Unprivileged User:/var/empty:/usr/bin/false\n",
      "root:*:0:0:System Administrator:/var/root:/bin/sh\n",
      "daemon:*:1:1:System Services:/var/root:/usr/bin/false\n",
      "_uucp:*:4:4:Unix to Unix Copy Protocol:/var/spool/uucp:/usr/sbin/uucico\n",
      "_taskgated:*:13:13:Task Gate Daemon:/var/empty:/usr/bin/false\n",
      "_networkd:*:24:24:Network Services:/var/networkd:/usr/bin/false\n",
      "_installassistant:*:25:25:Install Assistant:/var/empty:/usr/bin/false\n",
      "_lp:*:26:26:Printing Services:/var/spool/cups:/usr/bin/false\n",
      "_postfix:*:27:27:Postfix Mail Server:/var/spool/postfix:/usr/bin/false\n",
      "_scsd:*:31:31:Service Configuration Service:/var/empty:/usr/bin/false\n",
      "_ces:*:32:32:Certificate Enrollment Service:/var/empty:/usr/bin/false\n",
      "_appstore:*:33:33:Mac App Store Service:/var/empty:/usr/bin/false\n",
      "_mcxalr:*:54:54:MCX AppLaunch:/var/empty:/usr/bin/false\n",
      "_appleevents:*:55:55:AppleEvents Daemon:/var/empty:/usr/bin/false\n",
      "_geod:*:56:56:Geo Services Daemon:/var/db/geod:/usr/bin/false\n",
      "_serialnumberd:*:58:58:Serial Number Daemon:/var/empty:/usr/bin/false\n",
      "_devdocs:*:59:59:Developer Documentation:/var/empty:/usr/bin/false\n",
      "_sandbox:*:60:60:Seatbelt:/var/empty:/usr/bin/false\n",
      "_mdnsresponder:*:65:65:mDNSResponder:/var/empty:/usr/bin/false\n",
      "_ard:*:67:67:Apple Remote Desktop:/var/empty:/usr/bin/false\n",
      "_www:*:70:70:World Wide Web Server:/Library/WebServer:/usr/bin/false\n",
      "_eppc:*:71:71:Apple Events User:/var/empty:/usr/bin/false\n",
      "_cvs:*:72:72:CVS Server:/var/empty:/usr/bin/false\n",
      "_svn:*:73:73:SVN Server:/var/empty:/usr/bin/false\n",
      "_mysql:*:74:74:MySQL Server:/var/empty:/usr/bin/false\n",
      "_sshd:*:75:75:sshd Privilege separation:/var/empty:/usr/bin/false\n",
      "_qtss:*:76:76:QuickTime Streaming Server:/var/empty:/usr/bin/false\n",
      "_cyrus:*:77:6:Cyrus Administrator:/var/imap:/usr/bin/false\n",
      "_mailman:*:78:78:Mailman List Server:/var/empty:/usr/bin/false\n",
      "_appserver:*:79:79:Application Server:/var/empty:/usr/bin/false\n",
      "_clamav:*:82:82:ClamAV Daemon:/var/virusmails:/usr/bin/false\n",
      "_amavisd:*:83:83:AMaViS Daemon:/var/virusmails:/usr/bin/false\n",
      "_jabber:*:84:84:Jabber XMPP Server:/var/empty:/usr/bin/false\n",
      "_appowner:*:87:87:Application Owner:/var/empty:/usr/bin/false\n",
      "_windowserver:*:88:88:WindowServer:/var/empty:/usr/bin/false\n",
      "_spotlight:*:89:89:Spotlight:/var/empty:/usr/bin/false\n",
      "_tokend:*:91:91:Token Daemon:/var/empty:/usr/bin/false\n",
      "_securityagent:*:92:92:SecurityAgent:/var/db/securityagent:/usr/bin/false\n",
      "_calendar:*:93:93:Calendar:/var/empty:/usr/bin/false\n",
      "_teamsserver:*:94:94:TeamsServer:/var/teamsserver:/usr/bin/false\n",
      "_update_sharing:*:95:-2:Update Sharing:/var/empty:/usr/bin/false\n",
      "_installer:*:96:-2:Installer:/var/empty:/usr/bin/false\n",
      "_atsserver:*:97:97:ATS Server:/var/empty:/usr/bin/false\n",
      "_ftp:*:98:-2:FTP Daemon:/var/empty:/usr/bin/false\n",
      "_unknown:*:99:99:Unknown User:/var/empty:/usr/bin/false\n",
      "_softwareupdate:*:200:200:Software Update Service:/var/db/softwareupdate:/usr/bin/false\n",
      "_coreaudiod:*:202:202:Core Audio Daemon:/var/empty:/usr/bin/false\n",
      "_screensaver:*:203:203:Screensaver:/var/empty:/usr/bin/false\n",
      "_locationd:*:205:205:Location Daemon:/var/db/locationd:/usr/bin/false\n",
      "_trustevaluationagent:*:208:208:Trust Evaluation Agent:/var/empty:/usr/bin/false\n",
      "_timezone:*:210:210:AutoTimeZoneDaemon:/var/empty:/usr/bin/false\n",
      "_lda:*:211:211:Local Delivery Agent:/var/empty:/usr/bin/false\n",
      "_cvmsroot:*:212:212:CVMS Root:/var/empty:/usr/bin/false\n",
      "_usbmuxd:*:213:213:iPhone OS Device Helper:/var/db/lockdown:/usr/bin/false\n",
      "_dovecot:*:214:6:Dovecot Administrator:/var/empty:/usr/bin/false\n",
      "_dpaudio:*:215:215:DP Audio:/var/empty:/usr/bin/false\n",
      "_postgres:*:216:216:PostgreSQL Server:/var/empty:/usr/bin/false\n",
      "_krbtgt:*:217:-2:Kerberos Ticket Granting Ticket:/var/empty:/usr/bin/false\n",
      "_kadmin_admin:*:218:-2:Kerberos Admin Service:/var/empty:/usr/bin/false\n",
      "_kadmin_changepw:*:219:-2:Kerberos Change Password Service:/var/empty:/usr/bin/false\n",
      "_devicemgr:*:220:220:Device Management Server:/var/empty:/usr/bin/false\n",
      "_webauthserver:*:221:221:Web Auth Server:/var/empty:/usr/bin/false\n",
      "_netbios:*:222:222:NetBIOS:/var/empty:/usr/bin/false\n",
      "_warmd:*:224:224:Warm Daemon:/var/empty:/usr/bin/false\n",
      "_dovenull:*:227:227:Dovecot Authentication:/var/empty:/usr/bin/false\n",
      "_netstatistics:*:228:228:Network Statistics Daemon:/var/empty:/usr/bin/false\n",
      "_avbdeviced:*:229:-2:Ethernet AVB Device Daemon:/var/empty:/usr/bin/false\n",
      "_krb_krbtgt:*:230:-2:Open Directory Kerberos Ticket Granting Ticket:/var/empty:/usr/bin/false\n",
      "_krb_kadmin:*:231:-2:Open Directory Kerberos Admin Service:/var/empty:/usr/bin/false\n",
      "_krb_changepw:*:232:-2:Open Directory Kerberos Change Password Service:/var/empty:/usr/bin/false\n"
     ]
    }
   ],
   "source": [
    "head -80 /etc/passwd"
   ]
  },
  {
   "cell_type": "code",
   "execution_count": 51,
   "metadata": {},
   "outputs": [
    {
     "name": "stdout",
     "output_type": "stream",
     "text": [
      "##\n",
      "# User Database\n",
      "# \n",
      "# Note that this file is consulted directly only when the system is running\n",
      "# in single-user mode.  At other times this information is provided by\n",
      "# Open Directory.\n",
      "#\n",
      "# See the opendirectoryd(8) man page for additional information about\n",
      "# Open Directory.\n",
      "##\n",
      "nobody:/usr/bin/false\n",
      "root:/bin/sh\n",
      "daemon:/usr/bin/false\n",
      "_uucp:/usr/sbin/uucico\n",
      "_taskgated:/usr/bin/false\n",
      "_networkd:/usr/bin/false\n",
      "_installassistant:/usr/bin/false\n",
      "_lp:/usr/bin/false\n",
      "_postfix:/usr/bin/false\n",
      "_scsd:/usr/bin/false\n",
      "_ces:/usr/bin/false\n",
      "_appstore:/usr/bin/false\n",
      "_mcxalr:/usr/bin/false\n",
      "_appleevents:/usr/bin/false\n",
      "_geod:/usr/bin/false\n",
      "_serialnumberd:/usr/bin/false\n",
      "_devdocs:/usr/bin/false\n",
      "_sandbox:/usr/bin/false\n",
      "_mdnsresponder:/usr/bin/false\n",
      "_ard:/usr/bin/false\n",
      "_www:/usr/bin/false\n",
      "_eppc:/usr/bin/false\n",
      "_cvs:/usr/bin/false\n",
      "_svn:/usr/bin/false\n",
      "_mysql:/usr/bin/false\n",
      "_sshd:/usr/bin/false\n",
      "_qtss:/usr/bin/false\n",
      "_cyrus:/usr/bin/false\n",
      "_mailman:/usr/bin/false\n",
      "_appserver:/usr/bin/false\n",
      "_clamav:/usr/bin/false\n",
      "_amavisd:/usr/bin/false\n",
      "_jabber:/usr/bin/false\n",
      "_appowner:/usr/bin/false\n",
      "_windowserver:/usr/bin/false\n",
      "_spotlight:/usr/bin/false\n",
      "_tokend:/usr/bin/false\n",
      "_securityagent:/usr/bin/false\n",
      "_calendar:/usr/bin/false\n",
      "_teamsserver:/usr/bin/false\n",
      "_update_sharing:/usr/bin/false\n",
      "_installer:/usr/bin/false\n",
      "_atsserver:/usr/bin/false\n",
      "_ftp:/usr/bin/false\n",
      "_unknown:/usr/bin/false\n",
      "_softwareupdate:/usr/bin/false\n",
      "_coreaudiod:/usr/bin/false\n",
      "_screensaver:/usr/bin/false\n",
      "_locationd:/usr/bin/false\n",
      "_trustevaluationagent:/usr/bin/false\n",
      "_timezone:/usr/bin/false\n",
      "_lda:/usr/bin/false\n",
      "_cvmsroot:/usr/bin/false\n",
      "_usbmuxd:/usr/bin/false\n",
      "_dovecot:/usr/bin/false\n",
      "_dpaudio:/usr/bin/false\n",
      "_postgres:/usr/bin/false\n",
      "_krbtgt:/usr/bin/false\n",
      "_kadmin_admin:/usr/bin/false\n",
      "_kadmin_changepw:/usr/bin/false\n",
      "_devicemgr:/usr/bin/false\n",
      "_webauthserver:/usr/bin/false\n",
      "_netbios:/usr/bin/false\n",
      "_warmd:/usr/bin/false\n",
      "_dovenull:/usr/bin/false\n",
      "_netstatistics:/usr/bin/false\n",
      "_avbdeviced:/usr/bin/false\n",
      "_krb_krbtgt:/usr/bin/false\n",
      "_krb_kadmin:/usr/bin/false\n",
      "_krb_changepw:/usr/bin/false\n",
      "_krb_kerberos:/usr/bin/false\n",
      "_krb_anonymous:/usr/bin/false\n",
      "_assetcache:/usr/bin/false\n",
      "_coremediaiod:/usr/bin/false\n",
      "_launchservicesd:/usr/bin/false\n",
      "_iconservices:/usr/bin/false\n",
      "_distnote:/usr/bin/false\n",
      "_nsurlsessiond:/usr/bin/false\n",
      "_nsurlstoraged:/usr/bin/false\n",
      "_displaypolicyd:/usr/bin/false\n",
      "_astris:/usr/bin/false\n",
      "_krbfast:/usr/bin/false\n",
      "_gamecontrollerd:/usr/bin/false\n",
      "_mbsetupuser:/bin/bash\n",
      "_ondemand:/usr/bin/false\n",
      "_xserverdocs:/usr/bin/false\n",
      "_wwwproxy:/usr/bin/false\n",
      "_mobileasset:/usr/bin/false\n",
      "_findmydevice:/usr/bin/false\n",
      "_datadetectors:/usr/bin/false\n",
      "_captiveagent:/usr/bin/false\n",
      "_ctkd:/usr/bin/false\n",
      "_applepay:/usr/bin/false\n",
      "_hidd:/usr/bin/false\n",
      "_cmiodalassistants:/usr/bin/false\n",
      "_analyticsd:/usr/bin/false\n",
      "_fpsd:/usr/bin/false\n",
      "_timed:/usr/bin/false\n"
     ]
    }
   ],
   "source": [
    "cut -d : -f 1,7 /etc/passwd"
   ]
  },
  {
   "cell_type": "code",
   "execution_count": null,
   "metadata": {},
   "outputs": [],
   "source": []
  }
 ],
 "metadata": {
  "kernelspec": {
   "display_name": "Bash",
   "language": "bash",
   "name": "bash"
  },
  "language_info": {
   "codemirror_mode": "shell",
   "file_extension": ".sh",
   "mimetype": "text/x-sh",
   "name": "bash"
  }
 },
 "nbformat": 4,
 "nbformat_minor": 2
}
