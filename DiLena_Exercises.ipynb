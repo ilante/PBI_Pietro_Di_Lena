{
 "cells": [
  {
   "cell_type": "markdown",
   "metadata": {},
   "source": [
    "## Exercises\n",
    "### Programming for Bioinformatics - Module 3 Laurea Magistrale in Bioinformatics A.Y. 2019-2020"
   ]
  },
  {
   "cell_type": "markdown",
   "metadata": {},
   "source": [
    "## 1. Basic Unix shell commands"
   ]
  },
  {
   "cell_type": "markdown",
   "metadata": {},
   "source": [
    "1. 1. Objective: browse and locate files in the file system.\n",
    "a. Find the location of the ls command.\n",
    "We can use the **which** command to locate the *ls* executable:"
   ]
  },
  {
   "cell_type": "code",
   "execution_count": 1,
   "metadata": {},
   "outputs": [
    {
     "name": "stdout",
     "output_type": "stream",
     "text": [
      "/bin/ls\n"
     ]
    }
   ],
   "source": [
    "which ls"
   ]
  },
  {
   "cell_type": "markdown",
   "metadata": {},
   "source": [
    "b. Find the **location** of the **passwd** file(s) that are readable by \n",
    "- all users \n",
    "- and writable only by the owner.\n",
    "\n",
    "We can use the **find** command to search a file in the entire filesystem:"
   ]
  },
  {
   "cell_type": "code",
   "execution_count": 2,
   "metadata": {},
   "outputs": [
    {
     "name": "stdout",
     "output_type": "stream",
     "text": [
      "find: /usr/sbin/authserver: Permission denied\n",
      "find: /.Spotlight-V100: Permission denied\n",
      "find: /Library/Application Support/Apple/ParentalControls/Users: Permission denied\n",
      "find: /Library/Application Support/Apple/AssetCache/Data: Permission denied\n",
      "find: /Library/Application Support/ApplePushService: Permission denied\n",
      "find: /Library/Application Support/Motorola Mobility/MotNetConfig: Permission denied\n",
      "find: /Library/SystemMigration/History/Migration-4912D0D9-8C25-4C45-98CE-752C0E4C1D2F/QuarantineRoot/private/var/db/datadetectors: Permission denied\n",
      "find: /Library/Caches/com.google.SoftwareUpdate.0: Permission denied\n",
      "find: /Library/Caches/com.apple.iconservices.store: Permission denied\n",
      "find: /System/Library/DirectoryServices/DefaultLocalDB/Default: Permission denied\n",
      "find: /System/Library/User Template: Permission denied\n",
      "find: /System/Library/Caches/com.apple.receiptInstaller: Permission denied\n",
      "find: /System/Library/Caches/com.apple.coresymbolicationd: Permission denied\n",
      "find: /.fseventsd: Permission denied\n",
      "/private/etc/pam.d/passwd\n",
      "find: /private/etc/cups/certs: Permission denied\n",
      "/private/etc/passwd\n",
      "find: /private/var/networkd/Library: Permission denied\n",
      "find: /private/var/install: Permission denied\n",
      "find: /private/var/ma: Permission denied\n",
      "find: /private/var/spool/mqueue: Permission denied\n",
      "find: /private/var/spool/postfix/saved: Permission denied\n",
      "find: /private/var/spool/postfix/trace: Permission denied\n",
      "find: /private/var/spool/postfix/defer: Permission denied\n",
      "find: /private/var/spool/postfix/flush: Permission denied\n",
      "find: /private/var/spool/postfix/deferred: Permission denied\n",
      "find: /private/var/spool/postfix/corrupt: Permission denied\n",
      "find: /private/var/spool/postfix/public: Permission denied\n",
      "find: /private/var/spool/postfix/private: Permission denied\n",
      "find: /private/var/spool/postfix/incoming: Permission denied\n",
      "find: /private/var/spool/postfix/active: Permission denied\n",
      "find: /private/var/spool/postfix/maildrop: Permission denied\n",
      "find: /private/var/spool/postfix/hold: Permission denied\n",
      "find: /private/var/spool/postfix/bounce: Permission denied\n",
      "find: /private/var/spool/cups: Permission denied\n",
      "find: /private/var/jabberd: Permission denied\n",
      "find: /private/var/audit: Permission denied\n",
      "find: /private/var/root: Permission denied\n",
      "find: /private/var/lib/postfix: Permission denied\n",
      "find: /private/var/db/Spotlight: Permission denied\n",
      "find: /private/var/db/locationd: Permission denied\n",
      "find: /private/var/db/analyticsd: Permission denied\n",
      "find: /private/var/db/nsurlsessiond: Permission denied\n",
      "find: /private/var/db/fpsd: Permission denied\n",
      "find: /private/var/db/hidd: Permission denied\n",
      "find: /private/var/db/geod: Permission denied\n",
      "find: /private/var/db/lockdown: Permission denied\n",
      "find: /private/var/db/datadetectors: Permission denied\n",
      "find: /private/var/db/cmiodalassistants: Permission denied\n",
      "find: /private/var/db/com.apple.xpc.roleaccountd.staging: Permission denied\n",
      "find: /private/var/db/dslocal/nodes/Default: Permission denied\n",
      "find: /private/var/db/sudo: Permission denied\n",
      "find: /private/var/db/Accessibility/86B5F81C-7427-4EEF-B57B-80F032DD4302: Permission denied\n",
      "find: /private/var/db/dhcpclient: Permission denied\n",
      "find: /private/var/db/timed: Permission denied\n",
      "find: /private/var/db/applepay: Permission denied\n",
      "find: /private/var/db/securityagent: Permission denied\n",
      "find: /private/var/db/TokenCache: Permission denied\n",
      "find: /private/var/db/ConfigurationProfiles/Setup: Permission denied\n",
      "find: /private/var/db/ConfigurationProfiles/Store: Operation not permitted\n",
      "find: /private/var/db/caches/opendirectory: Permission denied\n",
      "find: /private/var/at/tabs: Permission denied\n",
      "find: /private/var/at/tmp: Permission denied\n",
      "find: /private/var/folders/6g/37x_x0l10w19j88xjz9f7bnm000089/T: Permission denied\n",
      "find: /private/var/folders/6g/37x_x0l10w19j88xjz9f7bnm000089/C: Permission denied\n",
      "find: /private/var/folders/wy/gq8797q95f32vl7sxvf78ql00000gp/0/com.apple.LaunchServices.dv: Operation not permitted\n",
      "find: /private/var/folders/wy/gq8797q95f32vl7sxvf78ql00000gp/T: Permission denied\n",
      "find: /private/var/folders/wy/gq8797q95f32vl7sxvf78ql00000gp/C: Permission denied\n",
      "find: /private/var/folders/zz/zyxvpxvq6csfxvn_n00000b000002r/T: Permission denied\n",
      "find: /private/var/folders/zz/zyxvpxvq6csfxvn_n00000b000002r/C: Permission denied\n",
      "find: /private/var/folders/zz/zyxvpxvq6csfxvn_n000010r000086/T: Permission denied\n",
      "find: /private/var/folders/zz/zyxvpxvq6csfxvn_n000010r000086/C: Permission denied\n",
      "find: /private/var/folders/zz/zyxvpxvq6csfxvn_n00000sm00006d/T: Permission denied\n",
      "find: /private/var/folders/zz/zyxvpxvq6csfxvn_n00000sm00006d/C: Permission denied\n",
      "find: /private/var/folders/zz/zyxvpxvq6csfxvn_n00000b400002s/T: Permission denied\n",
      "find: /private/var/folders/zz/zyxvpxvq6csfxvn_n00000b400002s/C: Permission denied\n",
      "find: /private/var/folders/zz/zyxvpxvq6csfxvn_n00000c4000031/T: Permission denied\n",
      "find: /private/var/folders/zz/zyxvpxvq6csfxvn_n00000c4000031/C: Permission denied\n",
      "find: /private/var/folders/zz/zyxvpxvq6csfxvn_n000003000000r/T: Permission denied\n",
      "find: /private/var/folders/zz/zyxvpxvq6csfxvn_n000003000000r/C: Permission denied\n",
      "find: /private/var/folders/zz/zyxvpxvq6csfxvn_n00000s800006_/T: Permission denied\n",
      "find: /private/var/folders/zz/zyxvpxvq6csfxvn_n00000s800006_/C: Permission denied\n",
      "find: /private/var/folders/zz/zyxvpxvq6csfxvn_n0000084000021/T: Permission denied\n",
      "find: /private/var/folders/zz/zyxvpxvq6csfxvn_n0000084000021/C: Permission denied\n",
      "find: /private/var/folders/zz/zyxvpxvq6csfxvn_n000011800008_/T: Permission denied\n",
      "find: /private/var/folders/zz/zyxvpxvq6csfxvn_n000011800008_/C: Permission denied\n",
      "find: /private/var/folders/zz/zyxvpxvq6csfxvn_n000010w000087/T: Permission denied\n",
      "find: /private/var/folders/zz/zyxvpxvq6csfxvn_n000010w000087/C: Permission denied\n",
      "find: /private/var/folders/zz/zyxvpxvq6csfxvn_n00000y800007k/0/com.apple.nsurlsessiond: Operation not permitted\n",
      "find: /private/var/folders/zz/zyxvpxvq6csfxvn_n00000y800007k/T: Permission denied\n",
      "find: /private/var/folders/zz/zyxvpxvq6csfxvn_n00000y800007k/C: Permission denied\n",
      "find: /private/var/folders/zz/zyxvpxvq6csfxvn_n0000108000082/T: Permission denied\n",
      "find: /private/var/folders/zz/zyxvpxvq6csfxvn_n0000108000082/C: Permission denied\n",
      "find: /private/var/folders/zz/zyxvpxvq6csfxvn_n0000114000089/T: Permission denied\n",
      "find: /private/var/folders/zz/zyxvpxvq6csfxvn_n0000114000089/C: Permission denied\n",
      "find: /private/var/folders/zz/zyxvpxvq6csfxvn_n000003800000t/T: Permission denied\n",
      "find: /private/var/folders/zz/zyxvpxvq6csfxvn_n000003800000t/C: Permission denied\n",
      "find: /private/var/folders/zz/zyxvpxvq6csfxvn_n00000z000007r/0/com.apple.notificationcenter: Permission denied\n",
      "find: /private/var/folders/zz/zyxvpxvq6csfxvn_n00000z000007r/0/com.apple.pluginkit: Permission denied\n",
      "find: /private/var/folders/zz/zyxvpxvq6csfxvn_n00000z000007r/T: Permission denied\n",
      "find: /private/var/folders/zz/zyxvpxvq6csfxvn_n00000z000007r/C: Permission denied\n",
      "find: /private/var/folders/zz/zyxvpxvq6csfxvn_n000006w00001q/T: Permission denied\n",
      "find: /private/var/folders/zz/zyxvpxvq6csfxvn_n000006w00001q/C: Permission denied\n",
      "find: /private/var/folders/zz/zyxvpxvq6csfxvn_n00000s0000068/T: Permission denied\n",
      "find: /private/var/folders/zz/zyxvpxvq6csfxvn_n00000s0000068/C: Permission denied\n",
      "find: /private/var/folders/zz/zyxvpxvq6csfxvn_n00000th00006m/T: Permission denied\n",
      "find: /private/var/folders/zz/zyxvpxvq6csfxvn_n00000th00006m/C: Permission denied\n",
      "find: /private/var/folders/zz/zyxvpxvq6csfxvn_n00000xc00007b/T: Permission denied\n",
      "find: /private/var/folders/zz/zyxvpxvq6csfxvn_n00000xc00007b/C: Permission denied\n",
      "find: /private/var/folders/zz/zyxvpxvq6csfxvn_n00000sc00006b/T: Permission denied\n",
      "find: /private/var/folders/zz/zyxvpxvq6csfxvn_n00000sc00006b/C: Permission denied\n",
      "find: /private/var/folders/zz/zyxvpxvq6csfxvn_ngzzzzzvzzzzzy/T: Permission denied\n",
      "find: /private/var/folders/zz/zyxvpxvq6csfxvn_ngzzzzzvzzzzzy/C: Permission denied\n",
      "find: /private/var/folders/zz/zyxvpxvq6csfxvn_n00000bh00002w/T: Permission denied\n",
      "find: /private/var/folders/zz/zyxvpxvq6csfxvn_n00000bh00002w/C: Permission denied\n",
      "find: /private/var/folders/zz/zyxvpxvq6csfxvn_n0000000000000/0/com.apple.revisiond/com.apple.revisiond.temp: Permission denied\n",
      "find: /private/var/folders/zz/zyxvpxvq6csfxvn_n0000000000000/0/com.apple.Spotlight: Permission denied\n",
      "find: /private/var/folders/zz/zyxvpxvq6csfxvn_n0000000000000/0/com.apple.pluginkit: Permission denied\n",
      "find: /private/var/folders/zz/zyxvpxvq6csfxvn_n0000000000000/T: Permission denied\n",
      "find: /private/var/folders/zz/zyxvpxvq6csfxvn_n0000000000000/C: Permission denied\n",
      "find: /private/var/folders/ht/tzh73m4x7fzdbvh3r35q_3080000gn/0/SafariFamily: Operation not permitted\n",
      "find: /private/var/folders/ht/tzh73m4x7fzdbvh3r35q_3080000gn/0/com.apple.LaunchServices.dv: Operation not permitted\n",
      "find: /private/var/folders/ht/tzh73m4x7fzdbvh3r35q_3080000gn/0/com.apple.nsurlsessiond: Operation not permitted\n",
      "find: /private/var/folders/ht/tzh73m4x7fzdbvh3r35q_3080000gn/0/com.apple.routined: Operation not permitted\n",
      "find: /private/var/folders/ht/tzh73m4x7fzdbvh3r35q_3080000gn/C/com.apple.WebKit.WebContent.Sandbox: Operation not permitted\n",
      "find: /private/var/folders/ht/tzh73m4x7fzdbvh3r35q_3080000gn/C/com.apple.WebKit.Networking.Sandbox: Operation not permitted\n",
      "find: /private/var/run/mds: Permission denied\n",
      "find: /private/var/backups: Permission denied\n",
      "find: /private/var/agentx: Permission denied\n",
      "find: /.DocumentRevisions-V100: Permission denied\n",
      "find: /Users/gta/Music: Permission denied\n",
      "find: /Users/gta/Pictures: Permission denied\n",
      "find: /Users/gta/Desktop: Permission denied\n",
      "find: /Users/gta/Library: Permission denied\n",
      "find: /Users/gta/Public/Drop Box: Permission denied\n",
      "find: /Users/gta/Movies: Permission denied\n",
      "find: /Users/gta/Documents: Permission denied\n",
      "find: /Users/gta/Downloads: Permission denied\n",
      "find: /dev/fd/3: Not a directory\n",
      "find: /dev/fd/4: Not a directory\n"
     ]
    },
    {
     "ename": "",
     "evalue": "1",
     "output_type": "error",
     "traceback": []
    }
   ],
   "source": [
    "find / -name passwd -perm 644"
   ]
  },
  {
   "cell_type": "markdown",
   "metadata": {},
   "source": [
    "The **find** command will print a lot of **error messages**: we have **no access** rights for all the directories in the system. Note that there are several files with the passwd name into the system.\n",
    "\n",
    "c. **Move into** the directory *containing the passwd file* and launch the **ls** command, by using its **absolute path**, to list in long format the passwd file."
   ]
  },
  {
   "cell_type": "code",
   "execution_count": 3,
   "metadata": {},
   "outputs": [],
   "source": [
    "cd /etc"
   ]
  },
  {
   "cell_type": "code",
   "execution_count": 4,
   "metadata": {},
   "outputs": [
    {
     "name": "stdout",
     "output_type": "stream",
     "text": [
      "afpovertcp.cfg                        \u001b[1m\u001b[34mnewsyslog.d\u001b[39;49m\u001b[0m\n",
      "afpovertcp.cfg~orig                   nfs.conf\n",
      "\u001b[1m\u001b[35maliases\u001b[39;49m\u001b[0m                               nfs.conf~orig\n",
      "aliases.db                            notify.conf\n",
      "\u001b[1m\u001b[34mapache2\u001b[39;49m\u001b[0m                               ntp-restrict.conf\n",
      "\u001b[1m\u001b[34masl\u001b[39;49m\u001b[0m                                   ntp.conf\n",
      "asl.conf                              ntp_opendirectory.conf\n",
      "auto_home                             \u001b[1m\u001b[34mopenldap\u001b[39;49m\u001b[0m\n",
      "auto_master                           \u001b[1m\u001b[34mpam.d\u001b[39;49m\u001b[0m\n",
      "auto_master~orig                      passwd\n",
      "autofs.conf                           paths\n",
      "bashrc                                \u001b[1m\u001b[34mpaths.d\u001b[39;49m\u001b[0m\n",
      "bashrc_Apple_Terminal                 paths~orig\n",
      "bashrc~previous                       \u001b[1m\u001b[34mperiodic\u001b[39;49m\u001b[0m\n",
      "com.apple.screensharing.agent.launchd \u001b[1m\u001b[34mpf.anchors\u001b[39;49m\u001b[0m\n",
      "csh.cshrc                             pf.conf\n",
      "csh.cshrc~orig                        pf.os\n",
      "csh.login                             php-fpm.conf.default\n",
      "csh.login~orig                        \u001b[1m\u001b[34mphp-fpm.d\u001b[39;49m\u001b[0m\n",
      "csh.logout                            php.ini.default\n",
      "csh.logout~orig                       php.ini.default-previous\n",
      "\u001b[1m\u001b[34mcups\u001b[39;49m\u001b[0m                                  \u001b[1m\u001b[34mpostfix\u001b[39;49m\u001b[0m\n",
      "\u001b[1m\u001b[34mdefaults\u001b[39;49m\u001b[0m                              \u001b[1m\u001b[34mppp\u001b[39;49m\u001b[0m\n",
      "dnsextd.conf                          profile\n",
      "\u001b[1m\u001b[34memond.d\u001b[39;49m\u001b[0m                               profile~orig\n",
      "find.codes                            protocols\n",
      "find.codes~orig                       protocols~previous\n",
      "fstab.hd                              \u001b[1m\u001b[34mracoon\u001b[39;49m\u001b[0m\n",
      "fstab.hd~previous                     rc.common\n",
      "ftpusers                              rc.common~previous\n",
      "ftpusers~orig                         rc.netboot\n",
      "gettytab                              \u001b[1m\u001b[35mresolv.conf\u001b[39;49m\u001b[0m\n",
      "gettytab~orig                         rmtab\n",
      "group                                 rpc\n",
      "group~previous                        rpc~previous\n",
      "hosts                                 rtadvd.conf\n",
      "hosts.equiv                           rtadvd.conf~previous\n",
      "hosts~orig                            \u001b[1m\u001b[34msecurity\u001b[39;49m\u001b[0m\n",
      "irbrc                                 services\n",
      "kern_loader.conf                      services~previous\n",
      "kern_loader.conf~previous             shells\n",
      "krb5.keytab                           shells~orig\n",
      "\u001b[1m\u001b[35mlocaltime\u001b[39;49m\u001b[0m                             \u001b[1m\u001b[34msnmp\u001b[39;49m\u001b[0m\n",
      "locate.rc                             \u001b[1m\u001b[34mssh\u001b[39;49m\u001b[0m\n",
      "\u001b[1m\u001b[34mmach_init.d\u001b[39;49m\u001b[0m                           \u001b[1m\u001b[34mssl\u001b[39;49m\u001b[0m\n",
      "\u001b[1m\u001b[34mmach_init_per_login_session.d\u001b[39;49m\u001b[0m         sudo_lecture\n",
      "\u001b[1m\u001b[34mmach_init_per_user.d\u001b[39;49m\u001b[0m                  sudoers\n",
      "mail.rc                               \u001b[1m\u001b[34msudoers.d\u001b[39;49m\u001b[0m\n",
      "mail.rc~orig                          sudoers~orig\n",
      "man.conf                              syslog.conf\n",
      "manpaths                              syslog.conf~previous\n",
      "\u001b[1m\u001b[34mmanpaths.d\u001b[39;49m\u001b[0m                            ttys\n",
      "master.passwd                         ttys~previous\n",
      "master.passwd~orig                    \u001b[1m\u001b[34mwfs\u001b[39;49m\u001b[0m\n",
      "nanorc                                xtab\n",
      "networks                              zprofile\n",
      "networks~orig                         zshrc\n",
      "newsyslog.conf\n"
     ]
    }
   ],
   "source": [
    "ls"
   ]
  },
  {
   "cell_type": "code",
   "execution_count": null,
   "metadata": {},
   "outputs": [],
   "source": []
  }
 ],
 "metadata": {
  "kernelspec": {
   "display_name": "Bash",
   "language": "bash",
   "name": "bash"
  },
  "language_info": {
   "codemirror_mode": "shell",
   "file_extension": ".sh",
   "mimetype": "text/x-sh",
   "name": "bash"
  }
 },
 "nbformat": 4,
 "nbformat_minor": 2
}
