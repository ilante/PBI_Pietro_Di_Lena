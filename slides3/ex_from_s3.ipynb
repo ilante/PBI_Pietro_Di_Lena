{
 "cells": [
  {
   "cell_type": "code",
   "execution_count": 5,
   "metadata": {},
   "outputs": [
    {
     "name": "stdout",
     "output_type": "stream",
     "text": [
      "/Users/ila/01-Unibo/open_exams/PBI_Pietro_Di_Lena\n"
     ]
    }
   ],
   "source": [
    "pwd"
   ]
  },
  {
   "cell_type": "code",
   "execution_count": 6,
   "metadata": {},
   "outputs": [],
   "source": [
    "cd slides3"
   ]
  },
  {
   "cell_type": "code",
   "execution_count": 1,
   "metadata": {},
   "outputs": [
    {
     "name": "stdout",
     "output_type": "stream",
     "text": [
      "/Users/ila/01-Unibo/open_exams/PBI_Pietro_Di_Lena/slides3\n"
     ]
    }
   ],
   "source": [
    "pwd"
   ]
  },
  {
   "cell_type": "markdown",
   "metadata": {},
   "source": [
    "### Small summary; I was confused when is it globbing when is it reg ex found [this](https://www.linuxjournal.com/content/globbing-and-regex-so-similar-so-different)\n",
    "\n",
    "#### The ```shell``` uses globbing for the completion of file-names!\n",
    "\n",
    "   - ls *.txt\n",
    "        - will return you a list of all files that **end** in .txt\n",
    "        \n",
    "   - ls R*.txt\n",
    "        - will return you a list of all files that **begi** with capital R and **end** in .txt   \n",
    "        - the * means match the character **zero** or more times.\n",
    "        \n",
    "   - ? is used when you want to specify a single character:\n",
    "        - ls read??.txt\n",
    "             - will list read<b>me</b>\n",
    "             - but it will **not** list read.txt\n",
    "             \n",
    " The *easy* way to rememger **if** you are using globbing or regular expressions is:\n",
    " * globbing is done to *filenames* by the shell\n",
    " \n",
    " * regex invece is used for searching (parsing) text.\n",
    " \n",
    " Example:\n",
    "    "
   ]
  },
  {
   "cell_type": "code",
   "execution_count": 3,
   "metadata": {},
   "outputs": [
    {
     "name": "stdout",
     "output_type": "stream",
     "text": [
      "This is a folder containing exercises from the slides of Professor Di Lena and the necessary toy files.\n"
     ]
    }
   ],
   "source": [
    "grep file* readme.txt"
   ]
  },
  {
   "cell_type": "markdown",
   "metadata": {},
   "source": [
    "In most cases this will search the file **readme.txt** looking for the regex file* - which is what you normally want. **BUT** if you happens to be a file in the current folder that matches the file* glob - for example filename.txt - the shell will assume you meant to pass that to grep and so "
   ]
  },
  {
   "cell_type": "code",
   "execution_count": 19,
   "metadata": {},
   "outputs": [],
   "source": [
    "touch filename.txt\n",
    "mv filename.txt filename.doc"
   ]
  },
  {
   "cell_type": "markdown",
   "metadata": {},
   "source": [
    "now that I've made that file lets have a look what happens:"
   ]
  },
  {
   "cell_type": "code",
   "execution_count": 23,
   "metadata": {},
   "outputs": [
    {
     "ename": "",
     "evalue": "1",
     "output_type": "error",
     "traceback": []
    }
   ],
   "source": [
    "grep file* readme.txt"
   ]
  },
  {
   "cell_type": "markdown",
   "metadata": {},
   "source": [
    "The shell reads this as "
   ]
  },
  {
   "cell_type": "code",
   "execution_count": 22,
   "metadata": {},
   "outputs": [
    {
     "ename": "",
     "evalue": "1",
     "output_type": "error",
     "traceback": []
    }
   ],
   "source": [
    "grep filename.doc readme.txt"
   ]
  },
  {
   "cell_type": "markdown",
   "metadata": {},
   "source": [
    "This is why it is **better** to **always** use the qutation marks \"\" or ''\n",
    "- in 99 % of the cases you will not need them\n",
    "- but if for some reason you have a word that is also in a filename in the same folder you **need** them\n",
    "\n",
    "It is much safter to use"
   ]
  },
  {
   "cell_type": "code",
   "execution_count": 9,
   "metadata": {},
   "outputs": [
    {
     "name": "stdout",
     "output_type": "stream",
     "text": [
      "This is a folder containing exercises from the slides of Professor Di Lena and the necessary toy files.\n"
     ]
    }
   ],
   "source": [
    "grep \"file*\" readme.txt"
   ]
  },
  {
   "cell_type": "markdown",
   "metadata": {},
   "source": [
    "Bottom line:\n",
    "### Regex are for searching text\n",
    "\n",
    "|Special Character|Meaning in Globs|Meaning in Regex| \n",
    "|:---|:---:|:---:|\n",
    "|*|zero or more characters |zero or more of the character it follows | \n",
    "|?|single occurence of any character|zero or **one** occurence of the character **it follows**|\n",
    "|.|literal \".\" character|any single character| \n",
    "\n",
    "You might be thinking about globs when you use ```grep```...\n",
    "... just because you get expected resuts it doesnt mean they are correct or you did not get them for the **correct reason**.\n",
    "\n",
    "An example:"
   ]
  },
  {
   "cell_type": "code",
   "execution_count": 24,
   "metadata": {},
   "outputs": [
    {
     "name": "stdout",
     "output_type": "stream",
     "text": [
      "The fast dog is fast.\n",
      "The faster dogs are faster.\n",
      "A sick dog should see a dogdoc.\n",
      "This file is filename.doc\n"
     ]
    }
   ],
   "source": [
    "cat filename.doc"
   ]
  },
  {
   "cell_type": "code",
   "execution_count": 26,
   "metadata": {},
   "outputs": [
    {
     "name": "stdout",
     "output_type": "stream",
     "text": [
      "The fast dog is fast.\n",
      "The faster dogs are faster.\n"
     ]
    }
   ],
   "source": [
    "grep \"fast*\" filename.doc"
   ]
  },
  {
   "cell_type": "markdown",
   "metadata": {},
   "source": [
    "Now the first 2 lines match.\n",
    "\n",
    "That is correct no matter if you were thinking of **globs** or **regex**\n",
    "\n",
    "But if you type:"
   ]
  },
  {
   "cell_type": "code",
   "execution_count": 32,
   "metadata": {},
   "outputs": [
    {
     "name": "stdout",
     "output_type": "stream",
     "text": [
      "The fast dog is fast.\n",
      "The faster dogs are faster.\n",
      "A sick dog should see a dogdoc.\n"
     ]
    }
   ],
   "source": [
    "grep \"dogs*\" filename.doc"
   ]
  },
  {
   "cell_type": "markdown",
   "metadata": {},
   "source": [
    "Now the first 3 lines are matching\n",
    "    - grep = regex thus, the * means \"zero or more occurences of the *previous* character\"\n",
    "    \n",
    " super long post manny more examples [here](https://www.linuxjournal.com/content/globbing-and-regex-so-similar-so-different) \n",
    " \n",
    "might also be cool [RegExr: Learn Build & Test](https://regexr.com/)"
   ]
  },
  {
   "cell_type": "code",
   "execution_count": 8,
   "metadata": {},
   "outputs": [
    {
     "name": "stdout",
     "output_type": "stream",
     "text": [
      "1\tAAAAAA\n",
      "15\tAACAAG\n",
      "10\tAAATAG\n",
      "9\tATGATG\n",
      "4\tCGGAAA\n",
      "4\tCGGAAA\n",
      "7\tGAGAGA\n",
      "11\tATGATG\n"
     ]
    }
   ],
   "source": [
    "cat kmer1.txt"
   ]
  },
  {
   "cell_type": "code",
   "execution_count": 4,
   "metadata": {},
   "outputs": [
    {
     "name": "stdout",
     "output_type": "stream",
     "text": [
      "7\tGAGAGA\n"
     ]
    }
   ],
   "source": [
    "# searches for 'GAG' pattern in file and prints it.\n",
    "grep \"GAG\" kmer1.txt"
   ]
  },
  {
   "cell_type": "code",
   "execution_count": 7,
   "metadata": {},
   "outputs": [
    {
     "name": "stdout",
     "output_type": "stream",
     "text": [
      "7\tGAGAGA\n"
     ]
    }
   ],
   "source": [
    "# in this case the quotation marks are optional. (why?)\n",
    "grep GAG kmer1.txt"
   ]
  },
  {
   "cell_type": "markdown",
   "metadata": {},
   "source": [
    "* Search all lines that contain a C character \n",
    "* AND **end** ($) with the A character\n",
    "\n",
    "Why begin? wher is the ^"
   ]
  },
  {
   "cell_type": "code",
   "execution_count": 11,
   "metadata": {},
   "outputs": [
    {
     "name": "stdout",
     "output_type": "stream",
     "text": [
      "4\tCGGAAA\n",
      "4\tCGGAAA\n"
     ]
    }
   ],
   "source": [
    "grep 'C.*A$' kmer1.txt"
   ]
  },
  {
   "cell_type": "markdown",
   "metadata": {},
   "source": [
    "You can also pipe it:"
   ]
  },
  {
   "cell_type": "code",
   "execution_count": 24,
   "metadata": {},
   "outputs": [
    {
     "name": "stdout",
     "output_type": "stream",
     "text": [
      "4\tCGGAAA\n",
      "4\tCGGAAA\n"
     ]
    }
   ],
   "source": [
    "grep 'A$' kmer1.txt | grep 'C'"
   ]
  },
  {
   "cell_type": "markdown",
   "metadata": {},
   "source": [
    "####  Search all the lines that do **_not_** end with the A character and contain the C character."
   ]
  },
  {
   "cell_type": "code",
   "execution_count": 32,
   "metadata": {},
   "outputs": [
    {
     "name": "stdout",
     "output_type": "stream",
     "text": [
      "15\tAACAAG\n"
     ]
    }
   ],
   "source": [
    "# remember [^] match any character NOT contained in [^]\n",
    "grep '[^A]$' kmer1.txt | grep 'C'"
   ]
  },
  {
   "cell_type": "markdown",
   "metadata": {},
   "source": [
    "**equivalent:**"
   ]
  },
  {
   "cell_type": "code",
   "execution_count": 35,
   "metadata": {},
   "outputs": [
    {
     "name": "stdout",
     "output_type": "stream",
     "text": [
      "15\tAACAAG\n"
     ]
    }
   ],
   "source": [
    "# C.* match any single character, * preceding item has to be matched zero or more times \n",
    "# [^A] NOT char \n",
    "# this in the end $ \n",
    "grep 'C.*[^A]$' kmer1.txt "
   ]
  },
  {
   "cell_type": "markdown",
   "metadata": {},
   "source": [
    "### Searching more than one pattern:\n",
    "- e option\n",
    "\n",
    " -e pattern, --regexp=pattern\n",
    "             Specify a pattern used during the search of the input: an input\n",
    "             line is selected if it matches any of the specified patterns.\n",
    "             This option is most useful when multiple -e options are used to\n",
    "             specify multiple patterns, or when a pattern begins with a dash\n",
    "             (`-')."
   ]
  },
  {
   "cell_type": "markdown",
   "metadata": {},
   "source": [
    "### Example: \n",
    "search\n",
    "all the lines containing the GAG or TAG pattern."
   ]
  },
  {
   "cell_type": "code",
   "execution_count": 39,
   "metadata": {},
   "outputs": [
    {
     "name": "stdout",
     "output_type": "stream",
     "text": [
      "10\tAAATAG\n",
      "7\tGAGAGA\n"
     ]
    }
   ],
   "source": [
    "# 'cerchi gag e tag :p' so remember the -e is like the italian -e and\n",
    "grep -e GAG -e TAG kmer1.txt"
   ]
  },
  {
   "cell_type": "markdown",
   "metadata": {},
   "source": [
    "#### __A set of patterns__ can be read from a file with the \n",
    "-f option:\n",
    "\n",
    "     -f file, --file=file\n",
    "             Read one or more newline separated patterns from file.  Empty\n",
    "             pattern lines match every input line.  Newlines are not consid-\n",
    "             ered part of a pattern.  If file is empty, nothing is matched.\n",
    "\n",
    "Example: rewrite the previous examples. First make a file where you save the patterns to. Call the file pat.txt"
   ]
  },
  {
   "cell_type": "code",
   "execution_count": 42,
   "metadata": {},
   "outputs": [],
   "source": [
    "echo 'TAG' > pat.txt\n",
    "echo 'GAG' >> pat.txt"
   ]
  },
  {
   "cell_type": "code",
   "execution_count": 43,
   "metadata": {},
   "outputs": [
    {
     "name": "stdout",
     "output_type": "stream",
     "text": [
      "TAG\n",
      "GAG\n"
     ]
    }
   ],
   "source": [
    "# This is my 'pattern file' it contains the pattern I want to search (query) for the kmer1.txt\n",
    "cat pat.txt\n"
   ]
  },
  {
   "cell_type": "code",
   "execution_count": 44,
   "metadata": {},
   "outputs": [
    {
     "name": "stdout",
     "output_type": "stream",
     "text": [
      "10\tAAATAG\n",
      "7\tGAGAGA\n"
     ]
    }
   ],
   "source": [
    "# grep <the patternfile> <the file to be searched>\n",
    "\n",
    "grep -f pat.txt kmer1.txt\n"
   ]
  },
  {
   "cell_type": "markdown",
   "metadata": {},
   "source": [
    "### By **inverting** the match - we can print lines that do NOT contain the pattern\n",
    "- -v option\n",
    "     -v, --invert-match\n",
    "             Selected lines are those not matching any of the specified patterns."
   ]
  },
  {
   "cell_type": "code",
   "execution_count": 50,
   "metadata": {},
   "outputs": [
    {
     "name": "stdout",
     "output_type": "stream",
     "text": [
      "1\tAAAAAA\n",
      "15\tAACAAG\n",
      "9\tATGATG\n",
      "4\tCGGAAA\n",
      "4\tCGGAAA\n",
      "11\tATGATG\n"
     ]
    }
   ],
   "source": [
    "# -v = invert\n",
    "grep -v -e 'TAG' -e 'GAG' kmer1.txt"
   ]
  },
  {
   "cell_type": "code",
   "execution_count": 49,
   "metadata": {},
   "outputs": [
    {
     "name": "stdout",
     "output_type": "stream",
     "text": [
      "1\tAAAAAA\n",
      "15\tAACAAG\n",
      "9\tATGATG\n",
      "4\tCGGAAA\n",
      "4\tCGGAAA\n",
      "11\tATGATG\n"
     ]
    }
   ],
   "source": [
    "grep -v -f pat.txt kmer1.txt"
   ]
  },
  {
   "cell_type": "markdown",
   "metadata": {},
   "source": [
    "lines that do not contain \n",
    "- TAG\n",
    "- GAG\n",
    "- GAT"
   ]
  },
  {
   "cell_type": "code",
   "execution_count": 53,
   "metadata": {},
   "outputs": [
    {
     "name": "stdout",
     "output_type": "stream",
     "text": [
      "1\tAAAAAA\n",
      "15\tAACAAG\n",
      "4\tCGGAAA\n",
      "4\tCGGAAA\n"
     ]
    }
   ],
   "source": [
    "grep -v -e TAG -e GAG -e GAT kmer1.txt"
   ]
  },
  {
   "cell_type": "markdown",
   "metadata": {},
   "source": [
    "## The search pattern can be required to match exact words with the -w option. \n",
    "\n",
    "    -w, --word-regexp\n",
    "             The expression is searched for as a word (as if surrounded by `[[:<:]]' and\n",
    "\n",
    "Example: compare the following two searches of the 1 pattern in a file.\n",
    "**a)**"
   ]
  },
  {
   "cell_type": "code",
   "execution_count": 54,
   "metadata": {},
   "outputs": [
    {
     "name": "stdout",
     "output_type": "stream",
     "text": [
      "1\tAAAAAA\n",
      "15\tAACAAG\n",
      "10\tAAATAG\n",
      "11\tATGATG\n"
     ]
    }
   ],
   "source": [
    "grep 1 kmer1.txt"
   ]
  },
  {
   "cell_type": "markdown",
   "metadata": {},
   "source": [
    "returns **any** line containing the '1'"
   ]
  },
  {
   "cell_type": "code",
   "execution_count": 55,
   "metadata": {},
   "outputs": [
    {
     "name": "stdout",
     "output_type": "stream",
     "text": [
      "1\tAAAAAA\n"
     ]
    }
   ],
   "source": [
    "grep -w 1 kmer1.txt"
   ]
  },
  {
   "cell_type": "markdown",
   "metadata": {},
   "source": [
    "returns only **full word** consisting of '1'"
   ]
  },
  {
   "cell_type": "markdown",
   "metadata": {},
   "source": [
    "This is **different** from **^1$** which searches for an **entire line** containing just the string 1"
   ]
  },
  {
   "cell_type": "code",
   "execution_count": 66,
   "metadata": {},
   "outputs": [
    {
     "ename": "",
     "evalue": "1",
     "output_type": "error",
     "traceback": []
    }
   ],
   "source": [
    "### This does not produce any output\n",
    "grep $^1$ kmer1.txt "
   ]
  },
  {
   "cell_type": "markdown",
   "metadata": {},
   "source": [
    "The -c option tells grep to report the number of matching lines - **not** the matching lines\n",
    "themselves\n",
    "\n",
    "     -c, --count\n",
    "             Only a count of selected lines is written to standard output."
   ]
  },
  {
   "cell_type": "code",
   "execution_count": 68,
   "metadata": {},
   "outputs": [
    {
     "name": "stdout",
     "output_type": "stream",
     "text": [
      "4\n"
     ]
    }
   ],
   "source": [
    "grep -c 1 kmer1.txt"
   ]
  },
  {
   "cell_type": "markdown",
   "metadata": {},
   "source": [
    "Recapitualtion: if you want to find a pattern as if it was a 'word' you have to use the -w option:\n",
    "     \n",
    "     -w, --word-regexp\n",
    "             The expression is searched for as a word (as if surrounded by `[[:<:]]' and\n",
    "             `[[:>:]]'; see re_format(7)).\n",
    "             \n",
    "Now we look for '1' as a word and count how often it appears."
   ]
  },
  {
   "cell_type": "code",
   "execution_count": 69,
   "metadata": {},
   "outputs": [
    {
     "name": "stdout",
     "output_type": "stream",
     "text": [
      "1\n"
     ]
    }
   ],
   "source": [
    "grep -c -w 1 kmer1.txt"
   ]
  },
  {
   "cell_type": "markdown",
   "metadata": {},
   "source": [
    "It appears exactly one time."
   ]
  },
  {
   "cell_type": "markdown",
   "metadata": {},
   "source": [
    "We can also decide to stop the search after a **positive** number of matches ith the option\n",
    "- -m\n",
    "\n",
    "Example: searche whether the file constians at least one occurrence of the AAA pattern. \n",
    "We want to stop the search after the first match:"
   ]
  },
  {
   "cell_type": "code",
   "execution_count": 9,
   "metadata": {},
   "outputs": [
    {
     "name": "stdout",
     "output_type": "stream",
     "text": [
      "1\tAAAAAA\n"
     ]
    }
   ],
   "source": [
    "grep -m 1 AAA kmer1.txt"
   ]
  },
  {
   "cell_type": "markdown",
   "metadata": {},
   "source": [
    "# AWK Aho, Weinberger, Kernighan\n",
    "\n",
    "* text processing\n",
    "* producing formatted text reprots\n",
    "* performing arithmetic operations\n",
    "* performing string operations\n",
    "* many more\n",
    "\n",
    "- Syntax is designed to easily process rows and columns of a file.\n",
    "- It provides: \n",
    "    - string manipualiton funcitons\n",
    "    - arithmetic operators \n",
    "    - strucutred language constructs\n",
    "   "
   ]
  },
  {
   "cell_type": "markdown",
   "metadata": {},
   "source": [
    "![](./imgs/1.png)"
   ]
  },
  {
   "cell_type": "markdown",
   "metadata": {},
   "source": [
    "awk reads text lines from input stream (std. input, file, redirected output). \n",
    "* Input stream is interpreted as a set of records divided into fiels.\n",
    "     - A *record* is by default a singel line of text - lines separarted by newline.\n",
    "     - A field of a record is by default a **word** = consecutive text separated by blank space\n",
    "     - We can change the record and field separators \n",
    "* It performs the specified opterations on every recordl\n",
    "* Its possible to restrict the operations to only records that match patterns (= regex)"
   ]
  },
  {
   "cell_type": "markdown",
   "metadata": {},
   "source": [
    "### Basic syntax of an ```awk``` scirpt:\n",
    "\n",
    "    awk 'pattern {action}' [filename]\n",
    "\n",
    "* a pattern is interpreted as a regular expression if it is enclosed in slashes like so: **/regex/**\n",
    "* example: print all the lines containing the GAT string:\n"
   ]
  },
  {
   "cell_type": "code",
   "execution_count": 1,
   "metadata": {},
   "outputs": [
    {
     "name": "stdout",
     "output_type": "stream",
     "text": [
      "9\tATGATG\n",
      "11\tATGATG\n"
     ]
    }
   ],
   "source": [
    "awk '/GAT/ {print}' kmer1.txt"
   ]
  },
  {
   "cell_type": "code",
   "execution_count": 2,
   "metadata": {},
   "outputs": [
    {
     "name": "stdout",
     "output_type": "stream",
     "text": [
      "9\tATGATG\n",
      "11\tATGATG\n"
     ]
    }
   ],
   "source": [
    "grep GAT kmer1.txt"
   ]
  },
  {
   "cell_type": "markdown",
   "metadata": {},
   "source": [
    "The matching line is printed even if we do **NOT** specify the *action* {print}:"
   ]
  },
  {
   "cell_type": "code",
   "execution_count": 3,
   "metadata": {},
   "outputs": [
    {
     "name": "stdout",
     "output_type": "stream",
     "text": [
      "9\tATGATG\n",
      "11\tATGATG\n"
     ]
    }
   ],
   "source": [
    "awk '/GAT/' kmer1.txt"
   ]
  },
  {
   "cell_type": "markdown",
   "metadata": {},
   "source": [
    "We can **reference** single fields of a record with the \\\\$0, \n",
    "\\$1, \n",
    "\\\\$2, ... symbols:\n",
    "- \\$0 means the **entire** record (line)\n",
    "- \\$1 means **first field** (word) in the record\n",
    "- \\$2 means **second fiels** (word) in the record "
   ]
  },
  {
   "cell_type": "code",
   "execution_count": 7,
   "metadata": {},
   "outputs": [
    {
     "name": "stdout",
     "output_type": "stream",
     "text": [
      "1\tAAAAAA\n",
      "15\tAACAAG\n",
      "10\tAAATAG\n",
      "9\tATGATG\n",
      "4\tCGGAAA\n",
      "4\tCGGAAA\n",
      "7\tGAGAGA\n",
      "11\tATGATG\n"
     ]
    }
   ],
   "source": [
    "# reminder of how file looks like\n",
    "cat kmer1.txt"
   ]
  },
  {
   "cell_type": "code",
   "execution_count": 14,
   "metadata": {},
   "outputs": [
    {
     "name": "stdout",
     "output_type": "stream",
     "text": [
      "9\tATGATG\n",
      "11\tATGATG\n"
     ]
    }
   ],
   "source": [
    "# 1. what ever contains regex '/GAT/' 2. print the entire record = line\n",
    "awk '/GAT/ {print $0}' kmer1.txt "
   ]
  },
  {
   "cell_type": "code",
   "execution_count": 16,
   "metadata": {},
   "outputs": [
    {
     "name": "stdout",
     "output_type": "stream",
     "text": [
      "9\tATGATG\n",
      "11\tATGATG\n"
     ]
    }
   ],
   "source": [
    "# the same as \n",
    "awk '/GAT/' kmer1.txt"
   ]
  },
  {
   "cell_type": "markdown",
   "metadata": {},
   "source": [
    "---> default is print \\$0"
   ]
  },
  {
   "cell_type": "code",
   "execution_count": 5,
   "metadata": {},
   "outputs": [
    {
     "name": "stdout",
     "output_type": "stream",
     "text": [
      "ATGATG\n",
      "ATGATG\n"
     ]
    }
   ],
   "source": [
    "# 1. what ever contains regex '/GAT' 2. print the *field* = word $2\n",
    "awk '/GAT/ {print $2}' kmer1.txt "
   ]
  },
  {
   "cell_type": "code",
   "execution_count": 10,
   "metadata": {},
   "outputs": [
    {
     "name": "stdout",
     "output_type": "stream",
     "text": [
      "9\n",
      "11\n"
     ]
    }
   ],
   "source": [
    "# field 1\n",
    "awk '/GAT/ {print $1}' kmer1.txt "
   ]
  },
  {
   "cell_type": "markdown",
   "metadata": {},
   "source": [
    "More complex expression:\n",
    "Script prints all the lines that **end** with 'TAG' this can be done in 3 different ways."
   ]
  },
  {
   "cell_type": "code",
   "execution_count": 12,
   "metadata": {},
   "outputs": [
    {
     "name": "stdout",
     "output_type": "stream",
     "text": [
      "10\tAAATAG\n"
     ]
    }
   ],
   "source": [
    "awk '/TAG$/ {print $0}' kmer1.txt"
   ]
  },
  {
   "cell_type": "code",
   "execution_count": 13,
   "metadata": {},
   "outputs": [
    {
     "name": "stdout",
     "output_type": "stream",
     "text": [
      "10\tAAATAG\n"
     ]
    }
   ],
   "source": [
    "# is the same as \n",
    "awk '/TAG$/' kmer1.txt"
   ]
  },
  {
   "cell_type": "code",
   "execution_count": 18,
   "metadata": {},
   "outputs": [
    {
     "name": "stdout",
     "output_type": "stream",
     "text": [
      "10\tAAATAG\n"
     ]
    }
   ],
   "source": [
    "# same as \n",
    "grep 'TAG$' kmer1.txt"
   ]
  },
  {
   "cell_type": "markdown",
   "metadata": {},
   "source": [
    "You can specify **mulitple** patterns with different corresponding actions:"
   ]
  },
  {
   "cell_type": "code",
   "execution_count": 21,
   "metadata": {},
   "outputs": [
    {
     "name": "stdout",
     "output_type": "stream",
     "text": [
      "C AACAAG\n",
      "T AAATAG\n",
      "T ATGATG\n",
      "C CGGAAA\n",
      "C CGGAAA\n",
      "T ATGATG\n"
     ]
    }
   ],
   "source": [
    "awk '/C/ {print \"C\", $2} /T/ {print \"T\", $2}' kmer1.txt"
   ]
  },
  {
   "cell_type": "markdown",
   "metadata": {},
   "source": [
    "* how it works:\n",
    "        '/C/ {print \"C\", $2}\n",
    " \n",
    "every time the line contains a \"C\" character,  print \"C\" and the **field 2** (word 2) of the record \n",
    "        /T/ {print \"T\", $2}'\n",
    "same here just T instead of C"
   ]
  },
  {
   "cell_type": "markdown",
   "metadata": {},
   "source": [
    "## BEGIN and END blocks:\n",
    "\n",
    " - are optional \n",
    " - BEGIN performs operations before starting to parse\n",
    " - END performs operations only at the end.\n",
    " \n",
    "[A BEGIN](https://www.gnu.org/software/gawk/manual/html_node/Using-BEGIN_002fEND.html) rule is executed once only, before the first input record is read. Likewise, an END rule is executed once only, after all the input is read. \n",
    "\n",
    "Example for BEGIN: "
   ]
  },
  {
   "cell_type": "code",
   "execution_count": 27,
   "metadata": {},
   "outputs": [
    {
     "name": "stdout",
     "output_type": "stream",
     "text": [
      "ID\tKMER\n",
      "1\tAAAAAA\n",
      "15\tAACAAG\n",
      "10\tAAATAG\n",
      "9\tATGATG\n",
      "4\tCGGAAA\n",
      "4\tCGGAAA\n",
      "7\tGAGAGA\n",
      "11\tATGATG\n"
     ]
    }
   ],
   "source": [
    "# print \"ID...\" then execute print 'entire record' (line in our case) of kmer1.txt\n",
    "# \\t = tab\n",
    "awk 'BEGIN {print \"ID\\tKMER\"} {print $0}' kmer1.txt"
   ]
  },
  {
   "cell_type": "markdown",
   "metadata": {},
   "source": [
    "* We can use the BEGIN block to initialize variables and the END block to print the result of some analysis:\n",
    "  "
   ]
  },
  {
   "cell_type": "code",
   "execution_count": 26,
   "metadata": {},
   "outputs": [
    {
     "name": "stdout",
     "output_type": "stream",
     "text": [
      "1\n"
     ]
    }
   ],
   "source": [
    "# in the begining var n = 0  \n",
    "# search for globbing patter /GAG/ \n",
    "# for each time n is incremented by one\n",
    "# after parsing (in the end) print n\n",
    "awk 'BEGIN{n=0} /GAG/ {n=n+1} END {print n}' kmer1.txt\n",
    "\n",
    "#we know now that the 'GAG' is only in one record (line)"
   ]
  },
  {
   "cell_type": "markdown",
   "metadata": {},
   "source": [
    "    - the script uses the n variable as a counter of the pattern GAG\n",
    "    - the n is incremented each time a line matches the pattern\n",
    "    - the result of the search is printed at the end of the computation\n",
    "    \n",
    "    equivalent to:"
   ]
  },
  {
   "cell_type": "code",
   "execution_count": 28,
   "metadata": {},
   "outputs": [
    {
     "name": "stdout",
     "output_type": "stream",
     "text": [
      "1\n"
     ]
    }
   ],
   "source": [
    "grep -c GAG kmer1.txt"
   ]
  },
  {
   "cell_type": "markdown",
   "metadata": {},
   "source": [
    "#### There are *built-in* and *user-defined* variables in an ```awk``` script.\n",
    "\n",
    "User defined varaibles:\n",
    "* var name must contain solely **lowercase** and **uppercase letters**, **digits** and the _ character.\n",
    "* var name must **begin** with a **letter**:\n",
    "    - its **NOT** necessary to *declare* a variable before using it\n",
    "    - its *best* to inittialize them in the *BEGIN* section of the script\n",
    "\n",
    "* usefule **built-in** variables:\n",
    "    - NR represents the <b>N</b>umber of the current <b>R</b>ecord (i.e. current line)\n",
    "    - NF represents the number of <b>F</b>ields in the current <b>R</b>ecord = number of **words** in current line.\n",
    "    - FS represents the current <b>F</b>ield <b>S</b>eparator: the default is *blank* space.\n",
    "    - RS represents the current <b>R</b>ecord <b>S</b>eparator: by default new line.\n",
    "    - \\$0, \\\\$1, \\\\$2 represent the **fields** of a record."
   ]
  },
  {
   "cell_type": "markdown",
   "metadata": {},
   "source": [
    "Example: print the record/line number and the correspoinding number of fields/words."
   ]
  },
  {
   "cell_type": "code",
   "execution_count": 30,
   "metadata": {},
   "outputs": [
    {
     "name": "stdout",
     "output_type": "stream",
     "text": [
      "Line = 1 Fields = Words = 2\n",
      "Line = 2 Fields = Words = 2\n",
      "Line = 3 Fields = Words = 2\n",
      "Line = 4 Fields = Words = 2\n",
      "Line = 5 Fields = Words = 2\n",
      "Line = 6 Fields = Words = 2\n",
      "Line = 7 Fields = Words = 2\n",
      "Line = 8 Fields = Words = 2\n"
     ]
    }
   ],
   "source": [
    "awk '{print \"Line = \" NR, \"Fields = Words = \" NF}' kmer1.txt\n",
    "# print( the string \"... =\" insert value of NR, \"..=\" value of NF \n",
    "# ? what about the comma?"
   ]
  },
  {
   "cell_type": "code",
   "execution_count": 49,
   "metadata": {},
   "outputs": [
    {
     "name": "stdout",
     "output_type": "stream",
     "text": [
      "1\tAAAAAA\n",
      "15\tAACAAG\n",
      "10\tAAATAG\n",
      "9\tATGATG\n",
      "4\tCGGAAA\n",
      "4\tCGGAAA\n",
      "7\tGAGAGA\n",
      "11\tATGATG\n"
     ]
    }
   ],
   "source": [
    "cat kmer1.txt"
   ]
  },
  {
   "cell_type": "code",
   "execution_count": 36,
   "metadata": {},
   "outputs": [
    {
     "name": "stdout",
     "output_type": "stream",
     "text": [
      "\n",
      "C\n",
      "ATAG\n",
      "\n",
      "A\n",
      "A\n",
      "\n",
      "\n"
     ]
    }
   ],
   "source": [
    "awk 'BEGIN{FS=\"AA\"} {print $2}' kmer1.txt"
   ]
  },
  {
   "cell_type": "markdown",
   "metadata": {},
   "source": [
    "Why are some line blaks:? \n",
    "\n",
    "Because the record does not contain **any** AA:\n",
    "\n",
    "![](./imgs/col.png)\n"
   ]
  },
  {
   "cell_type": "markdown",
   "metadata": {},
   "source": [
    "Change the record separator (line sep) to A and count how may records there are."
   ]
  },
  {
   "cell_type": "code",
   "execution_count": 39,
   "metadata": {},
   "outputs": [
    {
     "name": "stdout",
     "output_type": "stream",
     "text": [
      "1\n",
      "2\n",
      "3\n",
      "4\n",
      "5\n",
      "6\n",
      "7\n",
      "8\n",
      "9\n",
      "10\n",
      "11\n",
      "12\n",
      "13\n",
      "14\n",
      "15\n",
      "16\n",
      "17\n",
      "18\n",
      "19\n",
      "20\n",
      "21\n",
      "22\n",
      "23\n",
      "24\n",
      "25\n",
      "26\n",
      "27\n",
      "28\n"
     ]
    }
   ],
   "source": [
    "#??? not sure why\n",
    "awk 'BEGIN{RS=\"A\";n=0} {n=n+1} {print n} ' kmer1.txt"
   ]
  },
  {
   "cell_type": "markdown",
   "metadata": {},
   "source": [
    "Because instead of a \\n at the end of each line\n",
    "```\n",
    "1\tAAAAAA\\n\n",
    "15\tAACAAG\\n\n",
    "10\tAAATAG\\n\n",
    "9\tATGATG\\n\n",
    "4\tCGGAAA\\n\n",
    "4\tCGGAAA\\n\n",
    "7\tGAGAGA\\n\n",
    "11\tATGATG\\n\n",
    "```\n",
    "\n",
    "It is *A* at the end of each line\n",
    "\n",
    "![](./imgs/3.png)"
   ]
  },
  {
   "cell_type": "code",
   "execution_count": 60,
   "metadata": {},
   "outputs": [
    {
     "name": "stdout",
     "output_type": "stream",
     "text": [
      "28\n"
     ]
    }
   ],
   "source": [
    "awk 'BEGIN{RS=\"A\"; n=0} {n=n+1} END{print n}' kmer1.txt"
   ]
  },
  {
   "cell_type": "markdown",
   "metadata": {},
   "source": [
    "p 18"
   ]
  },
  {
   "cell_type": "code",
   "execution_count": 4,
   "metadata": {},
   "outputs": [
    {
     "name": "stdout",
     "output_type": "stream",
     "text": [
      "1\tAAAAAA\n",
      "15\tAACAAG\n",
      "10\tAAATAG\n",
      "9\tATGATG\n",
      "4\tCGGAAA\n",
      "4\tCGGAAA\n",
      "7\tGAGAGA\n",
      "11\tATGATG\n"
     ]
    }
   ],
   "source": [
    "cat kmer1.txt"
   ]
  },
  {
   "cell_type": "markdown",
   "metadata": {},
   "source": [
    "Note that when not specifying which col to print\n",
    "awk will print **the entrie recrod** by default (the whole line)\n",
    "see below!"
   ]
  },
  {
   "cell_type": "code",
   "execution_count": 5,
   "metadata": {},
   "outputs": [
    {
     "name": "stdout",
     "output_type": "stream",
     "text": [
      "4\tCGGAAA\n",
      "4\tCGGAAA\n"
     ]
    }
   ],
   "source": [
    "awk '$2 ~/^C/' kmer1.txt"
   ]
  },
  {
   "cell_type": "markdown",
   "metadata": {},
   "source": [
    "Instead, if you specyfy {print $2} it will only print the second **field** (second word)"
   ]
  },
  {
   "cell_type": "code",
   "execution_count": 1,
   "metadata": {},
   "outputs": [
    {
     "name": "stdout",
     "output_type": "stream",
     "text": [
      "CGGAAA\n",
      "CGGAAA\n"
     ]
    }
   ],
   "source": [
    "awk '$2 ~/^C/ {print $2}' kmer1.txt"
   ]
  },
  {
   "cell_type": "markdown",
   "metadata": {},
   "source": [
    "p 17\n",
    "\n",
    "\n",
    "Like many protramming languages awk provides a large set of operators.\n",
    "\n",
    "| Arithmethic | Symbol |\n",
    "|:---:|:---:|\n",
    "| Addition | + |  \n",
    "| Substraction  |-|  \n",
    "| Miltiplication |*|  \n",
    "| Division  |/|  \n",
    "| Module  |%|  \n",
    "| Incr/Decr  |++ / --|  \n",
    "\n",
    " Example: Do a calculation;"
   ]
  },
  {
   "cell_type": "code",
   "execution_count": 1,
   "metadata": {},
   "outputs": [
    {
     "name": "stdout",
     "output_type": "stream",
     "text": [
      "a+b= 5 a-b= 1 a*b= 6 a/b= 1.5 a%b= 1 a= 3 a++= 4 b= 2 b--= 1\n"
     ]
    }
   ],
   "source": [
    "awk 'BEGIN{a=3; b=2; print \"a+b= \" a+b,\"a-b= \" a-b, \"a*b= \" a*b, \"a/b= \" a/b, \"a%b= \" a%b, \"a= \" a++, \"a++= \" a , \"b= \" b--, \"b--= \" b}'\n",
    "# note that the b-- prints first the original ammount and then is decremented\n",
    "# same for a++ "
   ]
  },
  {
   "cell_type": "markdown",
   "metadata": {},
   "source": [
    " |Relational | Symbol  |\n",
    " |:---:|:---:|\n",
    " |Equal to| == |\n",
    " |Not equal to| !=|\n",
    " |Less than|<|\n",
    " |Less than or equal to|<=|\n",
    " |Greater than|>|\n",
    " |Greater than or equal to|>=|\n",
    " \n",
    " lets print all lines with that have a number > 10 in the first field:\n"
   ]
  },
  {
   "cell_type": "code",
   "execution_count": 4,
   "metadata": {},
   "outputs": [
    {
     "name": "stdout",
     "output_type": "stream",
     "text": [
      "1\tAAAAAA\n",
      "15\tAACAAG\n",
      "10\tAAATAG\n",
      "9\tATGATG\n",
      "4\tCGGAAA\n",
      "4\tCGGAAA\n",
      "7\tGAGAGA\n",
      "11\tATGATG\n"
     ]
    }
   ],
   "source": [
    "cat kmer1.txt"
   ]
  },
  {
   "cell_type": "code",
   "execution_count": null,
   "metadata": {},
   "outputs": [],
   "source": [
    "awk '$1 > 10 {print $0}' kmer1.txt"
   ]
  },
  {
   "cell_type": "markdown",
   "metadata": {},
   "source": [
    " \n",
    " |Logical | Symbol |\n",
    " |:---:|:---:|\n",
    " |  AND |&&|\n",
    " |OR|\\|\\||\n",
    " |NOT| !  |\n",
    " \n",
    " \n",
    "\n",
    " lets print all lines with a first number > 11 OR < 4]\n",
    " \n",
    "some questions about that:\n",
    "\n",
    "https://colab.research.google.com/drive/1hGhij2VsBnNGBJcso2QeWEKbGlQTJnKb?usp=sharing"
   ]
  },
  {
   "cell_type": "code",
   "execution_count": 14,
   "metadata": {},
   "outputs": [
    {
     "name": "stdout",
     "output_type": "stream",
     "text": [
      "1\tAAAAAA\n",
      "15\tAACAAG\n"
     ]
    }
   ],
   "source": [
    "awk '$1 > 11 || $1 < 4 {print $0}' kmer1.txt"
   ]
  },
  {
   "cell_type": "code",
   "execution_count": 15,
   "metadata": {},
   "outputs": [
    {
     "name": "stdout",
     "output_type": "stream",
     "text": [
      "1\tAAAAAA\n",
      "15\tAACAAG\n"
     ]
    }
   ],
   "source": [
    "awk '!($1 <= 11 && $1 >= 4) {print $0}' kmer1.txt"
   ]
  },
  {
   "cell_type": "markdown",
   "metadata": {},
   "source": [
    "note that in all 3 examples above the patterns are NOT regular expressions:\n",
    "\n",
    "#### Regex operators in awk:\n",
    "There are only 2:\n",
    " - ~\n",
    " - !~\n",
    " \n",
    "     - used to perform regular expression comparissons with strings.\n",
    "     - find out weather a string matches a regular expression:\n",
    "         - string ~/regex/ \n",
    "             - the string can be defined as $1 or $2 that way we specifield 2...\n",
    "         \n",
    "     - find out wether a string does NOT match a regular expression:\n",
    "         - string !~/regex/\n",
    "         \n",
    "Example: print \n",
    "* all **second** fields \n",
    "* that **start** with the character 'C'"
   ]
  },
  {
   "cell_type": "code",
   "execution_count": 19,
   "metadata": {},
   "outputs": [
    {
     "name": "stdout",
     "output_type": "stream",
     "text": [
      "CGGAAA\n",
      "CGGAAA\n"
     ]
    }
   ],
   "source": [
    "awk '$2 ~/^C/ {print $2}' kmer1.txt"
   ]
  },
  {
   "cell_type": "markdown",
   "metadata": {},
   "source": [
    "Example: print \n",
    "- **only** the lines whose **second** field \n",
    "- **starts** with 'AA' \n",
    "- and **ends** with G"
   ]
  },
  {
   "cell_type": "code",
   "execution_count": 22,
   "metadata": {},
   "outputs": [
    {
     "name": "stdout",
     "output_type": "stream",
     "text": [
      "15\tAACAAG\n",
      "10\tAAATAG\n"
     ]
    }
   ],
   "source": [
    "awk '$2 ~/^AA.*G$/ {print $0}' kmer1.txt"
   ]
  },
  {
   "cell_type": "markdown",
   "metadata": {},
   "source": [
    "Remember if it was only /^AAG$/ it would only match lines that consist of exactly AAG\n",
    "\n",
    "so we must insert a placeholder for any character that could be inbetween\n",
    "\n",
    ".* \n",
    "\n",
    ". = ANY character\n",
    "\n",
    "\\* is matched zero or MORE times :)\n",
    "\n",
    "\n",
    "Now lets try to get the same with grep:\n",
    "\n",
    "??? worng version\n",
    "need to use egrep to use the meta-char + of extended regex... (p18)"
   ]
  },
  {
   "cell_type": "code",
   "execution_count": 25,
   "metadata": {},
   "outputs": [
    {
     "ename": "",
     "evalue": "1",
     "output_type": "error",
     "traceback": []
    }
   ],
   "source": [
    "egrep \"[[:digit:]]+[[:blank\"]]+AA.*G$\" kmer1.txt"
   ]
  },
  {
   "cell_type": "markdown",
   "metadata": {},
   "source": [
    "### String functions:\n",
    "- awk provides some useful string manipualtion functions:\n",
    "    - some are however only available in some versions of awk.\n",
    "    \n",
    "|Function| Meaning|\n",
    "|---|---|\n",
    "|length(str)| Returns the lenght of a string|\n",
    "|sub(regex, repl, str)|Replaces with repl the substring matching the regexp in str.|\n",
    "|substr(str,pos)|Extracts the substring in str from pos to the end|\n",
    "|substr(str, pos, len)| Extracts the len characters in str starting from pos|\n",
    "|index(str, search-str)| Returns the position of the starting from pos|\n",
    "|tolower(str)| Converts the string to lower case|\n",
    "|toupper(str)|Converts the string to upper case|"
   ]
  },
  {
   "cell_type": "code",
   "execution_count": 30,
   "metadata": {},
   "outputs": [
    {
     "name": "stdout",
     "output_type": "stream",
     "text": [
      "AAAAAA 6 aaaaaa AAA C\n",
      "AACAAG 6 aacaag ACA CCAAG\n",
      "AAATAG 6 aaatag AAT CTAG\n",
      "ATGATG 6 atgatg TGA CTGATG\n",
      "CGGAAA 6 cggaaa GGA CGGC\n",
      "CGGAAA 6 cggaaa GGA CGGC\n",
      "GAGAGA 6 gagaga AGA GCGAGA\n",
      "ATGATG 6 atgatg TGA CTGATG\n"
     ]
    }
   ],
   "source": [
    "awk '{s=$2; sub(/A+/, \"C\", $2); print s,length(s), tolower(s), substr(s,2,3), $2}' kmer1.txt "
   ]
  },
  {
   "cell_type": "markdown",
   "metadata": {},
   "source": [
    "??? \n",
    "\n",
    "Breaking it up\n",
    "- awk '{s=$2; \n",
    "    - defined var s that holds field 2\n",
    "- sub(/A+/, \"C\", $2); \n",
    "    - use the **regex** /A+/ to match a string that is **replaced** with the \"C\"  in the field $2\n",
    "- print s,\n",
    "    - print the variable s\n",
    "    - length(s), \n",
    "    \n",
    "- tolower(s)\n",
    "    - set all letters in $2 (s) to lower case caracters, \n",
    "    \n",
    "- substr(s,2,3)\n",
    "    - extracts a substring in s from pos 2 to 3\n",
    "    \n",
    "    , $2}' kmer1.txt "
   ]
  },
  {
   "cell_type": "code",
   "execution_count": 36,
   "metadata": {},
   "outputs": [
    {
     "name": "stdout",
     "output_type": "stream",
     "text": [
      "AAAAAA\n",
      "AACAAG\n",
      "AAATAG\n",
      "ATGATG\n",
      "CGGAAA\n",
      "CGGAAA\n",
      "GAGAGA\n",
      "ATGATG\n"
     ]
    }
   ],
   "source": [
    "awk '{s=$2; sub(/A+/, \"C\", $2); print s,length(s), tolower(s), substr(s,2,3), $2}' kmer1.txt "
   ]
  },
  {
   "cell_type": "markdown",
   "metadata": {},
   "source": [
    "#### the printf statement:\n",
    "\n",
    "allows for more precise control on the output format.\n",
    "\n",
    "- Takes as input a *format string* followed by a comma-separated list of arguments.\n",
    "- its syntax is very close to the syntax of Cs printf() function.\n",
    "- printf = print fancy:\n",
    "    - more precise **control** over the **output format**\n",
    "        - specyfy width of each item\n",
    "        - many formatting choices for numbers:\n",
    "            - output base \n",
    "            - whether to print an exponent\n",
    "            - whether to print a sign\n",
    "            - number of digits after the decimal point\n",
    "            \n",
    "There is not much explanation on printf on the slides but some more is [here](https://www.tutorialspoint.com/awk/awk_pretty_printing.htm)\n",
    "\n",
    "- %s prints a character string"
   ]
  },
  {
   "cell_type": "code",
   "execution_count": 10,
   "metadata": {},
   "outputs": [
    {
     "name": "stdout",
     "output_type": "stream",
     "text": [
      "A B C D\n"
     ]
    }
   ],
   "source": [
    "awk 'BEGIN{printf \"%c %c\", \"A\", \"B\"; printf \" %s %s\\n\",\"C\",\"D\"}'\n",
    "#careful with spaces "
   ]
  },
  {
   "cell_type": "code",
   "execution_count": null,
   "metadata": {},
   "outputs": [],
   "source": []
  },
  {
   "cell_type": "code",
   "execution_count": null,
   "metadata": {},
   "outputs": [],
   "source": []
  },
  {
   "cell_type": "code",
   "execution_count": null,
   "metadata": {},
   "outputs": [],
   "source": []
  },
  {
   "cell_type": "code",
   "execution_count": null,
   "metadata": {},
   "outputs": [],
   "source": []
  },
  {
   "cell_type": "code",
   "execution_count": null,
   "metadata": {},
   "outputs": [],
   "source": []
  },
  {
   "cell_type": "code",
   "execution_count": null,
   "metadata": {},
   "outputs": [],
   "source": []
  },
  {
   "cell_type": "code",
   "execution_count": null,
   "metadata": {},
   "outputs": [],
   "source": []
  },
  {
   "cell_type": "code",
   "execution_count": null,
   "metadata": {},
   "outputs": [],
   "source": []
  },
  {
   "cell_type": "code",
   "execution_count": null,
   "metadata": {},
   "outputs": [],
   "source": []
  },
  {
   "cell_type": "code",
   "execution_count": null,
   "metadata": {},
   "outputs": [],
   "source": []
  },
  {
   "cell_type": "code",
   "execution_count": null,
   "metadata": {},
   "outputs": [],
   "source": []
  },
  {
   "cell_type": "code",
   "execution_count": null,
   "metadata": {},
   "outputs": [],
   "source": []
  },
  {
   "cell_type": "code",
   "execution_count": null,
   "metadata": {},
   "outputs": [],
   "source": []
  },
  {
   "cell_type": "markdown",
   "metadata": {},
   "source": [
    "# 4. SED \n",
    "page 29 Slide3.pdf\n",
    " - <b>S</b>tream <b>ED</b>itor:\n",
    "    - utility for parsing and transfroming text used for:\n",
    "        - text **substitutions**\n",
    "        - text **deletions**\n",
    "        - **selective** printing of text\n",
    "    \n",
    "    - supports regex\n",
    "    - accepts input from files of standard input (you can pipe it)\n",
    "    \n",
    "    - skeleton\n",
    "        \n",
    "        sed [options] 'comands' [file]\n",
    "    \n",
    "* [file] can be omitted when input stream comes from the std input> piped\n",
    "    \n",
    "If the command string is empty sed **simply prints the text** it gets in input:"
   ]
  },
  {
   "cell_type": "code",
   "execution_count": 10,
   "metadata": {},
   "outputs": [
    {
     "name": "stdout",
     "output_type": "stream",
     "text": [
      "1\tAAAAAA\n",
      "12\tGTATAG\n"
     ]
    }
   ],
   "source": [
    "sed '' kmer2.txt"
   ]
  },
  {
   "cell_type": "code",
   "execution_count": 11,
   "metadata": {},
   "outputs": [
    {
     "name": "stdout",
     "output_type": "stream",
     "text": [
      "1\tAAAAAA\n",
      "12\tGTATAG\n"
     ]
    }
   ],
   "source": [
    "cat kmer2.txt"
   ]
  },
  {
   "cell_type": "markdown",
   "metadata": {},
   "source": [
    "its basically the same as cat\n",
    "\n",
    "    sed '' kmer2.txt == cat kmer2.txt"
   ]
  },
  {
   "cell_type": "markdown",
   "metadata": {},
   "source": [
    "* explicit print command is 'p':"
   ]
  },
  {
   "cell_type": "code",
   "execution_count": 9,
   "metadata": {},
   "outputs": [
    {
     "name": "stdout",
     "output_type": "stream",
     "text": [
      "1\tAAAAAA\n",
      "1\tAAAAAA\n",
      "12\tGTATAG\n",
      "12\tGTATAG\n"
     ]
    }
   ],
   "source": [
    "sed 'p' kmer2.txt"
   ]
  },
  {
   "cell_type": "markdown",
   "metadata": {},
   "source": [
    "sed [options] 'comands' [file]\n",
    "in this case 'p' is the comand but no options are given - so technically no 'processing' is happening. 'non-processed' lines are printed by default but we also added the 'p' so it is printed twice."
   ]
  },
  {
   "cell_type": "markdown",
   "metadata": {},
   "source": [
    "**Disable the automatic printing** with the -n option:"
   ]
  },
  {
   "cell_type": "code",
   "execution_count": 14,
   "metadata": {},
   "outputs": [
    {
     "name": "stdout",
     "output_type": "stream",
     "text": [
      "1\tAAAAAA\n",
      "12\tGTATAG\n"
     ]
    }
   ],
   "source": [
    "sed -n 'p' kmer2.txt"
   ]
  },
  {
   "cell_type": "markdown",
   "metadata": {},
   "source": [
    "Now only the lines that we explicitly request to print are shown:\n",
    "- in the case above the entrire content of the file is printed\n",
    "\n",
    "lets look at kmer1.txt:"
   ]
  },
  {
   "cell_type": "code",
   "execution_count": 16,
   "metadata": {},
   "outputs": [
    {
     "name": "stdout",
     "output_type": "stream",
     "text": [
      "1\tAAAAAA\n",
      "15\tAACAAG\n",
      "10\tAAATAG\n",
      "9\tATGATG\n",
      "4\tCGGAAA\n",
      "4\tCGGAAA\n",
      "7\tGAGAGA\n",
      "11\tATGATG\n"
     ]
    }
   ],
   "source": [
    "sed '' kmer1.txt #remember this is equivalent to cat"
   ]
  },
  {
   "cell_type": "markdown",
   "metadata": {},
   "source": [
    "We can specify which line to print:"
   ]
  },
  {
   "cell_type": "code",
   "execution_count": 17,
   "metadata": {},
   "outputs": [
    {
     "name": "stdout",
     "output_type": "stream",
     "text": [
      "10\tAAATAG\n"
     ]
    }
   ],
   "source": [
    "sed -n '3p' kmer1.txt"
   ]
  },
  {
   "cell_type": "markdown",
   "metadata": {},
   "source": [
    "Lets print the **last line** of the file ($):"
   ]
  },
  {
   "cell_type": "code",
   "execution_count": 19,
   "metadata": {},
   "outputs": [
    {
     "name": "stdout",
     "output_type": "stream",
     "text": [
      "11\tATGATG\n"
     ]
    }
   ],
   "source": [
    "sed -n '$p' kmer1.txt"
   ]
  },
  {
   "cell_type": "markdown",
   "metadata": {},
   "source": [
    " - print a specific range of lines:\n",
    "      - includes first and last number"
   ]
  },
  {
   "cell_type": "code",
   "execution_count": 20,
   "metadata": {},
   "outputs": [
    {
     "name": "stdout",
     "output_type": "stream",
     "text": [
      "15\tAACAAG\n",
      "10\tAAATAG\n",
      "9\tATGATG\n"
     ]
    }
   ],
   "source": [
    "sed -n '2,4p' kmer1.txt #range from line 2 including 4"
   ]
  },
  {
   "cell_type": "markdown",
   "metadata": {},
   "source": [
    "* need gsed here because I have an old version: but for all other systems \n",
    "\n",
    "``` sed -n '2, +2p' kmer1.txt``` \n",
    "\n",
    "    - print line 2\n",
    "    - and the 2 lines after line 2"
   ]
  },
  {
   "cell_type": "code",
   "execution_count": 3,
   "metadata": {},
   "outputs": [
    {
     "name": "stdout",
     "output_type": "stream",
     "text": [
      "15\tAACAAG\n",
      "10\tAAATAG\n",
      "9\tATGATG\n"
     ]
    }
   ],
   "source": [
    "gsed -n '2, +2p' kmer1.txt"
   ]
  },
  {
   "cell_type": "markdown",
   "metadata": {},
   "source": [
    "print every n-th line from some point:\n",
    "for example from line 4 every 2nd line:"
   ]
  },
  {
   "cell_type": "code",
   "execution_count": 5,
   "metadata": {},
   "outputs": [
    {
     "name": "stdout",
     "output_type": "stream",
     "text": [
      "9\tATGATG\n",
      "4\tCGGAAA\n",
      "11\tATGATG\n"
     ]
    }
   ],
   "source": [
    "gsed -n '4~2p' kmer1.txt"
   ]
  },
  {
   "cell_type": "markdown",
   "metadata": {},
   "source": [
    "### printing regex\n",
    "\n",
    "**same as in awk** pattern needs to be inbetween slashes\n",
    "\n",
    "- pattern-based AND address based (=line/record) can be combined\n",
    "- print lines that match a specific pattern:\n",
    "    - here we print the lines matching the pattern '/GAT/'"
   ]
  },
  {
   "cell_type": "code",
   "execution_count": 9,
   "metadata": {},
   "outputs": [
    {
     "name": "stdout",
     "output_type": "stream",
     "text": [
      "9\tATGATG\n",
      "11\tATGATG\n"
     ]
    }
   ],
   "source": [
    "sed -n '/GAT/p' kmer1.txt"
   ]
  },
  {
   "cell_type": "markdown",
   "metadata": {},
   "source": [
    "- print lines ending with 'AAA'"
   ]
  },
  {
   "cell_type": "code",
   "execution_count": 15,
   "metadata": {},
   "outputs": [
    {
     "name": "stdout",
     "output_type": "stream",
     "text": [
      "1\tAAAAAA\n",
      "4\tCGGAAA\n",
      "4\tCGGAAA\n"
     ]
    }
   ],
   "source": [
    "sed -n '/AAA$/p' kmer1.txt"
   ]
  },
  {
   "cell_type": "markdown",
   "metadata": {},
   "source": [
    "- print from a matching pattern to a line \n",
    "    - print all the lines starting from the line matching 'GAG' to the end of the file.\n",
    "    - remember: a range is number1 , number2 (sepparated by comma)"
   ]
  },
  {
   "cell_type": "code",
   "execution_count": 17,
   "metadata": {},
   "outputs": [
    {
     "name": "stdout",
     "output_type": "stream",
     "text": [
      "7\tGAGAGA\n",
      "11\tATGATG\n"
     ]
    }
   ],
   "source": [
    "sed -n '/GAG/, $p' kmer1.txt"
   ]
  },
  {
   "cell_type": "markdown",
   "metadata": {},
   "source": [
    "- or print from a line to a matching pattern\n",
    "- instead of having a range of lines you can have a range of matching regex"
   ]
  },
  {
   "cell_type": "code",
   "execution_count": 18,
   "metadata": {},
   "outputs": [],
   "source": [
    "touch animals"
   ]
  },
  {
   "cell_type": "code",
   "execution_count": 20,
   "metadata": {},
   "outputs": [
    {
     "name": "stdout",
     "output_type": "stream",
     "text": [
      "dog \n",
      "cat\n",
      "pollo\n",
      "pipistrello\n",
      "fish\n",
      "squalo\n",
      "rondone\n"
     ]
    }
   ],
   "source": [
    "sed '' animals"
   ]
  },
  {
   "cell_type": "markdown",
   "metadata": {},
   "source": [
    "- now we want to print the range **of lines**:\n",
    "    - starting from the first double l\n",
    "    - ending at 'sh'"
   ]
  },
  {
   "cell_type": "code",
   "execution_count": 21,
   "metadata": {},
   "outputs": [
    {
     "name": "stdout",
     "output_type": "stream",
     "text": [
      "pollo\n",
      "pipistrello\n",
      "fish\n"
     ]
    }
   ],
   "source": [
    "sed -n '/ll/ , /sh/p' animals"
   ]
  },
  {
   "cell_type": "code",
   "execution_count": null,
   "metadata": {},
   "outputs": [],
   "source": []
  }
 ],
 "metadata": {
  "kernelspec": {
   "display_name": "Bash",
   "language": "bash",
   "name": "bash"
  },
  "language_info": {
   "codemirror_mode": "shell",
   "file_extension": ".sh",
   "mimetype": "text/x-sh",
   "name": "bash"
  }
 },
 "nbformat": 4,
 "nbformat_minor": 2
}
