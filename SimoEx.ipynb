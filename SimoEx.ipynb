{
 "cells": [
  {
   "cell_type": "markdown",
   "metadata": {},
   "source": [
    "# Simo's: \n",
    "\n",
    "---> converted the screenshot of the image on [smallstools convertor](https://smallseotools.com/image-to-text-converter/)\n",
    "\n",
    "had to rename file differently so the old one is not lost:\n",
    "\n",
    "casp13 (no txt extension)\n"
   ]
  },
  {
   "cell_type": "markdown",
   "metadata": {},
   "source": [
    "### 1. \n",
    "#### *(2 points) What is the output of the following two commands?*\n",
    "\n",
    "    (a)cat casp13 | cut-c 1-3 | head-7 | sort-u | wc-l\n",
    "    \n",
    "    (b)cat casp13 |cut-c 1-3 | sort-u | head-7 | wc-l"
   ]
  },
  {
   "cell_type": "markdown",
   "metadata": {},
   "source": [
    "a) the content of casp 13 is piped into cut -c\n",
    "- cat reads file sequentially and writes it to the std output but in this case the content is piped to the next cmd (thus not streamd to stdout).\n",
    "\n",
    "### cut ...excusion to the slides: Slide2.pdf page 17:\n",
    "\n",
    "- cut can be used to select single columns from a file.\n",
    "    - cut assumes by defoult that the cols are **tab sepparated**\n",
    "    "
   ]
  },
  {
   "cell_type": "code",
   "execution_count": 3,
   "metadata": {},
   "outputs": [
    {
     "name": "stdout",
     "output_type": "stream",
     "text": [
      "1\tAAAAAA\n",
      "12\tGTATAG\n"
     ]
    }
   ],
   "source": [
    "cat ./Data/kmer2.txt"
   ]
  },
  {
   "cell_type": "code",
   "execution_count": 2,
   "metadata": {},
   "outputs": [
    {
     "name": "stdout",
     "output_type": "stream",
     "text": [
      "1\n",
      "12\n"
     ]
    }
   ],
   "source": [
    "cut -f 1 ./Data/kmer2.txt"
   ]
  },
  {
   "cell_type": "markdown",
   "metadata": {},
   "source": [
    "We can use a specific delimeter instead of the tab:\n",
    " - here we want to cut out column 1 of the kmer2.txt file but we define the delimiter to be \"A\":"
   ]
  },
  {
   "cell_type": "code",
   "execution_count": 5,
   "metadata": {},
   "outputs": [
    {
     "name": "stdout",
     "output_type": "stream",
     "text": [
      "1\t\n",
      "12\tGT\n"
     ]
    }
   ],
   "source": [
    "cut -f 1 -d 'A' ./Data/kmer2.txt"
   ]
  },
  {
   "cell_type": "markdown",
   "metadata": {},
   "source": [
    "* here we want to cut column 1 of kmer2.txt but we define \"T\" to be our delimiter:\n",
    "\n",
    "**note** that the -d option takes only **one single** character "
   ]
  },
  {
   "cell_type": "code",
   "execution_count": 7,
   "metadata": {},
   "outputs": [
    {
     "name": "stdout",
     "output_type": "stream",
     "text": [
      "1\tAAAAAA\n",
      "12\tG\n"
     ]
    }
   ],
   "source": [
    "cut -f 1 -d 'T' ./Data/kmer2.txt"
   ]
  },
  {
   "cell_type": "markdown",
   "metadata": {},
   "source": [
    "### you can also print the column at \n",
    "- a specific character position\n",
    "- a range of positions \n",
    "- a set of positions\n",
    "\n",
    "----> cut -c list [file]\n",
    "where list is a comma or whitespace sepparated set of numbers."
   ]
  },
  {
   "cell_type": "markdown",
   "metadata": {},
   "source": [
    "## ok, back to the exam question\n",
    "\n",
    "    (a)cat casp13 | cut -c 1-3 | head -7 | sort-u | wc -l\n",
    "    \n",
    "cut -c 1-3:\n",
    "    - cuts character 1 upto and including 3 \n",
    "    - head -7 displayes the first 7 lines of whats piped in\n",
    "    - sort -u sorts the lines and keeps unique only\n",
    "    - wc -l counts the lines of whatever piped in:\n",
    "    \n",
    "    \n",
    "so lets have a look and do it manually first:"
   ]
  },
  {
   "cell_type": "code",
   "execution_count": 10,
   "metadata": {},
   "outputs": [
    {
     "name": "stdout",
     "output_type": "stream",
     "text": [
      ">H0974 048503/048504, , subunit 1, 72 residues;\n",
      "MSYDYSSLLGKITEKCGTQYNFAIAMGLSERTVSLKLNDKVTWKDDEILKAVHVLELNPQ\n",
      "DIPKYFFNAKVH\n",
      ">H0974 048503/048504, ,subunit 2, 95 residues;\n",
      "MQTDTSNRLKQIMAERNLKQVDILNLSIPFQKKFGIKLSKSTLSQYVNSVQSPDQNRIYL\n",
      "LAKTLGVSEAWLMGFDVPMVESSKIENDSHHHHHH\n",
      ">H0980 Q3KP22-3 Q8NHR7, Human, subunit 1, 111 residues;\n",
      "SLKPFTYPFPETRFLHAGPNVYKFKIRYGKSIRGEEIENKEVITQELEDSVRVVLGNLDN\n",
      "LQPFATEHFIVFPYKSKWERVSHLKFKHGEIILIPYPFVFTLYVEMKWFHE\n",
      ">H0980 Q3KP22-3 Q8NHR7, Human, subunit 2, 52 residues;\n",
      "VNNMVTGYISIDAMKKFLGELHDFIPGTSGYLAYHVQNEINMSAIKNKLKRK\n",
      ">H0993 MlaFA, E. coli,subunit 1, 269 residues;\n",
      "MEQSVANLVDMRDVSFTRGNRCIFDNISLTVPRGKITAIMGPSGIGKTTLLRLIGGQIAP\n",
      "DHGEILFDGENIPAMSRSRLYTVRKRMSMLFQSGALFTDMNVFDNVAYPLREHTQLPAPL\n",
      "LHSTVMMKLEAVGLRGAAKLMPSELSGGMARRAALARA 1 ALEP DLIMFDEPFVGQDPI TM\n",
      "GVLVKLISELNSALGVTCVVVSHDVPEVLSIADHAWILADKKIVAHGSAQALQANPDPRV\n",
      "RQFLDGIADGPVPFRYPAGDYHADLLPGS\n"
     ]
    }
   ],
   "source": [
    "cat casp13"
   ]
  },
  {
   "cell_type": "markdown",
   "metadata": {},
   "source": [
    "#### cutting char 1-3"
   ]
  },
  {
   "cell_type": "code",
   "execution_count": null,
   "metadata": {},
   "outputs": [],
   "source": [
    ">H0\n",
    "MSY\n",
    "DIP\n",
    ">H0\n",
    "MQT\n",
    "LAK\n",
    ">H0\n",
    "SLK\n",
    "LQP\n",
    ">H0\n",
    "VNN\n",
    ">H0\n",
    "MEQ\n",
    "DHG\n",
    "LHS\n",
    "GVL\n",
    "RQF"
   ]
  },
  {
   "cell_type": "markdown",
   "metadata": {},
   "source": [
    "#### taking the first 7 lines and sorting by unique: \n",
    "#### all line are unique *except 2 and 5*"
   ]
  },
  {
   "cell_type": "code",
   "execution_count": null,
   "metadata": {},
   "outputs": [],
   "source": [
    ">H0\n",
    "MSY\n",
    "DIP\n",
    ">H0\n",
    "MQT\n",
    "LAK"
   ]
  },
  {
   "cell_type": "markdown",
   "metadata": {},
   "source": [
    "thus, the result of wc -l should be 5: lets see:"
   ]
  },
  {
   "cell_type": "code",
   "execution_count": 12,
   "metadata": {},
   "outputs": [
    {
     "name": "stdout",
     "output_type": "stream",
     "text": [
      "       5\n"
     ]
    }
   ],
   "source": [
    "cat casp13 | cut -c 1-3 | head -7 | sort -u | wc -l"
   ]
  },
  {
   "cell_type": "markdown",
   "metadata": {},
   "source": [
    "The next cmd is almost the same but it has sort and head swapped:\n",
    "\n",
    "    catcasp13 | cut -c1-3 | sort -u | head -7 | wc -l \n",
    "    \n",
    "- first it will get rid of the lines that are identical *>H0*\n"
   ]
  },
  {
   "cell_type": "code",
   "execution_count": null,
   "metadata": {},
   "outputs": [],
   "source": [
    "MSY\n",
    "DIP\n",
    "MQT\n",
    "LAK\n",
    "SLK\n",
    "LQP\n",
    "VNN\n",
    "MEQ\n",
    "DHG\n",
    "LHS\n",
    "GVL\n",
    "RQF"
   ]
  },
  {
   "cell_type": "markdown",
   "metadata": {},
   "source": [
    "Then it will select the fist 7 lines which will be counted. Thus, the output should be 7:\n",
    "let's see:"
   ]
  },
  {
   "cell_type": "code",
   "execution_count": 14,
   "metadata": {},
   "outputs": [
    {
     "name": "stdout",
     "output_type": "stream",
     "text": [
      "       7\n"
     ]
    }
   ],
   "source": [
    "cat casp13 | cut -c1-3 | sort -u | head -7 | wc -l "
   ]
  },
  {
   "cell_type": "markdown",
   "metadata": {},
   "source": [
    "### 2. \n",
    "#### (2 points) What is the output of the following command?\n",
    "         \n",
    "         cat casp13.txt | grep \"^M.*H.*P\" | wc -l\n",
    "\n",
    "- cat, again prints file content sequentially to std out - BUT here it is piped to global regular expression print.\n",
    "\n",
    "- grep should match the pattern of a\n",
    "    - ^ **capital M in the BEGINNING of the line**\n",
    "    - .* . should match **any single** character \n",
    "    - * **zero or more** times\n",
    "    - same for .*P\n",
    "    \n",
    "         - so that means linne must start with a capital M \n",
    "         - may have zero or up to **any** number of characters between M and H\n",
    "         - may have zero or to **any** number of characters between H and P\n",
    "         \n",
    "         - count those words"
   ]
  },
  {
   "cell_type": "code",
   "execution_count": 27,
   "metadata": {},
   "outputs": [
    {
     "name": "stdout",
     "output_type": "stream",
     "text": [
      ">H0974 048503/048504, , subunit 1, 72 residues;\n",
      "MSYDYSSLLGKITEKCGTQYNFAIAMGLSERTVSLKLNDKVTWKDDEILKAVHVLELNPQ\n",
      "DIPKYFFNAKVH\n",
      ">H0974 048503/048504, ,subunit 2, 95 residues;\n",
      "MQTDTSNRLKQIMAERNLKQVDILNLSIPFQKKFGIKLSKSTLSQYVNSVQSPDQNRIYL\n",
      "LAKTLGVSEAWLMGFDVPMVESSKIENDSHHHHHH\n",
      ">H0980 Q3KP22-3 Q8NHR7, Human, subunit 1, 111 residues;\n",
      "SLKPFTYPFPETRFLHAGPNVYKFKIRYGKSIRGEEIENKEVITQELEDSVRVVLGNLDN\n",
      "LQPFATEHFIVFPYKSKWERVSHLKFKHGEIILIPYPFVFTLYVEMKWFHE\n",
      ">H0980 Q3KP22-3 Q8NHR7, Human, subunit 2, 52 residues;\n",
      "VNNMVTGYISIDAMKKFLGELHDFIPGTSGYLAYHVQNEINMSAIKNKLKRK\n",
      ">H0993 MlaFA, E. coli,subunit 1, 269 residues;\n",
      "MEQSVANLVDMRDVSFTRGNRCIFDNISLTVPRGKITAIMGPSGIGKTTLLRLIGGQIAP\n",
      "DHGEILFDGENIPAMSRSRLYTVRKRMSMLFQSGALFTDMNVFDNVAYPLREHTQLPAPL\n",
      "LHSTVMMKLEAVGLRGAAKLMPSELSGGMARRAALARA 1 ALEP DLIMFDEPFVGQDPI TM\n",
      "GVLVKLISELNSALGVTCVVVSHDVPEVLSIADHAWILADKKIVAHGSAQALQANPDPRV\n",
      "RQFLDGIADGPVPFRYPAGDYHADLLPGS\n"
     ]
    }
   ],
   "source": [
    "cat casp13 "
   ]
  },
  {
   "cell_type": "markdown",
   "metadata": {},
   "source": [
    "#### Only line 2 satisfyes the cirteria -- wc -l = 1"
   ]
  },
  {
   "cell_type": "markdown",
   "metadata": {},
   "source": [
    "<b>M</b>SYDYSSLLGKITEKCGTQYNFAIAMGLSERTVSLKLNDKVTWKDDEILKAV<b>H</b>VLELN<b>P</b>Q"
   ]
  },
  {
   "cell_type": "markdown",
   "metadata": {},
   "source": [
    "### 3. \n",
    "#### (3 points) What is the output of the following command?\n",
    "      cat casp13.txt | awk ’/^>/{print \"\\n\"$0} !/^>/{printf \"%s\",$0}’ | wc -l\n"
   ]
  },
  {
   "cell_type": "code",
   "execution_count": 29,
   "metadata": {},
   "outputs": [
    {
     "name": "stdout",
     "output_type": "stream",
     "text": [
      "      10\n"
     ]
    }
   ],
   "source": [
    " cat casp13 | awk '/^>/{print \"\\n\"$0} !/^>/{printf \"%s\",$0}' | wc -l"
   ]
  },
  {
   "cell_type": "markdown",
   "metadata": {},
   "source": [
    "awk pattern: \n",
    "- if ^ line starts with > \n",
    "    - print a **newline** and the **entire record** (\\$0) \n",
    "    \n",
    "\n",
    "- for lines that dont (!) start with (^) >: printf = printfancy:\n",
    "    - %s character string (and NO newline) of entire record \n",
    "    \n",
    "#### excursion to the slides:\n",
    "\n",
    "#### the printf statement:\n",
    "\n",
    "allows for more precise control on the output format.\n",
    "\n",
    "- Takes as input a *format string* followed by a comma-separated list of arguments.\n",
    "- its syntax is very close to the syntax of Cs printf() function.\n",
    "- printf = print fancy:\n",
    "    - more precise **control** over the **output format**\n",
    "        - specyfy width of each item\n",
    "        - many formatting choices for numbers:\n",
    "            - output base \n",
    "            - whether to print an exponent\n",
    "            - whether to print a sign\n",
    "            - number of digits after the decimal point\n",
    "            \n",
    "There is not much explanation on printf on the slides but some more is [here](https://www.tutorialspoint.com/awk/awk_pretty_printing.htm)\n",
    "\n",
    "- %s prints a character string"
   ]
  },
  {
   "cell_type": "code",
   "execution_count": null,
   "metadata": {},
   "outputs": [],
   "source": []
  },
  {
   "cell_type": "markdown",
   "metadata": {},
   "source": [
    "### 4. \n",
    "#### (3 points) What is the output of the following command?\n",
    "    cat casp13.txt | sed ’s/^>/M/’ | sed ’/^M/d’ | wc -l\n",
    "\n",
    "\n",
    "#### tricky: Pattern substitution:\n",
    "- syntax:\n",
    "    - sed  <b>’</b>  [pattern/address]  **s**/regexp/Replacement/[flags]  <b>’</b>  [file]\n",
    "\n",
    "if string ^ starts with > followed by an M"
   ]
  },
  {
   "cell_type": "code",
   "execution_count": 23,
   "metadata": {},
   "outputs": [
    {
     "name": "stdout",
     "output_type": "stream",
     "text": [
      "MH0974 048503/048504, , subunit 1, 72 residues ; \n",
      "MSYDYSSLLGKITEKCGTQYNFAIAMGLSERTVSLKLNDKVTWKDDEILKAVHVLELNPQ \n",
      "DIPKYFFNAKVH \n",
      "MH0974 048503/048504 , subunit 2, 95 residues ; \n",
      "MQTDTSNRLKQIMAERNLKQVDILNLSIPFQKKFGIKLSKSTLSQYVNSVQSPDQNRIYL \n",
      "LAKTLGVSEAWLMGFDVPMVESSKIENDSHHHHHH \n",
      "MH0980 Q3KP22-3 Q8NHR7, Human, subunit 1, 111 residues; \n",
      "SLKPFTYPFPETRFLHAGPNVYKFKIRYGKSIRGEEIENKEVITQELEDSVRVVLGNLDN \n",
      "LQPFATEHFIVFPYKSKWERVSHLKFKHGEIILIPYPFVFTLYVEMKWFHE \n",
      "MH0980 Q3KP22-3 Q8NHR7, Human, subunit 2, 52 residues;\n",
      "VNNMVTGYISIDAMKKFLGELHDFIPGTSGYLAYHVQNEINMSAIKNKLKRK \n",
      "MH0993 MlaFA, E. coli, subunit 1, 269 residues;\n",
      "MEQSVANLVDMRDVSFTRGNRCIFDNISLTVPRGKITAIMGPSGIGKTTLLRLIGGQIAP \n",
      "DHGEILFDGENIPAMSRSRLYTVRKRMSMLFQSGALFTDMNVFDNVAYPLREHTQLPAPL \n",
      "LHSTVMMKLEAVGLRGAAKLMPSELSGGMARRAALARAIALEPDLIMFDEPFVGQDPITM \n",
      "GVLVKLISELNSALGVTCVVVSHDVPEVLSIADHAWILADKKIVAHGSAQALQANPDPRV \n",
      "RQFLDGIADGPVPFRYPAGDYHADLLPGS \n"
     ]
    }
   ],
   "source": [
    "cat casp13.txt | sed 's/^>/M/'"
   ]
  },
  {
   "cell_type": "markdown",
   "metadata": {},
   "source": [
    "sed 's/^>/M/'\n",
    "- "
   ]
  },
  {
   "cell_type": "code",
   "execution_count": 31,
   "metadata": {},
   "outputs": [
    {
     "name": "stdout",
     "output_type": "stream",
     "text": [
      "       9\n"
     ]
    }
   ],
   "source": [
    "cat casp13.txt | sed 's/^>/M/' | sed '/^M/d'| wc -l"
   ]
  },
  {
   "cell_type": "markdown",
   "metadata": {},
   "source": [
    "- first sed: substitute regex with pattern:\n",
    "    - sed \"substitute\"/this-char/whit-this-char/\n",
    "- second sed: finde regex and delete\n",
    "    - sed \"look-for-this-letter-in-BEGINNING/delete\"\n",
    "    \n",
    "so the full file contains 17 lines minus 8 = 9 :)"
   ]
  },
  {
   "cell_type": "code",
   "execution_count": null,
   "metadata": {},
   "outputs": [],
   "source": []
  },
  {
   "cell_type": "code",
   "execution_count": null,
   "metadata": {},
   "outputs": [],
   "source": []
  },
  {
   "cell_type": "code",
   "execution_count": null,
   "metadata": {},
   "outputs": [],
   "source": []
  },
  {
   "cell_type": "code",
   "execution_count": null,
   "metadata": {},
   "outputs": [],
   "source": [
    "just checked something unrelated here..."
   ]
  },
  {
   "cell_type": "code",
   "execution_count": 20,
   "metadata": {},
   "outputs": [
    {
     "name": "stdout",
     "output_type": "stream",
     "text": [
      "MDDDDDDDDDD\n",
      "MD\n",
      "M..........\n"
     ]
    }
   ],
   "source": [
    "cat tinytest"
   ]
  },
  {
   "cell_type": "code",
   "execution_count": 25,
   "metadata": {},
   "outputs": [
    {
     "name": "stdout",
     "output_type": "stream",
     "text": [
      "MDDDDDDDDDD\n",
      "MD\n"
     ]
    }
   ],
   "source": [
    "grep \"^M.*D\" tinytest"
   ]
  },
  {
   "cell_type": "code",
   "execution_count": null,
   "metadata": {},
   "outputs": [],
   "source": []
  }
 ],
 "metadata": {
  "kernelspec": {
   "display_name": "Bash",
   "language": "bash",
   "name": "bash"
  },
  "language_info": {
   "codemirror_mode": "shell",
   "file_extension": ".sh",
   "mimetype": "text/x-sh",
   "name": "bash"
  }
 },
 "nbformat": 4,
 "nbformat_minor": 2
}
