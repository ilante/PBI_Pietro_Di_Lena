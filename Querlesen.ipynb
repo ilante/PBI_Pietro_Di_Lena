{
 "cells": [
  {
   "cell_type": "markdown",
   "metadata": {},
   "source": [
    "# Querlesen: all exercises of all exams I got a hold of ;)\n",
    "casp13.txt"
   ]
  },
  {
   "cell_type": "code",
   "execution_count": null,
   "metadata": {},
   "outputs": [],
   "source": [
    ">H0974 048503/048504, , subunit 1, 72 residues ; \n",
    "MSYDYSSLLGKITEKCGTQYNFAIAMGLSERTVSLKLNDKVTWKDDEILKAVHVLELNPQ \n",
    "DIPKYFFNAKVH \n",
    ">H0974 048503/048504 , subunit 2, 95 residues ; \n",
    "MQTDTSNRLKQIMAERNLKQVDILNLSIPFQKKFGIKLSKSTLSQYVNSVQSPDQNRIYL \n",
    "LAKTLGVSEAWLMGFDVPMVESSKIENDSHHHHHH \n",
    ">H0980 Q3KP22-3 Q8NHR7, Human, subunit 1, 111 residues; \n",
    "SLKPFTYPFPETRFLHAGPNVYKFKIRYGKSIRGEEIENKEVITQELEDSVRVVLGNLDN \n",
    "LQPFATEHFIVFPYKSKWERVSHLKFKHGEIILIPYPFVFTLYVEMKWFHE \n",
    ">H0980 Q3KP22-3 Q8NHR7, Human, subunit 2, 52 residues;\n",
    "VNNMVTGYISIDAMKKFLGELHDFIPGTSGYLAYHVQNEINMSAIKNKLKRK \n",
    ">H0993 MlaFA, E. coli, subunit 1, 269 residues;\n",
    "MEQSVANLVDMRDVSFTRGNRCIFDNISLTVPRGKITAIMGPSGIGKTTLLRLIGGQIAP \n",
    "DHGEILFDGENIPAMSRSRLYTVRKRMSMLFQSGALFTDMNVFDNVAYPLREHTQLPAPL \n",
    "LHSTVMMKLEAVGLRGAAKLMPSELSGGMARRAALARAIALEPDLIMFDEPFVGQDPITM \n",
    "GVLVKLISELNSALGVTCVVVSHDVPEVLSIADHAWILADKKIVAHGSAQALQANPDPRV \n",
    "RQFLDGIADGPVPFRYPAGDYHADLLPGS "
   ]
  },
  {
   "cell_type": "markdown",
   "metadata": {},
   "source": [
    "# 1. All qustion 1es\n",
    "(2 points) What is the output of the following two commands?\n",
    "### 1.1\n",
    "### (a) cat casp13.txt | sort | cut -c 1-2 | sort -u | head -2 | wc -l\n",
    "\n",
    "* cat: prints the file to stdout but in our case it is piped to sort;\n",
    "* sort: sorts by line lexicographically considering the entire line\n",
    "* cut -c 1-2: cuts the c = characters from the list 1-2 = starting at 1 including 2: That way the first 2 characters are cut out of the sorted file and piped to \n",
    "* sort -u: merges identical entries by *surpressing all lines that have a key that is equal to an alreadly processed one.* Considering the cut out lines 1-2 from our file all eccept one entry that are '>H' will be surpressed.\n",
    "* head -2: will print the first two lines of **stdinput** (piped into it).\n",
    "* wc -l counts those lines; thus the result must be 2"
   ]
  },
  {
   "cell_type": "code",
   "execution_count": null,
   "metadata": {},
   "outputs": [],
   "source": [
    ">H\n",
    ">H\n",
    ">H\n",
    ">H\n",
    ">H\n",
    "DH\n",
    "DI\n",
    "GV\n",
    "LA\n",
    "LH\n",
    "LQ\n",
    "ME\n",
    "MQ\n",
    "MS\n",
    "RQ\n",
    "SL\n",
    "VN\n",
    "\n",
    "\n"
   ]
  },
  {
   "cell_type": "code",
   "execution_count": 5,
   "metadata": {},
   "outputs": [
    {
     "name": "stdout",
     "output_type": "stream",
     "text": [
      "       2\n"
     ]
    }
   ],
   "source": [
    "cat casp13.txt |sort | cut -c 1-2 | sort -u | head -2 | wc -l"
   ]
  },
  {
   "cell_type": "markdown",
   "metadata": {},
   "source": [
    "### (b) cat casp13.txt | sort | cut -c 1-2 | head -2 | sort -u | wc -l\n",
    "\n",
    "Since sort -u is done after head -2 the cmd should print 1 to stdout:\n",
    "first all lines are sorted then by sort -u all >H are at the top - thus, the result is 1\n"
   ]
  },
  {
   "cell_type": "code",
   "execution_count": 6,
   "metadata": {},
   "outputs": [
    {
     "name": "stdout",
     "output_type": "stream",
     "text": [
      "       1\n"
     ]
    }
   ],
   "source": [
    "cat casp13.txt | sort | cut -c 1-2 | head -2 | sort -u| wc -l"
   ]
  },
  {
   "cell_type": "markdown",
   "metadata": {},
   "source": [
    "### 1.2\n",
    "### (a) cat casp13.txt | sort | cut -c 1-3 | sort -u | head -2 | wc -l\n",
    "\n",
    "* cat prints the file to std out \n",
    "* sort takes stdinput and sorts lines lexicographically - considering the full line\n",
    "* cut -c cuts the character from list 1-3 (including 3)\n",
    "* sort -u sorts unique lines:  a bunch of >H0 will be at the top and merged\n",
    "* head -2 outputs the 2 top lines from std out and pipes them to wc -l\n",
    "* result shoud be 2"
   ]
  },
  {
   "cell_type": "code",
   "execution_count": 7,
   "metadata": {},
   "outputs": [
    {
     "name": "stdout",
     "output_type": "stream",
     "text": [
      "       2\n"
     ]
    }
   ],
   "source": [
    "cat casp13.txt | sort | cut -c 1-3 | sort -u | head -2 | wc -l"
   ]
  },
  {
   "cell_type": "code",
   "execution_count": null,
   "metadata": {},
   "outputs": [],
   "source": []
  },
  {
   "cell_type": "markdown",
   "metadata": {},
   "source": [
    "### (b) cat casp13.txt | sort | cut -c 1-3 | head -2 | sort -u | wc -l\n",
    "* sort sorts line by line considering entire line **lexicographically**\n",
    "* cut -c cuts character 1 2 and 3 from that sorted file\n",
    "    * in our case there will be a bunch of >H0 at the top\n",
    "* head 2 takes the first 2 lines\n",
    "* sort u merges duplicates thus result must be 1"
   ]
  },
  {
   "cell_type": "code",
   "execution_count": 8,
   "metadata": {},
   "outputs": [
    {
     "name": "stdout",
     "output_type": "stream",
     "text": [
      ">H0974 048503/048504, , subunit 1, 72 residues ; \n",
      "MSYDYSSLLGKITEKCGTQYNFAIAMGLSERTVSLKLNDKVTWKDDEILKAVHVLELNPQ \n",
      "DIPKYFFNAKVH \n",
      ">H0974 048503/048504 , subunit 2, 95 residues ; \n",
      "MQTDTSNRLKQIMAERNLKQVDILNLSIPFQKKFGIKLSKSTLSQYVNSVQSPDQNRIYL \n",
      "LAKTLGVSEAWLMGFDVPMVESSKIENDSHHHHHH \n",
      ">H0980 Q3KP22-3 Q8NHR7, Human, subunit 1, 111 residues; \n",
      "SLKPFTYPFPETRFLHAGPNVYKFKIRYGKSIRGEEIENKEVITQELEDSVRVVLGNLDN \n",
      "LQPFATEHFIVFPYKSKWERVSHLKFKHGEIILIPYPFVFTLYVEMKWFHE \n",
      ">H0980 Q3KP22-3 Q8NHR7, Human, subunit 2, 52 residues;\n",
      "VNNMVTGYISIDAMKKFLGELHDFIPGTSGYLAYHVQNEINMSAIKNKLKRK \n",
      ">H0993 MlaFA, E. coli, subunit 1, 269 residues;\n",
      "MEQSVANLVDMRDVSFTRGNRCIFDNISLTVPRGKITAIMGPSGIGKTTLLRLIGGQIAP \n",
      "DHGEILFDGENIPAMSRSRLYTVRKRMSMLFQSGALFTDMNVFDNVAYPLREHTQLPAPL \n",
      "LHSTVMMKLEAVGLRGAAKLMPSELSGGMARRAALARAIALEPDLIMFDEPFVGQDPITM \n",
      "GVLVKLISELNSALGVTCVVVSHDVPEVLSIADHAWILADKKIVAHGSAQALQANPDPRV \n",
      "RQFLDGIADGPVPFRYPAGDYHADLLPGS "
     ]
    }
   ],
   "source": [
    "cat casp13.txt"
   ]
  },
  {
   "cell_type": "code",
   "execution_count": 9,
   "metadata": {},
   "outputs": [
    {
     "name": "stdout",
     "output_type": "stream",
     "text": [
      "       1\n"
     ]
    }
   ],
   "source": [
    "cat casp13.txt | sort | cut -c 1-3 | head -2 | sort -u | wc -l"
   ]
  },
  {
   "cell_type": "markdown",
   "metadata": {},
   "source": [
    "### 1.3\n",
    "### (a) cat casp13.txt | sort | cut -c 1-4 | sort -u | head -2 | wc -l\n"
   ]
  },
  {
   "cell_type": "code",
   "execution_count": 11,
   "metadata": {},
   "outputs": [
    {
     "name": "stdout",
     "output_type": "stream",
     "text": [
      "       2\n"
     ]
    }
   ],
   "source": [
    "cat casp13.txt | sort | cut -c 1-4 | sort -u | head -2 | wc -l"
   ]
  },
  {
   "cell_type": "markdown",
   "metadata": {},
   "source": [
    "### (b) cat casp13.txt | sort | cut -c 1-4 | head -2 | sort -u | wc -l"
   ]
  },
  {
   "cell_type": "code",
   "execution_count": 12,
   "metadata": {},
   "outputs": [
    {
     "name": "stdout",
     "output_type": "stream",
     "text": [
      "       1\n"
     ]
    }
   ],
   "source": [
    "cat casp13.txt | sort | cut -c 1-4 | head -2 | sort -u | wc -l"
   ]
  },
  {
   "cell_type": "markdown",
   "metadata": {},
   "source": [
    "### 1.4\n",
    "### (a) cat casp13.txt | sort | cut -c 1-5 | sort -u | head -2 | wc -l"
   ]
  },
  {
   "cell_type": "code",
   "execution_count": 13,
   "metadata": {},
   "outputs": [
    {
     "name": "stdout",
     "output_type": "stream",
     "text": [
      "       2\n"
     ]
    }
   ],
   "source": [
    "cat casp13.txt | sort | cut -c 1-5 | sort -u | head -2 | wc -l"
   ]
  },
  {
   "cell_type": "markdown",
   "metadata": {},
   "source": [
    "### (b) cat casp13.txt | sort | cut -c 1-5 | head -2 | sort -u | wc -l\n",
    "* this one is only one because first head is printed and then the uniques are listed: thus 1 is lost"
   ]
  },
  {
   "cell_type": "code",
   "execution_count": 14,
   "metadata": {},
   "outputs": [
    {
     "name": "stdout",
     "output_type": "stream",
     "text": [
      "       1\n"
     ]
    }
   ],
   "source": [
    "cat casp13.txt | sort | cut -c 1-5 | head -2 | sort -u | wc -l"
   ]
  },
  {
   "cell_type": "markdown",
   "metadata": {},
   "source": [
    "### 1.5\n",
    "### (a) cat casp13.txt | sort | cut -c 1-6 | sort -u | head -2 | wc -l\n",
    "\n",
    "will be 2 because there are always 2 identical ones >H0974 and >H0980\n",
    "* fist the lines are sorted lexicographically \n",
    "* then character 1-6 (including 6) are cut out\n",
    "* then unique lines are kept\n",
    "* then first 2 lines are piped into wc"
   ]
  },
  {
   "cell_type": "code",
   "execution_count": 16,
   "metadata": {},
   "outputs": [
    {
     "name": "stdout",
     "output_type": "stream",
     "text": [
      "       2\n"
     ]
    }
   ],
   "source": [
    "cat casp13.txt | sort | cut -c 1-6 | sort -u | head -2 | wc -l"
   ]
  },
  {
   "cell_type": "markdown",
   "metadata": {},
   "source": [
    "### (b) cat casp13.txt | sort | cut -c 1-6 | head -2 | sort -u | wc -l\n",
    "* now head and sort -u switched spot:\n",
    "    * thus, result will be 1"
   ]
  },
  {
   "cell_type": "code",
   "execution_count": 17,
   "metadata": {},
   "outputs": [
    {
     "name": "stdout",
     "output_type": "stream",
     "text": [
      "       1\n"
     ]
    }
   ],
   "source": [
    "cat casp13.txt | sort | cut -c 1-6 | head -2 |  sort -u |wc -l"
   ]
  },
  {
   "cell_type": "markdown",
   "metadata": {},
   "source": [
    "### 1.6\n",
    "### (a) cat casp13.txt | sort | cut -c 1-7 | sort -u | head -2 | wc -l\n",
    "\n",
    "* sort sorts file lexicographically\n",
    "* cut -c cuts characters 1-7 including 7\n",
    "* sort -u sorts unique chars:\n",
    "    * all double lines are eliminated\n",
    "* head 2 prints first 2 lines to std out\n",
    "* wc -l counts 2 lines\n"
   ]
  },
  {
   "cell_type": "code",
   "execution_count": 18,
   "metadata": {},
   "outputs": [
    {
     "name": "stdout",
     "output_type": "stream",
     "text": [
      "       2\n"
     ]
    }
   ],
   "source": [
    "cat casp13.txt | sort | cut -c 1-7 | sort -u | head -2 | wc -l"
   ]
  },
  {
   "cell_type": "markdown",
   "metadata": {},
   "source": [
    "### (b) cat casp13.txt | sort | cut -c 1-7 | head -2 | sort -u | wc -l\n",
    "* now the cmd is flipped:\n",
    "* first head -2 pipes the first to (previously sorted) lines to sort -u\n",
    "* sort -u then eliminates duplicates \n",
    "* leaving only 1 line for wc -l which counts the lines "
   ]
  },
  {
   "cell_type": "code",
   "execution_count": 20,
   "metadata": {},
   "outputs": [
    {
     "name": "stdout",
     "output_type": "stream",
     "text": [
      "       1\n"
     ]
    }
   ],
   "source": [
    "cat casp13.txt | sort | cut -c 1-7 | head -2 | sort -u | wc -l"
   ]
  },
  {
   "cell_type": "markdown",
   "metadata": {},
   "source": [
    "# 2 all question 2es"
   ]
  },
  {
   "cell_type": "markdown",
   "metadata": {},
   "source": [
    "#### 2.1 (2 points) What is the output of the following command?\n",
    "cat casp13.txt | grep \";$\" | grep O | wc -l\n",
    "* regular expression print matches all lines containing the character ; in the end of the line\n",
    "* what ever is left is matchet to grep O - all lines containing the letter O are piped to line count"
   ]
  },
  {
   "cell_type": "code",
   "execution_count": 39,
   "metadata": {},
   "outputs": [
    {
     "name": "stdout",
     "output_type": "stream",
     "text": [
      "       0\n"
     ]
    }
   ],
   "source": [
    "cat casp13.txt | grep \";$\" | grep O | wc -l"
   ]
  },
  {
   "cell_type": "markdown",
   "metadata": {},
   "source": [
    "#### 2.2 (2 points) What is the output of the following command?\n",
    "cat casp13.txt | grep \";$\" | grep 4 | wc -l\n",
    "* now we are looking for the number 4 and count those lines \n",
    "* I see 2\n",
    "\n",
    "lets try:\n"
   ]
  },
  {
   "cell_type": "code",
   "execution_count": 44,
   "metadata": {},
   "outputs": [
    {
     "name": "stdout",
     "output_type": "stream",
     "text": [
      ">H0974 048503/048504, , subunit 1, 72 residues;\n",
      ">H0974 048503/048504, ,subunit 2, 95 residues;\n",
      ">H0980 Q3KP22-3 Q8NHR7, Human, subunit 1, 111 residues;\n",
      ">H0980 Q3KP22-3 Q8NHR7, Human, subunit 2, 52 residues;\n",
      ">H0993 MlaFA, E. coli,subunit 1, 269 residues;\n"
     ]
    }
   ],
   "source": [
    "cat casp13 | grep \";$\""
   ]
  },
  {
   "cell_type": "markdown",
   "metadata": {},
   "source": [
    "#### 2.3 (2 points) What is the output of the following command?\n",
    "cat casp13.txt | grep \";$\" | grep 1 | wc -l"
   ]
  },
  {
   "cell_type": "code",
   "execution_count": null,
   "metadata": {},
   "outputs": [],
   "source": []
  },
  {
   "cell_type": "markdown",
   "metadata": {},
   "source": [
    "#### 2.4 (2 points) What is the output of the following command?\n",
    "cat casp13.txt | grep \";$\" | grep E | wc -l"
   ]
  },
  {
   "cell_type": "code",
   "execution_count": null,
   "metadata": {},
   "outputs": [],
   "source": []
  },
  {
   "cell_type": "markdown",
   "metadata": {},
   "source": [
    "#### 2.5 (2 points) What is the output of the following command?\n",
    "cat casp13.txt | grep \"^>\" | grep O | wc -l"
   ]
  },
  {
   "cell_type": "code",
   "execution_count": null,
   "metadata": {},
   "outputs": [],
   "source": []
  },
  {
   "cell_type": "code",
   "execution_count": null,
   "metadata": {},
   "outputs": [],
   "source": []
  },
  {
   "cell_type": "markdown",
   "metadata": {},
   "source": [
    "#### 2.6 (2 points) What is the output of the following command?\n",
    "cat casp13.txt | grep \"^>\" | grep 4 | wc -l"
   ]
  },
  {
   "cell_type": "code",
   "execution_count": null,
   "metadata": {},
   "outputs": [],
   "source": []
  },
  {
   "cell_type": "markdown",
   "metadata": {},
   "source": [
    "#### 2.7 (2 points) What is the output of the following command?\n",
    "cat fastq.txt | grep \"@.*6\" | wc -l"
   ]
  },
  {
   "cell_type": "markdown",
   "metadata": {},
   "source": [
    "# 3. all from question 3 of same type:"
   ]
  },
  {
   "cell_type": "markdown",
   "metadata": {},
   "source": [
    "#### 3.1 (3 points) What is the output of the following command?\n",
    "cat casp13.txt | awk -F ’,’ ’$0 ~ /;$/ {print $3}’ | sort -u | wc -l"
   ]
  },
  {
   "cell_type": "code",
   "execution_count": null,
   "metadata": {},
   "outputs": [],
   "source": []
  },
  {
   "cell_type": "markdown",
   "metadata": {},
   "source": [
    "#### 3.2 (3 points) What is the output of the following command?\n",
    "cat casp13.txt | awk -F ’,’ ’$0 ~ /;$/ {print $1}’ | sort -u | wc -l"
   ]
  },
  {
   "cell_type": "code",
   "execution_count": null,
   "metadata": {},
   "outputs": [],
   "source": []
  },
  {
   "cell_type": "markdown",
   "metadata": {},
   "source": [
    "#### 3.3 (3 points) What is the output of the following command?\n",
    "cat casp13.txt | awk -F ’,’ ’$0 ~ /;$/ {if($2 ~ /H/) print $2}’ | sort -u | wc -l"
   ]
  },
  {
   "cell_type": "code",
   "execution_count": null,
   "metadata": {},
   "outputs": [],
   "source": []
  },
  {
   "cell_type": "markdown",
   "metadata": {},
   "source": [
    "#### 3.4 (3 points) What is the output of the following command?\n",
    "cat casp13.txt | awk -F ’,’ ’$0 ~ /;$/ {if($2 ~ /E/) print $2}’ | sort -u | wc -l"
   ]
  },
  {
   "cell_type": "code",
   "execution_count": null,
   "metadata": {},
   "outputs": [],
   "source": []
  },
  {
   "cell_type": "markdown",
   "metadata": {},
   "source": [
    "#### 3.5 (3 points) What is the output of the following command?\n",
    "cat casp13.txt | awk -F ’,’ ’$0 ~ /^>/ {print $3}’ | sort -u | wc -l"
   ]
  },
  {
   "cell_type": "code",
   "execution_count": null,
   "metadata": {},
   "outputs": [],
   "source": []
  },
  {
   "cell_type": "markdown",
   "metadata": {},
   "source": [
    "#### 3.6 (3 points) What is the output of the following command?\n",
    "cat casp13.txt | awk -F ’,’ ’$0 ~ /^>/ {print $1}’ | sort -u | wc -l"
   ]
  },
  {
   "cell_type": "code",
   "execution_count": null,
   "metadata": {},
   "outputs": [],
   "source": []
  },
  {
   "cell_type": "markdown",
   "metadata": {},
   "source": []
  },
  {
   "cell_type": "code",
   "execution_count": null,
   "metadata": {},
   "outputs": [],
   "source": []
  },
  {
   "cell_type": "markdown",
   "metadata": {},
   "source": [
    "# 4 SED\n",
    "#### 4.1 (3 points) What is the output of the following command?\n",
    "    \n",
    "    cat casp13.txt | sed ’/;$/d’ | sed ’/^V/d’ | wc -l\n",
    "    \n",
    "* sed (-n not used -> all lines are printed to std out\n",
    "* sed delete all lines that match the following pattern ;$ \n",
    "    - -> so every line that ends with ; is deleted\n",
    "* sed delete all lines starting with a capital V\n",
    "* wc -l counts all remaining lines: 11"
   ]
  },
  {
   "cell_type": "code",
   "execution_count": 14,
   "metadata": {},
   "outputs": [
    {
     "name": "stdout",
     "output_type": "stream",
     "text": [
      ">H0974 048503/048504, , subunit 1, 72 residues ; \n",
      "MSYDYSSLLGKITEKCGTQYNFAIAMGLSERTVSLKLNDKVTWKDDEILKAVHVLELNPQ \n",
      "DIPKYFFNAKVH \n",
      ">H0974 048503/048504, , subunit 2, 95 residues ; \n",
      "MQTDTSNRLKQIMAERNLKQVDILNLSIPFQKKFGIKLSKSTLSQYVNSVQSPDQNRIYL \n",
      "LAKTLGVSEAWLMGFDVPMVESSKIENDSHHHHHH \n",
      ">H0980 Q3KP22-3 Q8NHR7, Human, subunit 1, 111 residues; \n",
      "SLKPFTYPFPETRFLHAGPNVYKFKIRYGKSIRGEEIENKEVITQELEDSVRVVLGNLDN \n",
      "LQPFATEHFIVFPYKSKWERVSHLKFKHGEIILIPYPFVFTLYVEMKWFHE \n",
      ">H0980 Q3KP22-3 Q8NHR7, Human, subunit 2, 52 residues;\n",
      "VNNMVTGYISIDAMKKFLGELHDFIPGTSGYLAYHVQNEINMSAIKNKLKRK \n",
      ">H0993 MlaFA, E. coli, subunit 1, 269 residues;\n",
      "MEQSVANLVDMRDVSFTRGNRCIFDNISLTVPRGKITAIMGPSGIGKTTLLRLIGGQIAP \n",
      "DHGEILFDGENIPAMSRSRLYTVRKRMSMLFQSGALFTDMNVFDNVAYPLREHTQLPAPL \n",
      "LHSTVMMKLEAVGLRGAAKLMPSELSGGMARRAALARAIALEPDLIMFDEPFVGQDPITM \n",
      "GVLVKLISELNSALGVTCVVVSHDVPEVLSIADHAWILADKKIVAHGSAQALQANPDPRV \n",
      "RQFLDGIADGPVPFRYPAGDYHADLLPGS\n"
     ]
    }
   ],
   "source": [
    "cat casp13.txt "
   ]
  },
  {
   "cell_type": "code",
   "execution_count": 25,
   "metadata": {},
   "outputs": [
    {
     "name": "stdout",
     "output_type": "stream",
     "text": [
      "      11\n"
     ]
    }
   ],
   "source": [
    "cat casp13.txt | sed '/;$/d' | sed '/^V/d' | wc -l"
   ]
  },
  {
   "cell_type": "code",
   "execution_count": 29,
   "metadata": {},
   "outputs": [
    {
     "name": "stdout",
     "output_type": "stream",
     "text": [
      "      11\n"
     ]
    }
   ],
   "source": [
    "# dont need the pipe\n",
    "cat casp13.txt | sed -e '/;$/d' -e '/^V/d' | wc -l"
   ]
  },
  {
   "cell_type": "markdown",
   "metadata": {},
   "source": [
    "#### 4.2 \n",
    "(3 points) What is the output of the following command?\n",
    "        \n",
    "        cat casp13.txt | sed ’/;$/d’ | sed ’/^M/d’ | wc -l\n",
    "* same as aboce delete all lines containing   ; in the end\n",
    "* then delete all lines that start with caps M\n",
    "* count remaining lines - because d doenst feed deleted stuff to stdout\n"
   ]
  },
  {
   "cell_type": "code",
   "execution_count": 32,
   "metadata": {},
   "outputs": [
    {
     "name": "stdout",
     "output_type": "stream",
     "text": [
      "       9\n"
     ]
    }
   ],
   "source": [
    "cat casp13.txt | sed -e '/;$/d' | sed -e '/^M/d' | wc -l"
   ]
  },
  {
   "cell_type": "code",
   "execution_count": 33,
   "metadata": {},
   "outputs": [
    {
     "name": "stdout",
     "output_type": "stream",
     "text": [
      "       9\n"
     ]
    }
   ],
   "source": [
    "cat casp13.txt | sed -e '/;$/d'  -e '/^M/d' | wc -l"
   ]
  },
  {
   "cell_type": "markdown",
   "metadata": {},
   "source": [
    "#### 4.3 \n",
    "\n",
    "(3 points) What is the output of the following command?\n",
    "\n",
    "    cat casp13.txt | sed ’/;$/d’ | sed ’/^L/d’ | wc -l\n",
    "    \n",
    "* remove all lines ending in ;\n",
    "* then remove all lines starting with caps L\n",
    "* count remaining line\n"
   ]
  },
  {
   "cell_type": "code",
   "execution_count": 34,
   "metadata": {},
   "outputs": [
    {
     "name": "stdout",
     "output_type": "stream",
     "text": [
      "       9\n"
     ]
    }
   ],
   "source": [
    "cat casp13.txt | sed -e '/;$/d' | sed -e '/^L/d' | wc -l"
   ]
  },
  {
   "cell_type": "code",
   "execution_count": 35,
   "metadata": {},
   "outputs": [
    {
     "name": "stdout",
     "output_type": "stream",
     "text": [
      "       9\n"
     ]
    }
   ],
   "source": [
    "cat casp13.txt | sed -e '/;$/d'  -e '/^L/d' | wc -l"
   ]
  },
  {
   "cell_type": "markdown",
   "metadata": {},
   "source": [
    "#### 4.4 \n",
    "(3 points) What is the output of the following command?\n",
    "\n",
    "    cat casp13.txt | sed ’/;$/d’ | sed ’/^D/d’ | wc -l"
   ]
  },
  {
   "cell_type": "code",
   "execution_count": 36,
   "metadata": {},
   "outputs": [
    {
     "name": "stdout",
     "output_type": "stream",
     "text": [
      "      10\n"
     ]
    }
   ],
   "source": [
    "cat casp13.txt | sed -e '/;$/d' | sed -e '/^D/d' | wc -l"
   ]
  },
  {
   "cell_type": "code",
   "execution_count": 38,
   "metadata": {},
   "outputs": [
    {
     "name": "stdout",
     "output_type": "stream",
     "text": [
      "      10\n"
     ]
    }
   ],
   "source": [
    "cat casp13.txt | sed -e '/;$/d' -e '/^D/d' | wc -l"
   ]
  },
  {
   "cell_type": "markdown",
   "metadata": {},
   "source": [
    "#### 4.5 (3 points) What is the output of the following command?\n",
    "cat casp13.txt | sed ’/^>/d’ | sed ’/^V/d’ | wc -l\n"
   ]
  },
  {
   "cell_type": "code",
   "execution_count": null,
   "metadata": {},
   "outputs": [],
   "source": []
  },
  {
   "cell_type": "markdown",
   "metadata": {},
   "source": [
    "#### 4.6 (3 points) What is the output of the following command?\n",
    "cat casp13.txt | sed ’/^>/d’ | sed ’/^M/d’ | wc -l"
   ]
  },
  {
   "cell_type": "code",
   "execution_count": null,
   "metadata": {},
   "outputs": [],
   "source": []
  },
  {
   "cell_type": "code",
   "execution_count": null,
   "metadata": {},
   "outputs": [],
   "source": [
    "####"
   ]
  },
  {
   "cell_type": "markdown",
   "metadata": {},
   "source": [
    "# All exams that had the following file:"
   ]
  },
  {
   "cell_type": "code",
   "execution_count": null,
   "metadata": {},
   "outputs": [],
   "source": [
    "@SRR5109807 .811 811/1\n",
    "GGCCTTGGAGGATGCATGGTTCTGGCATCTGCTTCTGGTGAGAGCCTCAGGAAACATTTATTCA\n",
    "+\n",
    "AAAA ? C11BC ? AB1B1B3F1BAG1EHH1AA13DADDDG1AGHHFHHGEBA0FA0FGHFGFGFGB\n",
    "@SRR5109807 .812 812/1\n",
    "GGCCTTGTAGGATGCATGGTTCTGGCATCTGCTTCTGGTGAGAGCCTCAGGAAACATTTATTCA\n",
    "+\n",
    "@BBABFFFFFFFGGFGGGGGGGGHHHHHHHHHHHHHHHHHHHHHHHHHGHHGGHHHHHHFGHHF\n",
    "@SRR5109807 .813 813/1\n",
    "GGCCTTGTAGGATGCATGGTTCTGGCATCTGCTTCTGGTGAGAGCCTCAGGAAACATTTATTCA\n",
    "+\n",
    "BB@ ? AF4FFFBBGGGGGDCGGGFGHBFEHFHHHHHCFHHCF25BGHGGEC3FHGHHHGHFFGEG\n",
    "@SRR5109807 .814 814/1\n",
    "GGCCTTGTAGGATGCATGGTTCTGGCATCTGCTTCTGGTGAGAGCCTCAGGAAACATTTATTCA\n",
    "+\n",
    "AAABBFFFFFFFGGGGGGGGGGHHHHHHHHHGHHHHHGBGHHGHHHHHHHHHHHHHHHHHGHHH\n",
    "@SRR5109807 .815 815/1\n",
    "GGCCTTGTAGGATGCATGGTTCTGGCATCTGCTTCTGGTGAGAGCCTCAGGAAACATTTATTCA\n",
    "+\n",
    "ABBCCFFFFFFFGGGGGGGGGGHHHHHHHHHHHHHHHHGFHHHHHHHHHHHHHHHGHIHHHHHH"
   ]
  },
  {
   "cell_type": "markdown",
   "metadata": {},
   "source": [
    "1. (2 points) What is the output of the following two commands?\n",
    "\n",
    "    (a) cat fastq.txt | sort | cut -c 1-11 | tail -4 | uniq | wc -l\n",
    "    \n",
    "* sort sorts first all symbols and then all letters\n",
    "* then we cut characters 1-11\n",
    "* and pipe the last 4 into uniq\n",
    "* uniq pipes only unique lines into wc -l\n",
    "* thus **result must be 1**"
   ]
  },
  {
   "cell_type": "code",
   "execution_count": 3,
   "metadata": {},
   "outputs": [
    {
     "name": "stdout",
     "output_type": "stream",
     "text": [
      "+ \n",
      "+ \n",
      "+ \n",
      "+ \n",
      "+ \n",
      "@BBABFFFFFF\n",
      "@SRR5109807\n",
      "@SRR5109807\n",
      "@SRR5109807\n",
      "@SRR5109807\n",
      "@SRR5109807\n",
      "AAAA?C11BC?\n",
      "AAABBFFFFFF\n",
      "ABBCCFFFFFF\n",
      "BB@?AF4FFFB\n",
      "GGCCTTGGAGG\n",
      "GGCCTTGTAGG\n",
      "GGCCTTGTAGG\n",
      "GGCCTTGTAGG\n",
      "GGCCTTGTAGG\n"
     ]
    }
   ],
   "source": [
    "cat fastq.txt | sort | cut -c 1-11 "
   ]
  },
  {
   "cell_type": "markdown",
   "metadata": {},
   "source": [
    "# (b) \n",
    "    cat fastq.txt | cut -c 1-11 | sort | tail -4 | uniq | wc -l\n",
    "    \n",
    "* cutting character 1-11 \n",
    "* sort all of them: that is symbols first and then abc\n",
    "* then pipe last 4 lines into wc\n",
    "GGCCTTGTAGG\n",
    "\n",
    "* counts dequadruplicated lines = 1"
   ]
  },
  {
   "cell_type": "code",
   "execution_count": 5,
   "metadata": {},
   "outputs": [
    {
     "name": "stdout",
     "output_type": "stream",
     "text": [
      "       1\n"
     ]
    }
   ],
   "source": [
    "cat fastq.txt | cut -c 1-11 | sort | tail -4 | uniq | wc -l"
   ]
  },
  {
   "cell_type": "markdown",
   "metadata": {},
   "source": [
    "1. (2 points) What is the output of the following two commands?\n",
    "\n",
    "    (a) cat fastq.txt | cut -c 1-2 | sort -u | tail -5 | wc -l\n",
    "    \n",
    "    (b) cat fastq.txt | cut -c 1-2 | tail -5 | sort -u | wc -l"
   ]
  },
  {
   "cell_type": "markdown",
   "metadata": {},
   "source": [
    "### 1. (2 points) What is the output of the following two commands?\n",
    "### (a) \n",
    "       cat fastq.txt | cut -c 1-3 | sort -u | tail -5 | wc -l\n"
   ]
  },
  {
   "cell_type": "code",
   "execution_count": null,
   "metadata": {},
   "outputs": [],
   "source": [
    "@SR\n",
    "GGC\n",
    "+\n",
    "AAA\n",
    "@BB\n",
    "BB@\n",
    "ABB"
   ]
  },
  {
   "cell_type": "markdown",
   "metadata": {},
   "source": [
    "### (b) \n",
    "       cat fastq.txt | cut -c 1-3 | tail -5 | sort -u | wc -l"
   ]
  },
  {
   "cell_type": "code",
   "execution_count": null,
   "metadata": {},
   "outputs": [],
   "source": [
    "AAA\n",
    "@SR\n",
    "GGC\n",
    "+\n",
    "ABB"
   ]
  },
  {
   "cell_type": "markdown",
   "metadata": {},
   "source": [
    "### 2. (2 points) What is the output of the following command?\n",
    "    cat fastq.txt | grep \"@.*6\" | wc -l\n",
    "    \n",
    "* grep prints the line that  matches the pattern \n",
    "    - if ther is an @ followed by a 6 \n",
    "        - between @ and 6 can be *any number of characters* 0 and more"
   ]
  },
  {
   "cell_type": "code",
   "execution_count": 6,
   "metadata": {},
   "outputs": [
    {
     "name": "stdout",
     "output_type": "stream",
     "text": [
      "       0\n"
     ]
    }
   ],
   "source": [
    "cat fastq.txt | grep '@.*6' | wc -l"
   ]
  },
  {
   "cell_type": "markdown",
   "metadata": {},
   "source": [
    "### 2. (2 points) What is the output of the following command?\n",
    "    cat fastq.txt | grep \"^.A\" | wc -l\n",
    "    \n",
    "counts all lines that contain a capital A in second postion (matched by grep)"
   ]
  },
  {
   "cell_type": "code",
   "execution_count": 8,
   "metadata": {},
   "outputs": [
    {
     "name": "stdout",
     "output_type": "stream",
     "text": [
      "       2\n"
     ]
    }
   ],
   "source": [
    "cat fastq.txt | grep \"^.A\" | wc -l"
   ]
  },
  {
   "cell_type": "markdown",
   "metadata": {},
   "source": [
    "### 2. (2 points) What is the output of the following command?\n",
    "    cat fastq.txt | grep \"^..B\" | wc -l\n",
    "    \n",
    "*    counts all the lines that have a capital B in 3rd position"
   ]
  },
  {
   "cell_type": "code",
   "execution_count": 19,
   "metadata": {},
   "outputs": [
    {
     "name": "stdout",
     "output_type": "stream",
     "text": [
      "       2\n"
     ]
    }
   ],
   "source": [
    "cat fastq.txt | grep \"^..B\" | wc -l"
   ]
  },
  {
   "cell_type": "markdown",
   "metadata": {},
   "source": [
    "### 3. (3 points) What is the output of the following command?\n",
    "    cat fastq.txt | awk ’$1 ~ /^@/ {if(!a[$1]) {a[$1]=1; n++;}}END{print n}’\n",
    "    \n",
    "- rember the squiggle ~ is used when the regex is to be applied to a certain string:\n",
    "in that case: field 1 $1 is applied to the string 1. (fields are sepparated by white space)\n",
    "\n",
    "- for each time the field one starts with an @\n",
    "    - it executes the {}\n",
    "    \n",
    "- breaking it up: ```  {if(!a[$1]) {a[$1]=1; n++;}}```\n",
    "    if (!a[$1])"
   ]
  },
  {
   "cell_type": "code",
   "execution_count": 18,
   "metadata": {},
   "outputs": [
    {
     "name": "stdout",
     "output_type": "stream",
     "text": [
      "2\n"
     ]
    }
   ],
   "source": [
    "cat fastq.txt | awk '$1 ~/^@/ {if(!a[$1]) {a[$1]=1; n++}}END{print n}'"
   ]
  },
  {
   "cell_type": "code",
   "execution_count": null,
   "metadata": {},
   "outputs": [],
   "source": []
  },
  {
   "cell_type": "markdown",
   "metadata": {},
   "source": [
    "### 3. (3 points) What is the output of the following command?\n",
    "    cat fastq.txt | awk ’BEGIN{n=0} $1 ~ /^.A/ {if($1 ~ /\\?/) n++}END{print n}’\n",
    "    \n",
    "    \n",
    "*  breaking it up: ```awk ’BEGIN{n=0} ``` define var n set to 0\n",
    "* in the string of field 1 ```($1) ~``` (the squiggle applies that the reg expression to the string mentioned before it)\n",
    "    - match the regexp ^.A \n",
    "        - cap A in second position (any letter before)\n",
    "* if $1 (field 1) contains the (escaped) ? so actually that character:\n",
    "    - increase n by 1\n",
    "* after applying all this in the END print n\n",
    "  - n shows the number of times the criteria were met."
   ]
  },
  {
   "cell_type": "code",
   "execution_count": 10,
   "metadata": {},
   "outputs": [
    {
     "name": "stdout",
     "output_type": "stream",
     "text": [
      "1\n"
     ]
    }
   ],
   "source": [
    "cat fastq.txt | awk 'BEGIN{n=0} $1 ~/^.A/ {if($1 ~/\\?/) n++}END{print n}'"
   ]
  },
  {
   "cell_type": "markdown",
   "metadata": {},
   "source": [
    "### 3. (3 points) What is the output of the following command?\n",
    "    cat fastq.txt | awk ’BEGIN{n=0} $1 ~ /^..B/ {if($1 ~ /@/) n++}END{print n}’\n",
    "    \n",
    "*    if the field 1 ```($1) ``` matches the regular expression:\n",
    "    - capital B in pos 3\n",
    "* if there is also an @ in field 1 ($1) as well:\n",
    "    - increase the previously defined varable n (starts at 0)\n",
    "* in the end (after executing the body) print the number.\n",
    "    - this number matches the number of times a B is in 3rd pos AND the field $1 contains an @"
   ]
  },
  {
   "cell_type": "code",
   "execution_count": 20,
   "metadata": {},
   "outputs": [
    {
     "name": "stdout",
     "output_type": "stream",
     "text": [
      "1\n"
     ]
    }
   ],
   "source": [
    "cat fastq.txt | awk 'BEGIN{n=0} $1 ~/^..B/ {if($1 ~/@/) n++}END{print n}'"
   ]
  },
  {
   "cell_type": "markdown",
   "metadata": {},
   "source": [
    "### 4.1 sed\n",
    "(3 points) What is the output of the following command?\n",
    "    cat fastq.txt | sed ’/^@/d’ | wc -l\n",
    "    \n",
    "only sed -n surpressed print of the lines where the pattern doesn't match\n",
    "thus also lines that are not worked on by the regex are piped to wc -l\n",
    "* not counting the lines starting with @ we are left with 14 lines\n",
    "* d does not print the deleted lines to std out : that is why"
   ]
  },
  {
   "cell_type": "code",
   "execution_count": 6,
   "metadata": {},
   "outputs": [
    {
     "name": "stdout",
     "output_type": "stream",
     "text": [
      "      14\n"
     ]
    }
   ],
   "source": [
    "cat fastq.txt | sed '/^@/d' | wc -l"
   ]
  },
  {
   "cell_type": "code",
   "execution_count": 7,
   "metadata": {},
   "outputs": [
    {
     "name": "stdout",
     "output_type": "stream",
     "text": [
      "@SRR5109807 .811 811/1 \n",
      "GGCCTTGGAGGATGCATGGTTCTGGCATCTGCTTCTGGTGAGAGCCTCAGGAAACATTTATTCA \n",
      "+ \n",
      "AAAA?C11BC?AB1B1B3F1BAG1EHH1AA13DADDDG1AGHHFHHGEBA0FA0FGHFGFGFGB \n",
      "@SRR5109807 .812 812/1 \n",
      "GGCCTTGTAGGATGCATGGTTCTGGCATCTGCTTCTGGTGAGAGCCTCAGGAAACATTTATTCA \n",
      "+ \n",
      "@BBABFFFFFFFGGFGGGGGGGGHHHHHHHHHHHHHHHHHHHHHHHHHGHHGGHHHHHHFGHHF \n",
      "@SRR5109807 .813 813/1 \n",
      "GGCCTTGTAGGATGCATGGTTCTGGCATCTGCTTCTGGTGAGAGCCTCAGGAAACATTTATTCA \n",
      "+ \n",
      "BB@?AF4FFFBBGGGGGDCGGGFGHBFEHFHHHHHCFHHCF25BGHGGEC3FHGHHHGHFFGEG \n",
      "@SRR5109807 .814 814/1 \n",
      "GGCCTTGTAGGATGCATGGTTCTGGCATCTGCTTCTGGTGAGAGCCTCAGGAAACATTTATTCA \n",
      "+ \n",
      "AAABBFFFFFFFGGGGGGGGGGHHHHHHHHHGHHHHHGBGHHGHHHHHHHHHHHHHHHHHGHHH \n",
      "@SRR5109807 .815 815/1 \n",
      "GGCCTTGTAGGATGCATGGTTCTGGCATCTGCTTCTGGTGAGAGCCTCAGGAAACATTTATTCA \n",
      "+ \n",
      "ABBCCFFFFFFFGGGGGGGGGGHHHHHHHHHHHHHHHHGFHHHHHHHHHHHHHHHGHIHHHHHH\n"
     ]
    }
   ],
   "source": [
    "cat fastq.txt"
   ]
  },
  {
   "cell_type": "markdown",
   "metadata": {},
   "source": [
    "### 4.2 sed\n",
    "(3 points) What is the output of the following command?\n",
    "    cat fastq.txt | sed -e ’/^.A/d’ | sed -e ’/\\?/d’ | wc -l\n",
    "    \n",
    "*  sed -e when several cmds are used;\n",
    "     -e command\n",
    "             Append the editing commands specified by the command argument to the list of\n",
    "             commands.\n",
    "\n",
    "* delete any line that has a capital A in second pos\n",
    "* delete any line that has a '?' symbol anywere in the line\n",
    "* remaining lines are counted because -n was not used\n",
    "\n",
    "when not counting lines that contain cap A in second pos and also no ? i count 17 lines"
   ]
  },
  {
   "cell_type": "code",
   "execution_count": 11,
   "metadata": {},
   "outputs": [
    {
     "name": "stdout",
     "output_type": "stream",
     "text": [
      "      17\n"
     ]
    }
   ],
   "source": [
    "cat fastq.txt | sed -e '/^.A/d' | sed -e '/\\?/d' | wc -l"
   ]
  },
  {
   "cell_type": "code",
   "execution_count": 12,
   "metadata": {},
   "outputs": [
    {
     "name": "stdout",
     "output_type": "stream",
     "text": [
      "      17\n"
     ]
    }
   ],
   "source": [
    "# sed -e can be used without the pipe\n",
    "cat fastq.txt | sed -e '/^.A/d' -e '/\\?/d' | wc -l"
   ]
  },
  {
   "cell_type": "markdown",
   "metadata": {},
   "source": [
    "### 4.3\n",
    "(3 points) What is the output of the following command?\n",
    "\n",
    "    cat fastq.txt | sed -e ’/^.A/d’ | sed -e ’/\\?/d’ | wc -l"
   ]
  },
  {
   "cell_type": "code",
   "execution_count": null,
   "metadata": {},
   "outputs": [],
   "source": []
  }
 ],
 "metadata": {
  "kernelspec": {
   "display_name": "Bash",
   "language": "bash",
   "name": "bash"
  },
  "language_info": {
   "codemirror_mode": "shell",
   "file_extension": ".sh",
   "mimetype": "text/x-sh",
   "name": "bash"
  }
 },
 "nbformat": 4,
 "nbformat_minor": 2
}
