{
 "cells": [
  {
   "cell_type": "markdown",
   "metadata": {},
   "source": [
    "# Querlesen: all exercises of all exams I got a hold of ;)\n",
    "casp13.txt"
   ]
  },
  {
   "cell_type": "code",
   "execution_count": null,
   "metadata": {},
   "outputs": [],
   "source": [
    ">H0974 048503/048504, , subunit 1, 72 residues ; \n",
    "MSYDYSSLLGKITEKCGTQYNFAIAMGLSERTVSLKLNDKVTWKDDEILKAVHVLELNPQ \n",
    "DIPKYFFNAKVH \n",
    ">H0974 048503/048504 , subunit 2, 95 residues ; \n",
    "MQTDTSNRLKQIMAERNLKQVDILNLSIPFQKKFGIKLSKSTLSQYVNSVQSPDQNRIYL \n",
    "LAKTLGVSEAWLMGFDVPMVESSKIENDSHHHHHH \n",
    ">H0980 Q3KP22-3 Q8NHR7, Human, subunit 1, 111 residues; \n",
    "SLKPFTYPFPETRFLHAGPNVYKFKIRYGKSIRGEEIENKEVITQELEDSVRVVLGNLDN \n",
    "LQPFATEHFIVFPYKSKWERVSHLKFKHGEIILIPYPFVFTLYVEMKWFHE \n",
    ">H0980 Q3KP22-3 Q8NHR7, Human, subunit 2, 52 residues;\n",
    "VNNMVTGYISIDAMKKFLGELHDFIPGTSGYLAYHVQNEINMSAIKNKLKRK \n",
    ">H0993 MlaFA, E. coli, subunit 1, 269 residues;\n",
    "MEQSVANLVDMRDVSFTRGNRCIFDNISLTVPRGKITAIMGPSGIGKTTLLRLIGGQIAP \n",
    "DHGEILFDGENIPAMSRSRLYTVRKRMSMLFQSGALFTDMNVFDNVAYPLREHTQLPAPL \n",
    "LHSTVMMKLEAVGLRGAAKLMPSELSGGMARRAALARAIALEPDLIMFDEPFVGQDPITM \n",
    "GVLVKLISELNSALGVTCVVVSHDVPEVLSIADHAWILADKKIVAHGSAQALQANPDPRV \n",
    "RQFLDGIADGPVPFRYPAGDYHADLLPGS "
   ]
  },
  {
   "cell_type": "markdown",
   "metadata": {},
   "source": [
    "#### 1. (2 points) What is the output of the following two commands?\n",
    "### 1.1\n",
    "### (a) cat casp13.txt | sort | cut -c 1-2 | sort -u | head -2 | wc -l\n",
    "### (b) cat casp13.txt | sort | cut -c 1-2 | head -2 | sort -u | wc -l"
   ]
  },
  {
   "cell_type": "markdown",
   "metadata": {},
   "source": [
    "### 1.2\n",
    "### (a) cat casp13.txt | sort | cut -c 1-3 | sort -u | head -2 | wc -l\n",
    "### (b) cat casp13.txt | sort | cut -c 1-3 | head -2 | sort -u | wc -l"
   ]
  },
  {
   "cell_type": "markdown",
   "metadata": {},
   "source": [
    "### 1.3\n",
    "### (a) cat casp13.txt | sort | cut -c 1-4 | sort -u | head -2 | wc -l\n",
    "### (b) cat casp13.txt | sort | cut -c 1-4 | head -2 | sort -u | wc -l"
   ]
  },
  {
   "cell_type": "markdown",
   "metadata": {},
   "source": [
    "### 1.4\n",
    "### (a) cat casp13.txt | sort | cut -c 1-5 | sort -u | head -2 | wc -l\n",
    "### (b) cat casp13.txt | sort | cut -c 1-5 | head -2 | sort -u | wc -l\n"
   ]
  },
  {
   "cell_type": "markdown",
   "metadata": {},
   "source": [
    "### 1.5\n",
    "### (a) cat casp13.txt | sort | cut -c 1-6 | sort -u | head -2 | wc -l\n",
    "### (b) cat casp13.txt | sort | cut -c 1-6 | head -2 | sort -u | wc -l"
   ]
  },
  {
   "cell_type": "markdown",
   "metadata": {},
   "source": [
    "### 1.6\n",
    "### (a) cat casp13.txt | sort | cut -c 1-7 | sort -u | head -2 | wc -l\n",
    "### (b) cat casp13.txt | sort | cut -c 1-7 | head -2 | sort -u | wc -l\n"
   ]
  },
  {
   "cell_type": "code",
   "execution_count": null,
   "metadata": {},
   "outputs": [],
   "source": [
    "@SRR5109807 .811 811/1\n",
    "GGCCTTGGAGGATGCATGGTTCTGGCATCTGCTTCTGGTGAGAGCCTCAGGAAACATTTATTCA\n",
    "+\n",
    "AAAA ? C11BC ? AB1B1B3F1BAG1EHH1AA13DADDDG1AGHHFHHGEBA0FA0FGHFGFGFGB\n",
    "@SRR5109807 .812 812/1\n",
    "GGCCTTGTAGGATGCATGGTTCTGGCATCTGCTTCTGGTGAGAGCCTCAGGAAACATTTATTCA\n",
    "+\n",
    "@BBABFFFFFFFGGFGGGGGGGGHHHHHHHHHHHHHHHHHHHHHHHHHGHHGGHHHHHHFGHHF\n",
    "@SRR5109807 .813 813/1\n",
    "GGCCTTGTAGGATGCATGGTTCTGGCATCTGCTTCTGGTGAGAGCCTCAGGAAACATTTATTCA\n",
    "+\n",
    "BB@ ? AF4FFFBBGGGGGDCGGGFGHBFEHFHHHHHCFHHCF25BGHGGEC3FHGHHHGHFFGEG\n",
    "@SRR5109807 .814 814/1\n",
    "GGCCTTGTAGGATGCATGGTTCTGGCATCTGCTTCTGGTGAGAGCCTCAGGAAACATTTATTCA\n",
    "+\n",
    "AAABBFFFFFFFGGGGGGGGGGHHHHHHHHHGHHHHHGBGHHGHHHHHHHHHHHHHHHHHGHHH\n",
    "@SRR5109807 .815 815/1\n",
    "GGCCTTGTAGGATGCATGGTTCTGGCATCTGCTTCTGGTGAGAGCCTCAGGAAACATTTATTCA\n",
    "+\n",
    "ABBCCFFFFFFFGGGGGGGGGGHHHHHHHHHHHHHHHHGFHHHHHHHHHHHHHHHGHIHHHHHH"
   ]
  },
  {
   "cell_type": "markdown",
   "metadata": {},
   "source": [
    "1. (2 points) What is the output of the following two commands?\n",
    "(a) cat fastq.txt | sort | cut -c 1-11 | tail -4 | uniq | wc -l\n",
    "(b) cat fastq.txt | cut -c 1-11 | sort | tail -4 | uniq | wc -l"
   ]
  },
  {
   "cell_type": "markdown",
   "metadata": {},
   "source": [
    "1. (2 points) What is the output of the following two commands?\n",
    "(a) cat fastq.txt | cut -c 1-2 | sort -u | tail -5 | wc -l\n",
    "(b) cat fastq.txt | cut -c 1-2 | tail -5 | sort -u | wc -l"
   ]
  },
  {
   "cell_type": "markdown",
   "metadata": {},
   "source": [
    "### 1. (2 points) What is the output of the following two commands?\n",
    "### (a) \n",
    "       cat fastq.txt | cut -c 1-3 | sort -u | tail -5 | wc -l\n"
   ]
  },
  {
   "cell_type": "code",
   "execution_count": null,
   "metadata": {},
   "outputs": [],
   "source": []
  },
  {
   "cell_type": "markdown",
   "metadata": {},
   "source": [
    "### (b) \n",
    "       cat fastq.txt | cut -c 1-3 | tail -5 | sort -u | wc -l"
   ]
  },
  {
   "cell_type": "code",
   "execution_count": null,
   "metadata": {},
   "outputs": [],
   "source": []
  },
  {
   "cell_type": "markdown",
   "metadata": {},
   "source": [
    "### 2. (2 points) What is the output of the following command?\n",
    "    cat fastq.txt | grep \"@.*6\" | wc -l"
   ]
  },
  {
   "cell_type": "code",
   "execution_count": null,
   "metadata": {},
   "outputs": [],
   "source": []
  },
  {
   "cell_type": "markdown",
   "metadata": {},
   "source": [
    "### 2. (2 points) What is the output of the following command?\n",
    "    cat fastq.txt | grep \"^.A\" | wc -l"
   ]
  },
  {
   "cell_type": "code",
   "execution_count": null,
   "metadata": {},
   "outputs": [],
   "source": []
  },
  {
   "cell_type": "markdown",
   "metadata": {},
   "source": [
    "### 2. (2 points) What is the output of the following command?\n",
    "    cat fastq.txt | grep \"^..B\" | wc -l"
   ]
  },
  {
   "cell_type": "code",
   "execution_count": null,
   "metadata": {},
   "outputs": [],
   "source": []
  },
  {
   "cell_type": "markdown",
   "metadata": {},
   "source": [
    "### 3. (3 points) What is the output of the following command?\n",
    "    cat fastq.txt | awk ’$1 ~ /^@/ {if(!a[$1]) {a[$1]=1; n++;}}END{print n}’"
   ]
  },
  {
   "cell_type": "code",
   "execution_count": null,
   "metadata": {},
   "outputs": [],
   "source": []
  },
  {
   "cell_type": "markdown",
   "metadata": {},
   "source": [
    "### 3. (3 points) What is the output of the following command?\n",
    "    cat fastq.txt | awk ’BEGIN{n=0} $1 ~ /^.A/ {if($1 ~ /\\?/) n++}END{print n}’"
   ]
  },
  {
   "cell_type": "code",
   "execution_count": null,
   "metadata": {},
   "outputs": [],
   "source": []
  },
  {
   "cell_type": "markdown",
   "metadata": {},
   "source": [
    "### 3. (3 points) What is the output of the following command?\n",
    "    cat fastq.txt | awk ’BEGIN{n=0} $1 ~ /^..B/ {if($1 ~ /@/) n++}END{print n}’"
   ]
  },
  {
   "cell_type": "code",
   "execution_count": null,
   "metadata": {},
   "outputs": [],
   "source": []
  },
  {
   "cell_type": "markdown",
   "metadata": {},
   "source": [
    "### 4. (3 points) What is the output of the following command?\n",
    "    cat fastq.txt | sed ’/^@/d’ | wc -l"
   ]
  },
  {
   "cell_type": "code",
   "execution_count": null,
   "metadata": {},
   "outputs": [],
   "source": []
  },
  {
   "cell_type": "markdown",
   "metadata": {},
   "source": [
    "### 4. (3 points) What is the output of the following command?\n",
    "    cat fastq.txt | sed -e ’/^.A/d’ | sed -e ’/\\?/d’ | wc -l"
   ]
  },
  {
   "cell_type": "code",
   "execution_count": null,
   "metadata": {},
   "outputs": [],
   "source": []
  },
  {
   "cell_type": "markdown",
   "metadata": {},
   "source": [
    "### 4. (3 points) What is the output of the following command?\n",
    "    cat fastq.txt | sed -e ’/^.A/d’ | sed -e ’/\\?/d’ | wc -l"
   ]
  },
  {
   "cell_type": "code",
   "execution_count": null,
   "metadata": {},
   "outputs": [],
   "source": []
  }
 ],
 "metadata": {
  "kernelspec": {
   "display_name": "Bash",
   "language": "bash",
   "name": "bash"
  },
  "language_info": {
   "codemirror_mode": "shell",
   "file_extension": ".sh",
   "mimetype": "text/x-sh",
   "name": "bash"
  }
 },
 "nbformat": 4,
 "nbformat_minor": 2
}
